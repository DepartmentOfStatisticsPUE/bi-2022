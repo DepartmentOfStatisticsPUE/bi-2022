{
  "nbformat": 4,
  "nbformat_minor": 0,
  "metadata": {
    "colab": {
      "name": "bi_2021_04_07.ipynb",
      "provenance": [],
      "collapsed_sections": [],
      "authorship_tag": "ABX9TyNKOVCKx7Ac/vUF7CKAlcIt",
      "include_colab_link": true
    },
    "kernelspec": {
      "name": "ir",
      "display_name": "R"
    },
    "language_info": {
      "name": "R"
    }
  },
  "cells": [
    {
      "cell_type": "markdown",
      "metadata": {
        "id": "view-in-github",
        "colab_type": "text"
      },
      "source": [
        "<a href=\"https://colab.research.google.com/github/DepartmentOfStatisticsPUE/bi-2022/blob/main/notebooks/bi_2021_04_07.ipynb\" target=\"_parent\"><img src=\"https://colab.research.google.com/assets/colab-badge.svg\" alt=\"Open In Colab\"/></a>"
      ]
    },
    {
      "cell_type": "markdown",
      "metadata": {
        "id": "CsZF_xU-KSSp"
      },
      "source": [
        "Pobieramy dane z github wykorzystując funkcję `download.file`"
      ]
    },
    {
      "cell_type": "code",
      "metadata": {
        "id": "T5rUCxMQH5ym"
      },
      "source": [
        "download.file(\"https://raw.githubusercontent.com/DepartmentOfStatisticsPUE/bi-2021/main/data/popyt-zajecia-dane.csv\",\n",
        "              \"popyt-dane.csv\")"
      ],
      "execution_count": 1,
      "outputs": []
    },
    {
      "cell_type": "markdown",
      "metadata": {
        "id": "PmaxZ5kOKfoz"
      },
      "source": [
        "Musimy dane wczytać do R"
      ]
    },
    {
      "cell_type": "code",
      "metadata": {
        "colab": {
          "base_uri": "https://localhost:8080/",
          "height": 306
        },
        "id": "PDV62ij6Khya",
        "outputId": "dc41ed14-5121-4f30-9d15-5c959c7bcf48"
      },
      "source": [
        "dane <- read.csv(\"popyt-dane.csv\", stringsAsFactors = FALSE)\n",
        "head(dane)"
      ],
      "execution_count": 2,
      "outputs": [
        {
          "output_type": "display_data",
          "data": {
            "text/html": [
              "<table class=\"dataframe\">\n",
              "<caption>A data.frame: 6 × 14</caption>\n",
              "<thead>\n",
              "\t<tr><th></th><th scope=col>id_popyt</th><th scope=col>id_jednostki</th><th scope=col>waga</th><th scope=col>sek</th><th scope=col>klasa_pr</th><th scope=col>sekc_pkd</th><th scope=col>woj</th><th scope=col>zawod_kod2</th><th scope=col>wolne_miejsca</th><th scope=col>id_cbop</th><th scope=col>jedna_zmiana</th><th scope=col>wymiar_40</th><th scope=col>wolne_miejsca_cbop</th><th scope=col>wolne_miejsca_niepeln_cbop</th></tr>\n",
              "\t<tr><th></th><th scope=col>&lt;int&gt;</th><th scope=col>&lt;chr&gt;</th><th scope=col>&lt;int&gt;</th><th scope=col>&lt;int&gt;</th><th scope=col>&lt;chr&gt;</th><th scope=col>&lt;chr&gt;</th><th scope=col>&lt;int&gt;</th><th scope=col>&lt;int&gt;</th><th scope=col>&lt;int&gt;</th><th scope=col>&lt;int&gt;</th><th scope=col>&lt;lgl&gt;</th><th scope=col>&lt;lgl&gt;</th><th scope=col>&lt;int&gt;</th><th scope=col>&lt;int&gt;</th></tr>\n",
              "</thead>\n",
              "<tbody>\n",
              "\t<tr><th scope=row>1</th><td>1</td><td>a9cc990df6a99ab215a1bc13f51d4825c7d52d18</td><td>1</td><td>1</td><td>D</td><td>O  </td><td>14</td><td>1</td><td>2</td><td>NA</td><td>NA</td><td>NA</td><td>NA</td><td>NA</td></tr>\n",
              "\t<tr><th scope=row>2</th><td>2</td><td>a9cc990df6a99ab215a1bc13f51d4825c7d52d18</td><td>1</td><td>1</td><td>D</td><td>O  </td><td>14</td><td>2</td><td>7</td><td>NA</td><td>NA</td><td>NA</td><td>NA</td><td>NA</td></tr>\n",
              "\t<tr><th scope=row>3</th><td>3</td><td>c9dbaf50890165ebe810aa770de0e9df903dc35b</td><td>6</td><td>1</td><td>D</td><td>O  </td><td>24</td><td>2</td><td>6</td><td>NA</td><td>NA</td><td>NA</td><td>NA</td><td>NA</td></tr>\n",
              "\t<tr><th scope=row>4</th><td>4</td><td>718e0bba42bcec6ed98f9690db6d26cb7b93c880</td><td>1</td><td>1</td><td>D</td><td>R.S</td><td>14</td><td>2</td><td>7</td><td>NA</td><td>NA</td><td>NA</td><td>NA</td><td>NA</td></tr>\n",
              "\t<tr><th scope=row>5</th><td>5</td><td>532a1879a692b9d7bbb7282ba757d028156ef341</td><td>1</td><td>1</td><td>D</td><td>R.S</td><td>14</td><td>2</td><td>6</td><td>NA</td><td>NA</td><td>NA</td><td>NA</td><td>NA</td></tr>\n",
              "\t<tr><th scope=row>6</th><td>6</td><td>0b6b623fa45e257284a3049d097af322841337e3</td><td>1</td><td>1</td><td>D</td><td>R.S</td><td>22</td><td>2</td><td>1</td><td>NA</td><td>NA</td><td>NA</td><td>NA</td><td>NA</td></tr>\n",
              "</tbody>\n",
              "</table>\n"
            ],
            "text/markdown": "\nA data.frame: 6 × 14\n\n| <!--/--> | id_popyt &lt;int&gt; | id_jednostki &lt;chr&gt; | waga &lt;int&gt; | sek &lt;int&gt; | klasa_pr &lt;chr&gt; | sekc_pkd &lt;chr&gt; | woj &lt;int&gt; | zawod_kod2 &lt;int&gt; | wolne_miejsca &lt;int&gt; | id_cbop &lt;int&gt; | jedna_zmiana &lt;lgl&gt; | wymiar_40 &lt;lgl&gt; | wolne_miejsca_cbop &lt;int&gt; | wolne_miejsca_niepeln_cbop &lt;int&gt; |\n|---|---|---|---|---|---|---|---|---|---|---|---|---|---|---|\n| 1 | 1 | a9cc990df6a99ab215a1bc13f51d4825c7d52d18 | 1 | 1 | D | O   | 14 | 1 | 2 | NA | NA | NA | NA | NA |\n| 2 | 2 | a9cc990df6a99ab215a1bc13f51d4825c7d52d18 | 1 | 1 | D | O   | 14 | 2 | 7 | NA | NA | NA | NA | NA |\n| 3 | 3 | c9dbaf50890165ebe810aa770de0e9df903dc35b | 6 | 1 | D | O   | 24 | 2 | 6 | NA | NA | NA | NA | NA |\n| 4 | 4 | 718e0bba42bcec6ed98f9690db6d26cb7b93c880 | 1 | 1 | D | R.S | 14 | 2 | 7 | NA | NA | NA | NA | NA |\n| 5 | 5 | 532a1879a692b9d7bbb7282ba757d028156ef341 | 1 | 1 | D | R.S | 14 | 2 | 6 | NA | NA | NA | NA | NA |\n| 6 | 6 | 0b6b623fa45e257284a3049d097af322841337e3 | 1 | 1 | D | R.S | 22 | 2 | 1 | NA | NA | NA | NA | NA |\n\n",
            "text/latex": "A data.frame: 6 × 14\n\\begin{tabular}{r|llllllllllllll}\n  & id\\_popyt & id\\_jednostki & waga & sek & klasa\\_pr & sekc\\_pkd & woj & zawod\\_kod2 & wolne\\_miejsca & id\\_cbop & jedna\\_zmiana & wymiar\\_40 & wolne\\_miejsca\\_cbop & wolne\\_miejsca\\_niepeln\\_cbop\\\\\n  & <int> & <chr> & <int> & <int> & <chr> & <chr> & <int> & <int> & <int> & <int> & <lgl> & <lgl> & <int> & <int>\\\\\n\\hline\n\t1 & 1 & a9cc990df6a99ab215a1bc13f51d4825c7d52d18 & 1 & 1 & D & O   & 14 & 1 & 2 & NA & NA & NA & NA & NA\\\\\n\t2 & 2 & a9cc990df6a99ab215a1bc13f51d4825c7d52d18 & 1 & 1 & D & O   & 14 & 2 & 7 & NA & NA & NA & NA & NA\\\\\n\t3 & 3 & c9dbaf50890165ebe810aa770de0e9df903dc35b & 6 & 1 & D & O   & 24 & 2 & 6 & NA & NA & NA & NA & NA\\\\\n\t4 & 4 & 718e0bba42bcec6ed98f9690db6d26cb7b93c880 & 1 & 1 & D & R.S & 14 & 2 & 7 & NA & NA & NA & NA & NA\\\\\n\t5 & 5 & 532a1879a692b9d7bbb7282ba757d028156ef341 & 1 & 1 & D & R.S & 14 & 2 & 6 & NA & NA & NA & NA & NA\\\\\n\t6 & 6 & 0b6b623fa45e257284a3049d097af322841337e3 & 1 & 1 & D & R.S & 22 & 2 & 1 & NA & NA & NA & NA & NA\\\\\n\\end{tabular}\n",
            "text/plain": [
              "  id_popyt id_jednostki                             waga sek klasa_pr sekc_pkd\n",
              "1 1        a9cc990df6a99ab215a1bc13f51d4825c7d52d18 1    1   D        O       \n",
              "2 2        a9cc990df6a99ab215a1bc13f51d4825c7d52d18 1    1   D        O       \n",
              "3 3        c9dbaf50890165ebe810aa770de0e9df903dc35b 6    1   D        O       \n",
              "4 4        718e0bba42bcec6ed98f9690db6d26cb7b93c880 1    1   D        R.S     \n",
              "5 5        532a1879a692b9d7bbb7282ba757d028156ef341 1    1   D        R.S     \n",
              "6 6        0b6b623fa45e257284a3049d097af322841337e3 1    1   D        R.S     \n",
              "  woj zawod_kod2 wolne_miejsca id_cbop jedna_zmiana wymiar_40\n",
              "1 14  1          2             NA      NA           NA       \n",
              "2 14  2          7             NA      NA           NA       \n",
              "3 24  2          6             NA      NA           NA       \n",
              "4 14  2          7             NA      NA           NA       \n",
              "5 14  2          6             NA      NA           NA       \n",
              "6 22  2          1             NA      NA           NA       \n",
              "  wolne_miejsca_cbop wolne_miejsca_niepeln_cbop\n",
              "1 NA                 NA                        \n",
              "2 NA                 NA                        \n",
              "3 NA                 NA                        \n",
              "4 NA                 NA                        \n",
              "5 NA                 NA                        \n",
              "6 NA                 NA                        "
            ]
          },
          "metadata": {}
        }
      ]
    },
    {
      "cell_type": "markdown",
      "metadata": {
        "id": "OfL0pmoSLAUx"
      },
      "source": [
        "Załadujmy pakiet `tidyverse` do przetwarzania danych."
      ]
    },
    {
      "cell_type": "code",
      "metadata": {
        "id": "umv3GAO3LEld"
      },
      "source": [
        "library(tidyverse)"
      ],
      "execution_count": null,
      "outputs": []
    },
    {
      "cell_type": "markdown",
      "metadata": {
        "id": "ms_zSWZgLXxp"
      },
      "source": [
        "Porównamy sobie rozkłady liczby ofert pracy w popycie oraz CBOP według wielkości przedsiębiorstwa."
      ]
    },
    {
      "cell_type": "code",
      "metadata": {
        "id": "RrzXV0hvLjmy"
      },
      "source": [
        "dane %>%\n",
        "  ## wybieram dane z popytu\n",
        "  filter(!is.na(id_popyt)) %>%\n",
        "  ## wyliczam ile było wolnych miejsc pracy wykorzystując funkcję count i wagę\n",
        "  count(klasa_pr, wt = waga*wolne_miejsca) %>%\n",
        "  ## obliczam odsetek\n",
        "  mutate(odsetek = n / sum(n)*100,\n",
        "         zrodlo = \"popyt\") -> dane_wielk_popyt\n",
        "\n",
        "dane %>%\n",
        "  ## wybieram dane z CBOP\n",
        "  filter(!is.na(id_cbop)) %>%\n",
        "  ## obliczam ile było wolnych miejsc pracy\n",
        "  count(klasa_pr, wt = wolne_miejsca_cbop) %>%\n",
        "  ## obliczam odsetek\n",
        "  mutate(odsetek = n / sum(n)*100,\n",
        "         zrodlo = \"cbop\") -> dane_wielk_cbop"
      ],
      "execution_count": 4,
      "outputs": []
    },
    {
      "cell_type": "markdown",
      "metadata": {
        "id": "J3wO1Zd2QOPe"
      },
      "source": [
        "Porównuje odsetki między dwoma zbiorami danych"
      ]
    },
    {
      "cell_type": "code",
      "metadata": {
        "colab": {
          "base_uri": "https://localhost:8080/",
          "height": 192
        },
        "id": "uwSjR1rtMZjx",
        "outputId": "9c80fb34-1cec-4002-b554-7921fce8bd83"
      },
      "source": [
        "dane_wielk_popyt %>%\n",
        "  select(-n) %>% \n",
        "  bind_rows(dane_wielk_cbop %>% select(-n)) %>%\n",
        "  spread(zrodlo, odsetek)"
      ],
      "execution_count": 5,
      "outputs": [
        {
          "output_type": "display_data",
          "data": {
            "text/html": [
              "<table class=\"dataframe\">\n",
              "<caption>A data.frame: 3 × 3</caption>\n",
              "<thead>\n",
              "\t<tr><th scope=col>klasa_pr</th><th scope=col>cbop</th><th scope=col>popyt</th></tr>\n",
              "\t<tr><th scope=col>&lt;chr&gt;</th><th scope=col>&lt;dbl&gt;</th><th scope=col>&lt;dbl&gt;</th></tr>\n",
              "</thead>\n",
              "<tbody>\n",
              "\t<tr><td>D</td><td>51.97230</td><td>31.98298</td></tr>\n",
              "\t<tr><td>M</td><td>23.79764</td><td>43.81333</td></tr>\n",
              "\t<tr><td>S</td><td>24.23007</td><td>24.20369</td></tr>\n",
              "</tbody>\n",
              "</table>\n"
            ],
            "text/markdown": "\nA data.frame: 3 × 3\n\n| klasa_pr &lt;chr&gt; | cbop &lt;dbl&gt; | popyt &lt;dbl&gt; |\n|---|---|---|\n| D | 51.97230 | 31.98298 |\n| M | 23.79764 | 43.81333 |\n| S | 24.23007 | 24.20369 |\n\n",
            "text/latex": "A data.frame: 3 × 3\n\\begin{tabular}{lll}\n klasa\\_pr & cbop & popyt\\\\\n <chr> & <dbl> & <dbl>\\\\\n\\hline\n\t D & 51.97230 & 31.98298\\\\\n\t M & 23.79764 & 43.81333\\\\\n\t S & 24.23007 & 24.20369\\\\\n\\end{tabular}\n",
            "text/plain": [
              "  klasa_pr cbop     popyt   \n",
              "1 D        51.97230 31.98298\n",
              "2 M        23.79764 43.81333\n",
              "3 S        24.23007 24.20369"
            ]
          },
          "metadata": {}
        }
      ]
    },
    {
      "cell_type": "markdown",
      "metadata": {
        "id": "sxUxi46PLPIw"
      },
      "source": [
        "Utwórzmy wartości globalne, które wykorzystamy do post-stratyfikacji. Na tę chwilę wykorzystamy wyłącznie informacje o wielkości podmiotu."
      ]
    },
    {
      "cell_type": "code",
      "metadata": {
        "colab": {
          "base_uri": "https://localhost:8080/",
          "height": 192
        },
        "id": "3_OCAbIENRhG",
        "outputId": "b1a7fcf2-7d52-4114-e8a4-afa909798be2"
      },
      "source": [
        "dane_wielk_popyt %>%\n",
        "  select(klasa_pr, pop = n) -> wartosci_globalne\n",
        "\n",
        "wartosci_globalne"
      ],
      "execution_count": 6,
      "outputs": [
        {
          "output_type": "display_data",
          "data": {
            "text/html": [
              "<table class=\"dataframe\">\n",
              "<caption>A data.frame: 3 × 2</caption>\n",
              "<thead>\n",
              "\t<tr><th scope=col>klasa_pr</th><th scope=col>pop</th></tr>\n",
              "\t<tr><th scope=col>&lt;chr&gt;</th><th scope=col>&lt;int&gt;</th></tr>\n",
              "</thead>\n",
              "<tbody>\n",
              "\t<tr><td>D</td><td> 94124</td></tr>\n",
              "\t<tr><td>M</td><td>128940</td></tr>\n",
              "\t<tr><td>S</td><td> 71230</td></tr>\n",
              "</tbody>\n",
              "</table>\n"
            ],
            "text/markdown": "\nA data.frame: 3 × 2\n\n| klasa_pr &lt;chr&gt; | pop &lt;int&gt; |\n|---|---|\n| D |  94124 |\n| M | 128940 |\n| S |  71230 |\n\n",
            "text/latex": "A data.frame: 3 × 2\n\\begin{tabular}{ll}\n klasa\\_pr & pop\\\\\n <chr> & <int>\\\\\n\\hline\n\t D &  94124\\\\\n\t M & 128940\\\\\n\t S &  71230\\\\\n\\end{tabular}\n",
            "text/plain": [
              "  klasa_pr pop   \n",
              "1 D         94124\n",
              "2 M        128940\n",
              "3 S         71230"
            ]
          },
          "metadata": {}
        }
      ]
    },
    {
      "cell_type": "markdown",
      "metadata": {
        "id": "lM4wTleFNlOo"
      },
      "source": [
        "Dodajemy do zbioru danych z centralnej bazy ofert pracy informacje o wartościach globalnych z popytu."
      ]
    },
    {
      "cell_type": "code",
      "metadata": {
        "colab": {
          "base_uri": "https://localhost:8080/",
          "height": 210
        },
        "id": "EYvXwicaNxNC",
        "outputId": "303fd9c2-2463-4839-8494-30300324056e"
      },
      "source": [
        "dane %>% \n",
        "  ## wybieram dane z cbop\n",
        "  filter(!is.na(id_cbop)) %>%\n",
        "  ## ograniczam do wybranych kolumn\n",
        "  select(id_cbop, klasa_pr, jedna_zmiana, wymiar_40, wolne_miejsca_cbop)  %>%\n",
        "  mutate(jedna_zmiana = as.numeric(jedna_zmiana))-> zbior_cbop\n",
        "\n",
        "\n",
        "wagi <- zbior_cbop %>%\n",
        "  ## tworzę podsumowanie według klasy wielkości\n",
        "  group_by(klasa_pr) %>%\n",
        "  ## obliczam średnie i liczebności w danym przekroju\n",
        "  summarise(zmiana = weighted.mean(jedna_zmiana, wolne_miejsca_cbop),\n",
        "            n = sum(wolne_miejsca_cbop)) %>%\n",
        "  ## dodaje wartości globalne z popytu\n",
        "  left_join(wartosci_globalne) %>%\n",
        "  ## obliczam wagę post-stratyfikacyjną\n",
        "  mutate(waga = pop / n)\n",
        "\n",
        "wagi"
      ],
      "execution_count": 7,
      "outputs": [
        {
          "output_type": "stream",
          "name": "stderr",
          "text": [
            "\u001b[1m\u001b[22mJoining, by = \"klasa_pr\"\n"
          ]
        },
        {
          "output_type": "display_data",
          "data": {
            "text/html": [
              "<table class=\"dataframe\">\n",
              "<caption>A tibble: 3 × 5</caption>\n",
              "<thead>\n",
              "\t<tr><th scope=col>klasa_pr</th><th scope=col>zmiana</th><th scope=col>n</th><th scope=col>pop</th><th scope=col>waga</th></tr>\n",
              "\t<tr><th scope=col>&lt;chr&gt;</th><th scope=col>&lt;dbl&gt;</th><th scope=col>&lt;int&gt;</th><th scope=col>&lt;int&gt;</th><th scope=col>&lt;dbl&gt;</th></tr>\n",
              "</thead>\n",
              "<tbody>\n",
              "\t<tr><td>D</td><td>0.2978421</td><td>14783</td><td> 94124</td><td> 6.367043</td></tr>\n",
              "\t<tr><td>M</td><td>0.7596395</td><td> 6769</td><td>128940</td><td>19.048604</td></tr>\n",
              "\t<tr><td>S</td><td>0.7021184</td><td> 6892</td><td> 71230</td><td>10.335171</td></tr>\n",
              "</tbody>\n",
              "</table>\n"
            ],
            "text/markdown": "\nA tibble: 3 × 5\n\n| klasa_pr &lt;chr&gt; | zmiana &lt;dbl&gt; | n &lt;int&gt; | pop &lt;int&gt; | waga &lt;dbl&gt; |\n|---|---|---|---|---|\n| D | 0.2978421 | 14783 |  94124 |  6.367043 |\n| M | 0.7596395 |  6769 | 128940 | 19.048604 |\n| S | 0.7021184 |  6892 |  71230 | 10.335171 |\n\n",
            "text/latex": "A tibble: 3 × 5\n\\begin{tabular}{lllll}\n klasa\\_pr & zmiana & n & pop & waga\\\\\n <chr> & <dbl> & <int> & <int> & <dbl>\\\\\n\\hline\n\t D & 0.2978421 & 14783 &  94124 &  6.367043\\\\\n\t M & 0.7596395 &  6769 & 128940 & 19.048604\\\\\n\t S & 0.7021184 &  6892 &  71230 & 10.335171\\\\\n\\end{tabular}\n",
            "text/plain": [
              "  klasa_pr zmiana    n     pop    waga     \n",
              "1 D        0.2978421 14783  94124  6.367043\n",
              "2 M        0.7596395  6769 128940 19.048604\n",
              "3 S        0.7021184  6892  71230 10.335171"
            ]
          },
          "metadata": {}
        }
      ]
    },
    {
      "cell_type": "markdown",
      "source": [
        "Estymacja z wykorzystaniem tych wag"
      ],
      "metadata": {
        "id": "Xiql2kyLBgOB"
      }
    },
    {
      "cell_type": "code",
      "source": [
        "wagi %>% \n",
        "summarise(y_naive = weighted.mean(zmiana, n),\n",
        "          y_ps = weighted.mean(zmiana, waga*n))"
      ],
      "metadata": {
        "colab": {
          "base_uri": "https://localhost:8080/",
          "height": 129
        },
        "id": "UBLYu2SaBNIt",
        "outputId": "c559dd94-8e75-4a96-c8e4-6715bd6471d0"
      },
      "execution_count": 8,
      "outputs": [
        {
          "output_type": "display_data",
          "data": {
            "text/html": [
              "<table class=\"dataframe\">\n",
              "<caption>A tibble: 1 × 2</caption>\n",
              "<thead>\n",
              "\t<tr><th scope=col>y_naive</th><th scope=col>y_ps</th></tr>\n",
              "\t<tr><th scope=col>&lt;dbl&gt;</th><th scope=col>&lt;dbl&gt;</th></tr>\n",
              "</thead>\n",
              "<tbody>\n",
              "\t<tr><td>0.5056954</td><td>0.5980207</td></tr>\n",
              "</tbody>\n",
              "</table>\n"
            ],
            "text/markdown": "\nA tibble: 1 × 2\n\n| y_naive &lt;dbl&gt; | y_ps &lt;dbl&gt; |\n|---|---|\n| 0.5056954 | 0.5980207 |\n\n",
            "text/latex": "A tibble: 1 × 2\n\\begin{tabular}{ll}\n y\\_naive & y\\_ps\\\\\n <dbl> & <dbl>\\\\\n\\hline\n\t 0.5056954 & 0.5980207\\\\\n\\end{tabular}\n",
            "text/plain": [
              "  y_naive   y_ps     \n",
              "1 0.5056954 0.5980207"
            ]
          },
          "metadata": {}
        }
      ]
    },
    {
      "cell_type": "markdown",
      "metadata": {
        "id": "CEY5ErYOQx3e"
      },
      "source": [
        "Komentarz do uzyskanych wyników:\n",
        "\n",
        "\n",
        "1.   Estymator naiwny (`y_naive`) obliczony wyłącznie na podstawie danych z CBOP informuje, że 51% podmiotów miało wakaty, które są na na jedną zmianę.\n",
        "2.   Estymator post-stratyfikcyjny (`y_ps`) obliczony na danych z CBOP ale uwzględniajac różnicę w rozkłdach ze względu na wielkość firmy informuje, że (prawdopodobinie) odsetek ten w populacji jest wyższy i wynosci 60%.\n",
        "\n",
        "Jeżeli widzą Państwo różnicę w wartościach miedzy `y_naive`, a `y_ps` to oznacza, że zmienna wykorzystana do post-stratyfikacji działa (bo różnicuje populację). Można to sprawdzić licząc wcześniej współczynnik korelacji V-Cramer'a na podstawie statystyki $\\chi^2$.\n",
        "\n"
      ]
    },
    {
      "cell_type": "code",
      "source": [
        "tab1 <- xtabs(wolne_miejsca_cbop ~ jedna_zmiana + klasa_pr, data = zbior_cbop)\n",
        "summary(tab1)"
      ],
      "metadata": {
        "colab": {
          "base_uri": "https://localhost:8080/",
          "height": 124
        },
        "id": "3xdwlCDz_aXA",
        "outputId": "7e05a99b-a8e5-409a-a054-b3641d161305"
      },
      "execution_count": 9,
      "outputs": [
        {
          "output_type": "display_data",
          "data": {
            "text/plain": [
              "Call: xtabs(formula = wolne_miejsca_cbop ~ jedna_zmiana + klasa_pr, \n",
              "    data = zbior_cbop)\n",
              "Number of cases in table: 28444 \n",
              "Number of factors: 2 \n",
              "Test for independence of all factors:\n",
              "\tChisq = 5365, df = 2, p-value = 0"
            ]
          },
          "metadata": {}
        }
      ]
    },
    {
      "cell_type": "code",
      "source": [
        "install.packages(\"vcd\") ## V Cramera"
      ],
      "metadata": {
        "id": "NlESUojz_rWo"
      },
      "execution_count": null,
      "outputs": []
    },
    {
      "cell_type": "code",
      "source": [
        "library(vcd)"
      ],
      "metadata": {
        "id": "H5S4qj9X_xUQ",
        "colab": {
          "base_uri": "https://localhost:8080/"
        },
        "outputId": "cfef599a-2d0a-4dda-d67a-028e7969767f"
      },
      "execution_count": 11,
      "outputs": [
        {
          "output_type": "stream",
          "name": "stderr",
          "text": [
            "Loading required package: grid\n",
            "\n"
          ]
        }
      ]
    },
    {
      "cell_type": "code",
      "source": [
        "assocstats(tab1)"
      ],
      "metadata": {
        "colab": {
          "base_uri": "https://localhost:8080/",
          "height": 142
        },
        "id": "3uZTywUJ_5Vq",
        "outputId": "a34fc247-d75d-43d7-abfa-440548acfe8a"
      },
      "execution_count": 12,
      "outputs": [
        {
          "output_type": "display_data",
          "data": {
            "text/plain": [
              "                    X^2 df P(> X^2)\n",
              "Likelihood Ratio 5560.2  2        0\n",
              "Pearson          5365.1  2        0\n",
              "\n",
              "Phi-Coefficient   : NA \n",
              "Contingency Coeff.: 0.398 \n",
              "Cramer's V        : 0.434 "
            ]
          },
          "metadata": {}
        }
      ]
    },
    {
      "cell_type": "markdown",
      "source": [
        "## post-stratyfikacja z wykorzystaniem pakietu `survey`"
      ],
      "metadata": {
        "id": "D3lL1N_W3-1N"
      }
    },
    {
      "cell_type": "code",
      "source": [
        "install.packages(\"survey\")"
      ],
      "metadata": {
        "id": "yWXffpDo4DD0",
        "colab": {
          "base_uri": "https://localhost:8080/"
        },
        "outputId": "eb2ef14b-9316-4cff-8eae-1d9a72d46935"
      },
      "execution_count": 13,
      "outputs": [
        {
          "output_type": "stream",
          "name": "stderr",
          "text": [
            "Installing package into ‘/usr/local/lib/R/site-library’\n",
            "(as ‘lib’ is unspecified)\n",
            "\n",
            "also installing the dependencies ‘Rcpp’, ‘minqa’, ‘numDeriv’, ‘mitools’\n",
            "\n",
            "\n"
          ]
        }
      ]
    },
    {
      "cell_type": "code",
      "source": [
        "library(survey)"
      ],
      "metadata": {
        "id": "WzYk_9784LlO"
      },
      "execution_count": null,
      "outputs": []
    },
    {
      "cell_type": "markdown",
      "source": [
        "Funkcja `postStratify`:\n",
        "\n",
        "```\n",
        "postStratify(design, strata, population, partial = FALSE, ...)\n",
        "```\n",
        "\n",
        "gdzie:\n",
        "\n",
        "+ `design` -- obiekt pakietu `survey`,\n",
        "+ `strata` -- zmienne według, których chcemy dokonać post-stratyfikacji,\n",
        "+ `population` -- wartości globalne zmiennych wykorzystywanych w post-stratyfikacji,\n",
        "+ `partial` -- czy mają być pominięte warstwy, których nie ma w próbie (domyślnie fałsz)."
      ],
      "metadata": {
        "id": "bLDVuNb94NZD"
      }
    },
    {
      "cell_type": "markdown",
      "source": [
        "Jak dokonać post-stratyfikacji z pakietem `survey`? Potrzeba do tego 3 kroków:\n",
        "\n",
        "1. należy utworzyć obiekt `design` z wykorzystaniem funkcji `svydesign`, który jako dane wejściowe wykorzysta dane z próby nielosowej,\n",
        "2. należy utworzyć obiekt z wartościami globalnymi,\n",
        "3. stosujemy funkcję `postStratify` do utworzenia nowego obiektu `survey.design`, który uwzględnia wagi post-stratyfikacyjne,\n",
        "4. estymujemy interesujące nas wartości funkcjami `svymean` czy `svytotal`."
      ],
      "metadata": {
        "id": "RLGEhjJb4wYY"
      }
    },
    {
      "cell_type": "markdown",
      "source": [
        "Dokonamy teraz kalibracji wg zmiennej `klasa_pr` jak w powyższym przykładzie."
      ],
      "metadata": {
        "id": "SJ0vZBDH5YN1"
      }
    },
    {
      "cell_type": "code",
      "source": [
        "zbior_cbop_svy <- svydesign(id = ~1, strata = ~ klasa_pr, weights = ~wolne_miejsca_cbop, data = zbior_cbop)\n",
        "zbior_cbop_svy"
      ],
      "metadata": {
        "colab": {
          "base_uri": "https://localhost:8080/",
          "height": 70
        },
        "id": "kAy1ssqa4u53",
        "outputId": "58c1bce6-af46-4016-e0ba-c4ee7ae6a82e"
      },
      "execution_count": 15,
      "outputs": [
        {
          "output_type": "display_data",
          "data": {
            "text/plain": [
              "Stratified Independent Sampling design (with replacement)\n",
              "svydesign(id = ~1, strata = ~klasa_pr, weights = ~wolne_miejsca_cbop, \n",
              "    data = zbior_cbop)"
            ]
          },
          "metadata": {}
        }
      ]
    },
    {
      "cell_type": "code",
      "source": [
        "wartosci_globalne"
      ],
      "metadata": {
        "colab": {
          "base_uri": "https://localhost:8080/",
          "height": 192
        },
        "id": "SKQ8iODA5o6p",
        "outputId": "9fc36c19-8834-4ca2-92fa-7c7e052b8301"
      },
      "execution_count": 16,
      "outputs": [
        {
          "output_type": "display_data",
          "data": {
            "text/html": [
              "<table class=\"dataframe\">\n",
              "<caption>A data.frame: 3 × 2</caption>\n",
              "<thead>\n",
              "\t<tr><th scope=col>klasa_pr</th><th scope=col>pop</th></tr>\n",
              "\t<tr><th scope=col>&lt;chr&gt;</th><th scope=col>&lt;int&gt;</th></tr>\n",
              "</thead>\n",
              "<tbody>\n",
              "\t<tr><td>D</td><td> 94124</td></tr>\n",
              "\t<tr><td>M</td><td>128940</td></tr>\n",
              "\t<tr><td>S</td><td> 71230</td></tr>\n",
              "</tbody>\n",
              "</table>\n"
            ],
            "text/markdown": "\nA data.frame: 3 × 2\n\n| klasa_pr &lt;chr&gt; | pop &lt;int&gt; |\n|---|---|\n| D |  94124 |\n| M | 128940 |\n| S |  71230 |\n\n",
            "text/latex": "A data.frame: 3 × 2\n\\begin{tabular}{ll}\n klasa\\_pr & pop\\\\\n <chr> & <int>\\\\\n\\hline\n\t D &  94124\\\\\n\t M & 128940\\\\\n\t S &  71230\\\\\n\\end{tabular}\n",
            "text/plain": [
              "  klasa_pr pop   \n",
              "1 D         94124\n",
              "2 M        128940\n",
              "3 S         71230"
            ]
          },
          "metadata": {}
        }
      ]
    },
    {
      "cell_type": "code",
      "source": [
        "zbior_cbop_svy_ps <- postStratify(design = zbior_cbop_svy, strata = ~ klasa_pr, population = wartosci_globalne)\n",
        "svytable(~klasa_pr, zbior_cbop_svy_ps)"
      ],
      "metadata": {
        "colab": {
          "base_uri": "https://localhost:8080/",
          "height": 70
        },
        "id": "LRQdDxoR5qAm",
        "outputId": "88e6278e-3436-48ab-89cf-1a5ad4220cbe"
      },
      "execution_count": 17,
      "outputs": [
        {
          "output_type": "display_data",
          "data": {
            "text/plain": [
              "klasa_pr\n",
              "     D      M      S \n",
              " 94124 128940  71230 "
            ]
          },
          "metadata": {}
        }
      ]
    },
    {
      "cell_type": "markdown",
      "source": [
        "Mnożniki dla wag wejściowych (jak w kodzie z `pop/n`)"
      ],
      "metadata": {
        "id": "OI3-IZtIBkKg"
      }
    },
    {
      "cell_type": "code",
      "source": [
        "table(weights(zbior_cbop_svy_ps) / weights(zbior_cbop_svy))"
      ],
      "metadata": {
        "colab": {
          "base_uri": "https://localhost:8080/",
          "height": 70
        },
        "id": "u67aeW_cBju5",
        "outputId": "6a32e31f-8e6b-463b-f8a2-6aeaa5401754"
      },
      "execution_count": 18,
      "outputs": [
        {
          "output_type": "display_data",
          "data": {
            "text/plain": [
              "\n",
              "6.36704322532639 10.3351712130006 19.0486039296794 \n",
              "            3653             3734             4090 "
            ]
          },
          "metadata": {}
        }
      ]
    },
    {
      "cell_type": "code",
      "source": [
        "print(\"===== przed post-stratyfikacją ===== \")\n",
        "svymean(~jedna_zmiana, zbior_cbop_svy)\n",
        "print(\"===== po post-stratyfikacją ===== \")\n",
        "svymean(~jedna_zmiana, zbior_cbop_svy_ps)"
      ],
      "metadata": {
        "colab": {
          "base_uri": "https://localhost:8080/",
          "height": 124
        },
        "id": "L50Uri8n5yUc",
        "outputId": "95a3901d-3cc1-4a06-c958-0284b0e8ac16"
      },
      "execution_count": 19,
      "outputs": [
        {
          "output_type": "stream",
          "name": "stdout",
          "text": [
            "[1] \"===== przed post-stratyfikacją ===== \"\n"
          ]
        },
        {
          "output_type": "display_data",
          "data": {
            "text/plain": [
              "               mean     SE\n",
              "jedna_zmiana 0.5057 0.0126"
            ]
          },
          "metadata": {}
        },
        {
          "output_type": "stream",
          "name": "stdout",
          "text": [
            "[1] \"===== po post-stratyfikacją ===== \"\n"
          ]
        },
        {
          "output_type": "display_data",
          "data": {
            "text/plain": [
              "                mean     SE\n",
              "jedna_zmiana 0.59802 0.0075"
            ]
          },
          "metadata": {}
        }
      ]
    },
    {
      "cell_type": "markdown",
      "source": [
        "Post-stratyfikacja z dwiema zmiennymi jednocześnie"
      ],
      "metadata": {
        "id": "BQRN9YXj6XBe"
      }
    },
    {
      "cell_type": "code",
      "source": [
        "head(dane, n =2)"
      ],
      "metadata": {
        "colab": {
          "base_uri": "https://localhost:8080/",
          "height": 181
        },
        "id": "QzU7cFpp6Z6A",
        "outputId": "eb3a58f2-524d-4d4b-c23d-f3eba6fe1612"
      },
      "execution_count": 20,
      "outputs": [
        {
          "output_type": "display_data",
          "data": {
            "text/html": [
              "<table class=\"dataframe\">\n",
              "<caption>A data.frame: 2 × 14</caption>\n",
              "<thead>\n",
              "\t<tr><th></th><th scope=col>id_popyt</th><th scope=col>id_jednostki</th><th scope=col>waga</th><th scope=col>sek</th><th scope=col>klasa_pr</th><th scope=col>sekc_pkd</th><th scope=col>woj</th><th scope=col>zawod_kod2</th><th scope=col>wolne_miejsca</th><th scope=col>id_cbop</th><th scope=col>jedna_zmiana</th><th scope=col>wymiar_40</th><th scope=col>wolne_miejsca_cbop</th><th scope=col>wolne_miejsca_niepeln_cbop</th></tr>\n",
              "\t<tr><th></th><th scope=col>&lt;int&gt;</th><th scope=col>&lt;chr&gt;</th><th scope=col>&lt;int&gt;</th><th scope=col>&lt;int&gt;</th><th scope=col>&lt;chr&gt;</th><th scope=col>&lt;chr&gt;</th><th scope=col>&lt;int&gt;</th><th scope=col>&lt;int&gt;</th><th scope=col>&lt;int&gt;</th><th scope=col>&lt;int&gt;</th><th scope=col>&lt;lgl&gt;</th><th scope=col>&lt;lgl&gt;</th><th scope=col>&lt;int&gt;</th><th scope=col>&lt;int&gt;</th></tr>\n",
              "</thead>\n",
              "<tbody>\n",
              "\t<tr><th scope=row>1</th><td>1</td><td>a9cc990df6a99ab215a1bc13f51d4825c7d52d18</td><td>1</td><td>1</td><td>D</td><td>O</td><td>14</td><td>1</td><td>2</td><td>NA</td><td>NA</td><td>NA</td><td>NA</td><td>NA</td></tr>\n",
              "\t<tr><th scope=row>2</th><td>2</td><td>a9cc990df6a99ab215a1bc13f51d4825c7d52d18</td><td>1</td><td>1</td><td>D</td><td>O</td><td>14</td><td>2</td><td>7</td><td>NA</td><td>NA</td><td>NA</td><td>NA</td><td>NA</td></tr>\n",
              "</tbody>\n",
              "</table>\n"
            ],
            "text/markdown": "\nA data.frame: 2 × 14\n\n| <!--/--> | id_popyt &lt;int&gt; | id_jednostki &lt;chr&gt; | waga &lt;int&gt; | sek &lt;int&gt; | klasa_pr &lt;chr&gt; | sekc_pkd &lt;chr&gt; | woj &lt;int&gt; | zawod_kod2 &lt;int&gt; | wolne_miejsca &lt;int&gt; | id_cbop &lt;int&gt; | jedna_zmiana &lt;lgl&gt; | wymiar_40 &lt;lgl&gt; | wolne_miejsca_cbop &lt;int&gt; | wolne_miejsca_niepeln_cbop &lt;int&gt; |\n|---|---|---|---|---|---|---|---|---|---|---|---|---|---|---|\n| 1 | 1 | a9cc990df6a99ab215a1bc13f51d4825c7d52d18 | 1 | 1 | D | O | 14 | 1 | 2 | NA | NA | NA | NA | NA |\n| 2 | 2 | a9cc990df6a99ab215a1bc13f51d4825c7d52d18 | 1 | 1 | D | O | 14 | 2 | 7 | NA | NA | NA | NA | NA |\n\n",
            "text/latex": "A data.frame: 2 × 14\n\\begin{tabular}{r|llllllllllllll}\n  & id\\_popyt & id\\_jednostki & waga & sek & klasa\\_pr & sekc\\_pkd & woj & zawod\\_kod2 & wolne\\_miejsca & id\\_cbop & jedna\\_zmiana & wymiar\\_40 & wolne\\_miejsca\\_cbop & wolne\\_miejsca\\_niepeln\\_cbop\\\\\n  & <int> & <chr> & <int> & <int> & <chr> & <chr> & <int> & <int> & <int> & <int> & <lgl> & <lgl> & <int> & <int>\\\\\n\\hline\n\t1 & 1 & a9cc990df6a99ab215a1bc13f51d4825c7d52d18 & 1 & 1 & D & O & 14 & 1 & 2 & NA & NA & NA & NA & NA\\\\\n\t2 & 2 & a9cc990df6a99ab215a1bc13f51d4825c7d52d18 & 1 & 1 & D & O & 14 & 2 & 7 & NA & NA & NA & NA & NA\\\\\n\\end{tabular}\n",
            "text/plain": [
              "  id_popyt id_jednostki                             waga sek klasa_pr sekc_pkd\n",
              "1 1        a9cc990df6a99ab215a1bc13f51d4825c7d52d18 1    1   D        O       \n",
              "2 2        a9cc990df6a99ab215a1bc13f51d4825c7d52d18 1    1   D        O       \n",
              "  woj zawod_kod2 wolne_miejsca id_cbop jedna_zmiana wymiar_40\n",
              "1 14  1          2             NA      NA           NA       \n",
              "2 14  2          7             NA      NA           NA       \n",
              "  wolne_miejsca_cbop wolne_miejsca_niepeln_cbop\n",
              "1 NA                 NA                        \n",
              "2 NA                 NA                        "
            ]
          },
          "metadata": {}
        }
      ]
    },
    {
      "cell_type": "code",
      "source": [
        "sekc_pkd_woj_total <- xtabs(waga*wolne_miejsca ~ sekc_pkd + woj, data = dane, subset = !is.na(id_popyt))\n",
        "sekc_pkd_woj_total"
      ],
      "metadata": {
        "colab": {
          "base_uri": "https://localhost:8080/",
          "height": 588
        },
        "id": "o6lDTYHG6iD0",
        "outputId": "50e081db-5e20-4ff7-8ab9-e84cb8bc9145"
      },
      "execution_count": 21,
      "outputs": [
        {
          "output_type": "display_data",
          "data": {
            "text/plain": [
              "        woj\n",
              "sekc_pkd     2     4     6     8    10    12    14    16    18    20    22\n",
              "     C    7756  4244   867  1652  5037  4699 10490  1799  1611   870  4389\n",
              "     D.E   312   134    61   116    67   159   757   102    75    58   298\n",
              "     F    3274   988   393   559  1283  7542  3636  1242  1112  1493  1393\n",
              "     G    2082   482  3924  1023  4869  5349 23329   190  1630   148 10174\n",
              "     H    1161   446    95   591   884   970  4903   506   824   124   769\n",
              "     I    1087   379  1691    57   945   683  2625    65   112   289   270\n",
              "     J     728   243    63    72   845  1710  4201    95    73   148   508\n",
              "     K.L   943   245   118   162   568   964  2277    36    98    27   564\n",
              "     M    2201    29    85    32  1072  2547  3451   122   419    13   461\n",
              "     N    1516   274   296   180   101  1430  2313    70   156   234   495\n",
              "     O     754   575   496   339   407   400  2915   269   326   356   681\n",
              "     P     795   167   199    72   319   274  1645   113    63   112   322\n",
              "     Q     902   358   280   255   969  1088  2621   233   510   276   647\n",
              "     R.S   613    68   326   143   300  1238  1725    42   182    38   756\n",
              "        woj\n",
              "sekc_pkd    24    26    28    30    32\n",
              "     C    8484   990  2995  7936  2446\n",
              "     D.E   646    55    48   238   132\n",
              "     F   10752  1069  1928  6405  2280\n",
              "     G    6951   570  1035  4810  1800\n",
              "     H    3338   815   323  3023   809\n",
              "     I    1732   176   666  1201   634\n",
              "     J     982    59    14  1340   242\n",
              "     K.L   717    64   130   299   198\n",
              "     M    2077   431   707   500    46\n",
              "     N    1435    95    77   794   511\n",
              "     O     868   213   319   817   570\n",
              "     P     808    59    89   446   163\n",
              "     Q    1888   150   502   821   669\n",
              "     R.S   816   307   319   569   398"
            ]
          },
          "metadata": {}
        }
      ]
    },
    {
      "cell_type": "code",
      "source": [
        "klasa_pr_woj_total <- xtabs(waga*wolne_miejsca ~ klasa_pr + woj, data = dane, subset = !is.na(id_popyt))\n",
        "klasa_pr_woj_total"
      ],
      "metadata": {
        "colab": {
          "base_uri": "https://localhost:8080/",
          "height": 195
        },
        "id": "6wq0z4Cm6zo0",
        "outputId": "f8cc6960-dbe3-4108-d8f1-2c2edfb6e087"
      },
      "execution_count": 22,
      "outputs": [
        {
          "output_type": "display_data",
          "data": {
            "text/plain": [
              "        woj\n",
              "klasa_pr     2     4     6     8    10    12    14    16    18    20    22\n",
              "       D  8544  3434  4743  1807  5307  9951 24075  1689  2157  1553  5003\n",
              "       M 11883  2154  2876  1756  9380 10256 24987  1451  3378  1800  9093\n",
              "       S  3697  3044  1275  1690  2979  8846 17826  1744  1656   833  7631\n",
              "        woj\n",
              "klasa_pr    24    26    28    30    32\n",
              "       D  9208  1726  1420 10373  3134\n",
              "       M 25806  2169  6049 10643  5259\n",
              "       S  6480  1158  1683  8183  2505"
            ]
          },
          "metadata": {}
        }
      ]
    },
    {
      "cell_type": "code",
      "source": [
        "dane %>% \n",
        "  filter(!is.na(id_cbop)) %>%\n",
        "  select(id_cbop, klasa_pr, sekc_pkd, sek, woj, zawod_kod2, jedna_zmiana, wymiar_40, wolne_miejsca_cbop) %>%\n",
        "  mutate(jedna_zmiana = as.numeric(jedna_zmiana)) -> zbior_cbop_wiekszy\n",
        "\n",
        "  head(zbior_cbop_wiekszy, n=2)"
      ],
      "metadata": {
        "colab": {
          "base_uri": "https://localhost:8080/",
          "height": 161
        },
        "id": "wq3RIiNp66vn",
        "outputId": "a5bd50aa-5863-4f0c-e095-6d91eb5534f0"
      },
      "execution_count": 23,
      "outputs": [
        {
          "output_type": "display_data",
          "data": {
            "text/html": [
              "<table class=\"dataframe\">\n",
              "<caption>A data.frame: 2 × 9</caption>\n",
              "<thead>\n",
              "\t<tr><th></th><th scope=col>id_cbop</th><th scope=col>klasa_pr</th><th scope=col>sekc_pkd</th><th scope=col>sek</th><th scope=col>woj</th><th scope=col>zawod_kod2</th><th scope=col>jedna_zmiana</th><th scope=col>wymiar_40</th><th scope=col>wolne_miejsca_cbop</th></tr>\n",
              "\t<tr><th></th><th scope=col>&lt;int&gt;</th><th scope=col>&lt;chr&gt;</th><th scope=col>&lt;chr&gt;</th><th scope=col>&lt;int&gt;</th><th scope=col>&lt;int&gt;</th><th scope=col>&lt;int&gt;</th><th scope=col>&lt;dbl&gt;</th><th scope=col>&lt;lgl&gt;</th><th scope=col>&lt;int&gt;</th></tr>\n",
              "</thead>\n",
              "<tbody>\n",
              "\t<tr><th scope=row>1</th><td>1</td><td>D</td><td>P</td><td>1</td><td>30</td><td>3</td><td>0</td><td>TRUE</td><td>1</td></tr>\n",
              "\t<tr><th scope=row>2</th><td>1</td><td>D</td><td>O</td><td>1</td><td>14</td><td>3</td><td>1</td><td>TRUE</td><td>1</td></tr>\n",
              "</tbody>\n",
              "</table>\n"
            ],
            "text/markdown": "\nA data.frame: 2 × 9\n\n| <!--/--> | id_cbop &lt;int&gt; | klasa_pr &lt;chr&gt; | sekc_pkd &lt;chr&gt; | sek &lt;int&gt; | woj &lt;int&gt; | zawod_kod2 &lt;int&gt; | jedna_zmiana &lt;dbl&gt; | wymiar_40 &lt;lgl&gt; | wolne_miejsca_cbop &lt;int&gt; |\n|---|---|---|---|---|---|---|---|---|---|\n| 1 | 1 | D | P | 1 | 30 | 3 | 0 | TRUE | 1 |\n| 2 | 1 | D | O | 1 | 14 | 3 | 1 | TRUE | 1 |\n\n",
            "text/latex": "A data.frame: 2 × 9\n\\begin{tabular}{r|lllllllll}\n  & id\\_cbop & klasa\\_pr & sekc\\_pkd & sek & woj & zawod\\_kod2 & jedna\\_zmiana & wymiar\\_40 & wolne\\_miejsca\\_cbop\\\\\n  & <int> & <chr> & <chr> & <int> & <int> & <int> & <dbl> & <lgl> & <int>\\\\\n\\hline\n\t1 & 1 & D & P & 1 & 30 & 3 & 0 & TRUE & 1\\\\\n\t2 & 1 & D & O & 1 & 14 & 3 & 1 & TRUE & 1\\\\\n\\end{tabular}\n",
            "text/plain": [
              "  id_cbop klasa_pr sekc_pkd sek woj zawod_kod2 jedna_zmiana wymiar_40\n",
              "1 1       D        P        1   30  3          0            TRUE     \n",
              "2 1       D        O        1   14  3          1            TRUE     \n",
              "  wolne_miejsca_cbop\n",
              "1 1                 \n",
              "2 1                 "
            ]
          },
          "metadata": {}
        }
      ]
    },
    {
      "cell_type": "code",
      "source": [
        "zbior_cbop_svy2 <- svydesign(id = ~1, weights = ~wolne_miejsca_cbop, data = zbior_cbop_wiekszy)\n",
        "zbior_cbop_svy2"
      ],
      "metadata": {
        "colab": {
          "base_uri": "https://localhost:8080/",
          "height": 52
        },
        "id": "I16yAaBS7DFr",
        "outputId": "90534376-a3d7-413a-d1cc-3b753bc011ff"
      },
      "execution_count": 24,
      "outputs": [
        {
          "output_type": "display_data",
          "data": {
            "text/plain": [
              "Independent Sampling design (with replacement)\n",
              "svydesign(id = ~1, weights = ~wolne_miejsca_cbop, data = zbior_cbop_wiekszy)"
            ]
          },
          "metadata": {}
        }
      ]
    },
    {
      "cell_type": "code",
      "source": [
        "zbior_cbop_svy2_ps1 <- postStratify(design = zbior_cbop_svy2, strata = ~ sekc_pkd + woj, population = sekc_pkd_woj_total)"
      ],
      "metadata": {
        "colab": {
          "base_uri": "https://localhost:8080/",
          "height": 240
        },
        "id": "3eDhpkZJ7_MY",
        "outputId": "13295bcb-9cf2-498c-f0b7-82f5ab2fe25f"
      },
      "execution_count": 25,
      "outputs": [
        {
          "output_type": "stream",
          "name": "stdout",
          "text": [
            "    sekc_pkd woj Freq Pop.Freq\n",
            "112        J   8    0       72\n"
          ]
        },
        {
          "output_type": "error",
          "ename": "ERROR",
          "evalue": "ignored",
          "traceback": [
            "Error in postStratify.survey.design(design = zbior_cbop_svy2, strata = ~sekc_pkd + : Some strata absent from sample: use partial=TRUE to ignore them.\nTraceback:\n",
            "1. postStratify(design = zbior_cbop_svy2, strata = ~sekc_pkd + woj, \n .     population = sekc_pkd_woj_total)",
            "2. postStratify.survey.design(design = zbior_cbop_svy2, strata = ~sekc_pkd + \n .     woj, population = sekc_pkd_woj_total)",
            "3. stop(\"Some strata absent from sample: use partial=TRUE to ignore them.\")"
          ]
        }
      ]
    },
    {
      "cell_type": "code",
      "source": [
        "zbior_cbop_svy2_ps1 <- postStratify(design = zbior_cbop_svy2, strata = ~ sekc_pkd + woj, population = sekc_pkd_woj_total, partial = TRUE)\n",
        "zbior_cbop_svy2_ps2 <- postStratify(design = zbior_cbop_svy2, strata = ~ klasa_pr + woj, population = klasa_pr_woj_total)"
      ],
      "metadata": {
        "colab": {
          "base_uri": "https://localhost:8080/"
        },
        "id": "HRdLX8cS7Ht7",
        "outputId": "09b54347-f913-4aa3-90d8-4f01fda96456"
      },
      "execution_count": 26,
      "outputs": [
        {
          "output_type": "stream",
          "name": "stderr",
          "text": [
            "Warning message in postStratify.survey.design(design = zbior_cbop_svy2, strata = ~sekc_pkd + :\n",
            "“Some strata absent from sample: ignored”\n"
          ]
        }
      ]
    },
    {
      "cell_type": "code",
      "source": [
        "svymean(~jedna_zmiana, zbior_cbop_svy_ps)\n",
        "svymean(~jedna_zmiana, zbior_cbop_svy2_ps1)\n",
        "svymean(~jedna_zmiana, zbior_cbop_svy2_ps2)"
      ],
      "metadata": {
        "colab": {
          "base_uri": "https://localhost:8080/",
          "height": 124
        },
        "id": "3a8mA9uX7SCJ",
        "outputId": "668895fb-2422-4627-894a-56f527267bfa"
      },
      "execution_count": 27,
      "outputs": [
        {
          "output_type": "display_data",
          "data": {
            "text/plain": [
              "                mean     SE\n",
              "jedna_zmiana 0.59802 0.0075"
            ]
          },
          "metadata": {}
        },
        {
          "output_type": "display_data",
          "data": {
            "text/plain": [
              "                mean     SE\n",
              "jedna_zmiana 0.57766 0.0087"
            ]
          },
          "metadata": {}
        },
        {
          "output_type": "display_data",
          "data": {
            "text/plain": [
              "                mean     SE\n",
              "jedna_zmiana 0.59018 0.0082"
            ]
          },
          "metadata": {}
        }
      ]
    },
    {
      "cell_type": "markdown",
      "source": [
        "Pytanie: któremu wynikowi powinniśmy bardziej ufać? Spójrzmy na korelację V Cramera."
      ],
      "metadata": {
        "id": "W0Y55uih8N0J"
      }
    },
    {
      "cell_type": "code",
      "source": [
        "tab1 <- xtabs(wolne_miejsca_cbop ~ jedna_zmiana + klasa_pr, data = zbior_cbop_wiekszy)\n",
        "tab2 <- xtabs(wolne_miejsca_cbop ~ jedna_zmiana + woj, data = zbior_cbop_wiekszy)\n",
        "tab3 <- xtabs(wolne_miejsca_cbop ~ jedna_zmiana + sekc_pkd, data = zbior_cbop_wiekszy)\n",
        "tab4 <- xtabs(wolne_miejsca_cbop ~ jedna_zmiana + zawod_kod2, data = zbior_cbop_wiekszy)"
      ],
      "metadata": {
        "id": "NMbG_inWB5v0"
      },
      "execution_count": 28,
      "outputs": []
    },
    {
      "cell_type": "code",
      "source": [
        "assocstats(tab1)"
      ],
      "metadata": {
        "colab": {
          "base_uri": "https://localhost:8080/",
          "height": 142
        },
        "id": "y_e9pZebCF68",
        "outputId": "706932c5-ec00-48bf-ae6a-edd89eca472b"
      },
      "execution_count": 29,
      "outputs": [
        {
          "output_type": "display_data",
          "data": {
            "text/plain": [
              "                    X^2 df P(> X^2)\n",
              "Likelihood Ratio 5560.2  2        0\n",
              "Pearson          5365.1  2        0\n",
              "\n",
              "Phi-Coefficient   : NA \n",
              "Contingency Coeff.: 0.398 \n",
              "Cramer's V        : 0.434 "
            ]
          },
          "metadata": {}
        }
      ]
    },
    {
      "cell_type": "code",
      "source": [
        "assocstats(tab2)"
      ],
      "metadata": {
        "colab": {
          "base_uri": "https://localhost:8080/",
          "height": 142
        },
        "id": "VwZL7VwRCHpn",
        "outputId": "a2e787f8-02bc-42d8-cc46-8d89b4f19252"
      },
      "execution_count": 30,
      "outputs": [
        {
          "output_type": "display_data",
          "data": {
            "text/plain": [
              "                    X^2 df P(> X^2)\n",
              "Likelihood Ratio 1082.8 15        0\n",
              "Pearson          1067.9 15        0\n",
              "\n",
              "Phi-Coefficient   : NA \n",
              "Contingency Coeff.: 0.19 \n",
              "Cramer's V        : 0.194 "
            ]
          },
          "metadata": {}
        }
      ]
    },
    {
      "cell_type": "code",
      "source": [
        "assocstats(tab3)"
      ],
      "metadata": {
        "colab": {
          "base_uri": "https://localhost:8080/",
          "height": 142
        },
        "id": "El8YSFNpCJBX",
        "outputId": "cf166cd3-0c42-4b91-8a06-f129268809b3"
      },
      "execution_count": 31,
      "outputs": [
        {
          "output_type": "display_data",
          "data": {
            "text/plain": [
              "                    X^2 df P(> X^2)\n",
              "Likelihood Ratio 6201.6 13        0\n",
              "Pearson          5532.2 13        0\n",
              "\n",
              "Phi-Coefficient   : NA \n",
              "Contingency Coeff.: 0.404 \n",
              "Cramer's V        : 0.441 "
            ]
          },
          "metadata": {}
        }
      ]
    },
    {
      "cell_type": "code",
      "source": [
        "assocstats(tab4)"
      ],
      "metadata": {
        "colab": {
          "base_uri": "https://localhost:8080/",
          "height": 142
        },
        "id": "t-AGiZgQDZG9",
        "outputId": "ef4f9ebb-4385-4a10-ddea-df8746898724"
      },
      "execution_count": 32,
      "outputs": [
        {
          "output_type": "display_data",
          "data": {
            "text/plain": [
              "                    X^2 df P(> X^2)\n",
              "Likelihood Ratio 2518.1  7        0\n",
              "Pearson          2442.5  7        0\n",
              "\n",
              "Phi-Coefficient   : NA \n",
              "Contingency Coeff.: 0.281 \n",
              "Cramer's V        : 0.293 "
            ]
          },
          "metadata": {}
        }
      ]
    },
    {
      "cell_type": "markdown",
      "source": [
        "Skoro najlepszą korelację ma sekcja PKD (`sekc_pkd`) i klasa wielkosci (`klasa_pr`) wykorzystajmy te dwie zmienne do post-stratyfikacji. "
      ],
      "metadata": {
        "id": "NkTpZusZCNaK"
      }
    },
    {
      "cell_type": "code",
      "source": [
        "klasa_pr_pkd_total <- xtabs(waga*wolne_miejsca ~ klasa_pr + sekc_pkd, data = dane, subset = !is.na(id_popyt))\n",
        "klasa_pr_pkd_total"
      ],
      "metadata": {
        "colab": {
          "base_uri": "https://localhost:8080/",
          "height": 195
        },
        "id": "i1S7YbyACh25",
        "outputId": "3724aecb-5994-4a5e-983e-f4a7d5f44fed"
      },
      "execution_count": 33,
      "outputs": [
        {
          "output_type": "display_data",
          "data": {
            "text/plain": [
              "        sekc_pkd\n",
              "klasa_pr     C   D.E     F     G     H     I     J   K.L     M     N     O\n",
              "       D 29888  1609  3051 16732  5600  2003  5994  3444  4759  3675  8169\n",
              "       M 23654   410 31905 29730  9281  7539  2069  2269  7573  4666   316\n",
              "       S 12723  1239 10393 21904  4700  3070  3260  1697  1861  1636  1820\n",
              "        sekc_pkd\n",
              "klasa_pr     P     Q   R.S\n",
              "       D  2420  5948   832\n",
              "       M   864  3049  5615\n",
              "       S  2362  3172  1393"
            ]
          },
          "metadata": {}
        }
      ]
    },
    {
      "cell_type": "code",
      "source": [
        "zbior_cbop_svy2_ps3 <- postStratify(design = zbior_cbop_svy2, strata = ~ klasa_pr + sekc_pkd, population = klasa_pr_pkd_total)\n",
        "svymean(~jedna_zmiana, zbior_cbop_svy2_ps3)"
      ],
      "metadata": {
        "colab": {
          "base_uri": "https://localhost:8080/",
          "height": 52
        },
        "id": "gE8HygjWCprm",
        "outputId": "ea64e776-4684-4a69-9c98-9e2316c3d76d"
      },
      "execution_count": 34,
      "outputs": [
        {
          "output_type": "display_data",
          "data": {
            "text/plain": [
              "                mean     SE\n",
              "jedna_zmiana 0.61586 0.0079"
            ]
          },
          "metadata": {}
        }
      ]
    },
    {
      "cell_type": "markdown",
      "source": [
        "## Mała symulacja"
      ],
      "metadata": {
        "id": "sY4GABVdfP2r"
      }
    },
    {
      "cell_type": "code",
      "source": [
        "set.seed(123)\n",
        "N <- 100000 ## wielkość populacji \n",
        "x <- sample(x = c(\"a\", \"b\", \"c\", \"d\"), size = N, prob = c(0.2, 0.5, 0.1, 0.2), replace = T) \n",
        "y <- 4 - 0.3*(x==\"b\") + 2.5*(x == \"c\") - 1.5*(x == \"d\") + rnorm(N) ## zmienna celu\n",
        "prob <- exp(-1 + 1.5*(x == \"b\")) / (1 + exp(-1 + 1.5*(x == \"b\")))\n",
        "df <- data.frame(x=as.factor(x) , y, prob)\n",
        "lm1 <- lm(y ~ x, data = df)\n",
        "#summary(lm1)\n",
        "B <- 100\n",
        "wynik <- matrix(0, ncol = 2, nrow = B)\n",
        "for (b in 1:B) {\n",
        "  nonprob <- rbinom(n = N, size = 1, prob = prob)\n",
        "  df_nonprob <- df[nonprob == 1, ]\n",
        "  df_nonprob$waga <- N/nrow(df_nonprob)\n",
        "  df_nonprob_svy <- svydesign(ids = ~1, strata = ~x, weights = ~ waga, data = df_nonprob)\n",
        "  pop_totals <- xtabs(~x, data = df)\n",
        "  df_nonprob_svy_post <- postStratify(df_nonprob_svy, ~x, pop_totals)\n",
        "  wynik[b, 1] <- svymean(~y,df_nonprob_svy_post)[1]\n",
        "  wynik[b, 2] <- svymean(~y,df_nonprob_svy)[1]\n",
        "}\n",
        "\n",
        "colnames(wynik) <- c(\"PS\", \"Naive\")"
      ],
      "metadata": {
        "id": "fkaxO-RjfRoY"
      },
      "execution_count": 106,
      "outputs": []
    },
    {
      "cell_type": "code",
      "source": [
        "boxplot(wynik - mean(y), main = \"Obciążenie\")"
      ],
      "metadata": {
        "colab": {
          "base_uri": "https://localhost:8080/",
          "height": 437
        },
        "id": "iepSS_kahY2E",
        "outputId": "4ed62174-ad2c-4ec7-cd91-af083a9490dc"
      },
      "execution_count": 107,
      "outputs": [
        {
          "output_type": "display_data",
          "data": {
            "text/plain": [
              "Plot with title “Obciążenie”"
            ],
            "image/png": "[encoded data removed]"
          },
          "metadata": {
            "image/png": {
              "width": 420,
              "height": 420
            }
          }
        }
      ]
    },
    {
      "cell_type": "markdown",
      "source": [
        "MSE"
      ],
      "metadata": {
        "id": "_uo_mvOjjUEL"
      }
    },
    {
      "cell_type": "code",
      "source": [
        "bias <- colMeans(wynik) - mean(y)\n",
        "var <- apply(wynik, 2, var)\n",
        "mse <- bias^2 + vars\n",
        "rmse <- sqrt(mse)\n",
        "data.frame(bias, vars, mse, rmse)"
      ],
      "metadata": {
        "colab": {
          "base_uri": "https://localhost:8080/",
          "height": 161
        },
        "id": "Z23CUOSPjTpa",
        "outputId": "b14c1dc2-e789-4307-bc46-fac0a80eb1a0"
      },
      "execution_count": 108,
      "outputs": [
        {
          "output_type": "display_data",
          "data": {
            "text/html": [
              "<table class=\"dataframe\">\n",
              "<caption>A data.frame: 2 × 4</caption>\n",
              "<thead>\n",
              "\t<tr><th></th><th scope=col>bias</th><th scope=col>vars</th><th scope=col>mse</th><th scope=col>rmse</th></tr>\n",
              "\t<tr><th></th><th scope=col>&lt;dbl&gt;</th><th scope=col>&lt;dbl&gt;</th><th scope=col>&lt;dbl&gt;</th><th scope=col>&lt;dbl&gt;</th></tr>\n",
              "</thead>\n",
              "<tbody>\n",
              "\t<tr><th scope=row>PS</th><td>-0.0003163903</td><td>0.0001498295</td><td>0.0001499296</td><td>0.01224457</td></tr>\n",
              "\t<tr><th scope=row>Naive</th><td>-0.0373565950</td><td>0.0001947108</td><td>0.0015902259</td><td>0.03987764</td></tr>\n",
              "</tbody>\n",
              "</table>\n"
            ],
            "text/markdown": "\nA data.frame: 2 × 4\n\n| <!--/--> | bias &lt;dbl&gt; | vars &lt;dbl&gt; | mse &lt;dbl&gt; | rmse &lt;dbl&gt; |\n|---|---|---|---|---|\n| PS | -0.0003163903 | 0.0001498295 | 0.0001499296 | 0.01224457 |\n| Naive | -0.0373565950 | 0.0001947108 | 0.0015902259 | 0.03987764 |\n\n",
            "text/latex": "A data.frame: 2 × 4\n\\begin{tabular}{r|llll}\n  & bias & vars & mse & rmse\\\\\n  & <dbl> & <dbl> & <dbl> & <dbl>\\\\\n\\hline\n\tPS & -0.0003163903 & 0.0001498295 & 0.0001499296 & 0.01224457\\\\\n\tNaive & -0.0373565950 & 0.0001947108 & 0.0015902259 & 0.03987764\\\\\n\\end{tabular}\n",
            "text/plain": [
              "      bias          vars         mse          rmse      \n",
              "PS    -0.0003163903 0.0001498295 0.0001499296 0.01224457\n",
              "Naive -0.0373565950 0.0001947108 0.0015902259 0.03987764"
            ]
          },
          "metadata": {}
        }
      ]
    }
  ]
}
