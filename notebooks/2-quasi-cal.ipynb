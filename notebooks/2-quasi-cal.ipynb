{
  "nbformat": 4,
  "nbformat_minor": 0,
  "metadata": {
    "colab": {
      "name": "bi_2021_04_12.ipynb",
      "provenance": [],
      "collapsed_sections": [],
      "authorship_tag": "ABX9TyM95dyJ5EoopJmczFhqiIFg",
      "include_colab_link": true
    },
    "kernelspec": {
      "name": "ir",
      "display_name": "R"
    },
    "language_info": {
      "name": "R"
    }
  },
  "cells": [
    {
      "cell_type": "markdown",
      "metadata": {
        "id": "view-in-github",
        "colab_type": "text"
      },
      "source": [
        "<a href=\"https://colab.research.google.com/github/DepartmentOfStatisticsPUE/bi-2022/blob/main/notebooks/2-quasi-cal.ipynb\" target=\"_parent\"><img src=\"https://colab.research.google.com/assets/colab-badge.svg\" alt=\"Open In Colab\"/></a>"
      ]
    },
    {
      "cell_type": "markdown",
      "metadata": {
        "id": "Qa2UM9AkSYGd"
      },
      "source": [
        "Pobieramy dane z github wykorzystując funkcję `download.file`\n"
      ]
    },
    {
      "cell_type": "code",
      "metadata": {
        "id": "uW66d37VSUqy"
      },
      "source": [
        "download.file(\"https://raw.githubusercontent.com/DepartmentOfStatisticsPUE/bi-2021/main/data/popyt-zajecia-dane.csv\",\n",
        "              \"popyt-dane.csv\")"
      ],
      "execution_count": 1,
      "outputs": []
    },
    {
      "cell_type": "markdown",
      "metadata": {
        "id": "IuJtmDp_Sc7h"
      },
      "source": [
        "Instalujemy pakiet `survey`."
      ]
    },
    {
      "cell_type": "code",
      "metadata": {
        "colab": {
          "base_uri": "https://localhost:8080/"
        },
        "id": "JAduh02QSfwb",
        "outputId": "bd9eefc7-6add-4267-8139-68e693b05aba"
      },
      "source": [
        "install.packages(\"survey\")"
      ],
      "execution_count": 2,
      "outputs": [
        {
          "output_type": "stream",
          "name": "stderr",
          "text": [
            "Installing package into ‘/usr/local/lib/R/site-library’\n",
            "(as ‘lib’ is unspecified)\n",
            "\n",
            "also installing the dependencies ‘Rcpp’, ‘minqa’, ‘numDeriv’, ‘mitools’\n",
            "\n",
            "\n"
          ]
        }
      ]
    },
    {
      "cell_type": "markdown",
      "metadata": {
        "id": "sNPTOSJsSiPD"
      },
      "source": [
        "Ładujemy potrzebne pakiety"
      ]
    },
    {
      "cell_type": "code",
      "metadata": {
        "id": "H2xEb5yaSjyQ"
      },
      "source": [
        "library(tidyverse) ## przetwarzanie\n",
        "library(survey) ## funkcja calibrate"
      ],
      "execution_count": null,
      "outputs": []
    },
    {
      "cell_type": "markdown",
      "metadata": {
        "id": "iNc6d18eSsau"
      },
      "source": [
        "Opis funkcji `calibrate` z pakietu `survey`.\n",
        "\n",
        "```\n",
        "calibrate(design, formula, population,\n",
        "       aggregate.stage=NULL, stage=0, variance=NULL,\n",
        "       bounds=c(-Inf,Inf), calfun=c(\"linear\",\"raking\",\"logit\"),\n",
        "       maxit=50,epsilon=1e-7,verbose=FALSE,force=FALSE,trim=NULL,\n",
        "       bounds.const=FALSE, sparse=FALSE,...)\n",
        "```\n",
        "\n",
        "Opis wybranych argumentów:\n",
        "\n",
        "+ `design` -- obiekt typu `survey.design`, który tworzymy funkcją `svydesign`,\n",
        "+ `formula` -- określamy zmienne wykorzystywane do kalibracji w postaci formuły (np. `~ x1 + x2`, `list(~x1, ~x2)`),\n",
        "+ `population` -- dane z populacji (wektor albo lista z wartościami),\n",
        "+ `bounds` -- zakres zmienności wag,\n",
        "+ `calfun` -- funkcja kalibracyjna,\n",
        "+ `trim` -- czy chcemy uciąć ekstremalne wagi."
      ]
    },
    {
      "cell_type": "markdown",
      "metadata": {
        "id": "eXMWmD1sTtv7"
      },
      "source": [
        "Wczytujemy dane do R"
      ]
    },
    {
      "cell_type": "code",
      "metadata": {
        "colab": {
          "base_uri": "https://localhost:8080/",
          "height": 306
        },
        "id": "mzbT4CfITuw_",
        "outputId": "7e319e9a-abc7-4466-f464-74935edcd8c0"
      },
      "source": [
        "dane <- read.csv(\"popyt-dane.csv\", stringsAsFactors = FALSE)\n",
        "head(dane)"
      ],
      "execution_count": 4,
      "outputs": [
        {
          "output_type": "display_data",
          "data": {
            "text/html": [
              "<table class=\"dataframe\">\n",
              "<caption>A data.frame: 6 × 14</caption>\n",
              "<thead>\n",
              "\t<tr><th></th><th scope=col>id_popyt</th><th scope=col>id_jednostki</th><th scope=col>waga</th><th scope=col>sek</th><th scope=col>klasa_pr</th><th scope=col>sekc_pkd</th><th scope=col>woj</th><th scope=col>zawod_kod2</th><th scope=col>wolne_miejsca</th><th scope=col>id_cbop</th><th scope=col>jedna_zmiana</th><th scope=col>wymiar_40</th><th scope=col>wolne_miejsca_cbop</th><th scope=col>wolne_miejsca_niepeln_cbop</th></tr>\n",
              "\t<tr><th></th><th scope=col>&lt;int&gt;</th><th scope=col>&lt;chr&gt;</th><th scope=col>&lt;int&gt;</th><th scope=col>&lt;int&gt;</th><th scope=col>&lt;chr&gt;</th><th scope=col>&lt;chr&gt;</th><th scope=col>&lt;int&gt;</th><th scope=col>&lt;int&gt;</th><th scope=col>&lt;int&gt;</th><th scope=col>&lt;int&gt;</th><th scope=col>&lt;lgl&gt;</th><th scope=col>&lt;lgl&gt;</th><th scope=col>&lt;int&gt;</th><th scope=col>&lt;int&gt;</th></tr>\n",
              "</thead>\n",
              "<tbody>\n",
              "\t<tr><th scope=row>1</th><td>1</td><td>a9cc990df6a99ab215a1bc13f51d4825c7d52d18</td><td>1</td><td>1</td><td>D</td><td>O  </td><td>14</td><td>1</td><td>2</td><td>NA</td><td>NA</td><td>NA</td><td>NA</td><td>NA</td></tr>\n",
              "\t<tr><th scope=row>2</th><td>2</td><td>a9cc990df6a99ab215a1bc13f51d4825c7d52d18</td><td>1</td><td>1</td><td>D</td><td>O  </td><td>14</td><td>2</td><td>7</td><td>NA</td><td>NA</td><td>NA</td><td>NA</td><td>NA</td></tr>\n",
              "\t<tr><th scope=row>3</th><td>3</td><td>c9dbaf50890165ebe810aa770de0e9df903dc35b</td><td>6</td><td>1</td><td>D</td><td>O  </td><td>24</td><td>2</td><td>6</td><td>NA</td><td>NA</td><td>NA</td><td>NA</td><td>NA</td></tr>\n",
              "\t<tr><th scope=row>4</th><td>4</td><td>718e0bba42bcec6ed98f9690db6d26cb7b93c880</td><td>1</td><td>1</td><td>D</td><td>R.S</td><td>14</td><td>2</td><td>7</td><td>NA</td><td>NA</td><td>NA</td><td>NA</td><td>NA</td></tr>\n",
              "\t<tr><th scope=row>5</th><td>5</td><td>532a1879a692b9d7bbb7282ba757d028156ef341</td><td>1</td><td>1</td><td>D</td><td>R.S</td><td>14</td><td>2</td><td>6</td><td>NA</td><td>NA</td><td>NA</td><td>NA</td><td>NA</td></tr>\n",
              "\t<tr><th scope=row>6</th><td>6</td><td>0b6b623fa45e257284a3049d097af322841337e3</td><td>1</td><td>1</td><td>D</td><td>R.S</td><td>22</td><td>2</td><td>1</td><td>NA</td><td>NA</td><td>NA</td><td>NA</td><td>NA</td></tr>\n",
              "</tbody>\n",
              "</table>\n"
            ],
            "text/markdown": "\nA data.frame: 6 × 14\n\n| <!--/--> | id_popyt &lt;int&gt; | id_jednostki &lt;chr&gt; | waga &lt;int&gt; | sek &lt;int&gt; | klasa_pr &lt;chr&gt; | sekc_pkd &lt;chr&gt; | woj &lt;int&gt; | zawod_kod2 &lt;int&gt; | wolne_miejsca &lt;int&gt; | id_cbop &lt;int&gt; | jedna_zmiana &lt;lgl&gt; | wymiar_40 &lt;lgl&gt; | wolne_miejsca_cbop &lt;int&gt; | wolne_miejsca_niepeln_cbop &lt;int&gt; |\n|---|---|---|---|---|---|---|---|---|---|---|---|---|---|---|\n| 1 | 1 | a9cc990df6a99ab215a1bc13f51d4825c7d52d18 | 1 | 1 | D | O   | 14 | 1 | 2 | NA | NA | NA | NA | NA |\n| 2 | 2 | a9cc990df6a99ab215a1bc13f51d4825c7d52d18 | 1 | 1 | D | O   | 14 | 2 | 7 | NA | NA | NA | NA | NA |\n| 3 | 3 | c9dbaf50890165ebe810aa770de0e9df903dc35b | 6 | 1 | D | O   | 24 | 2 | 6 | NA | NA | NA | NA | NA |\n| 4 | 4 | 718e0bba42bcec6ed98f9690db6d26cb7b93c880 | 1 | 1 | D | R.S | 14 | 2 | 7 | NA | NA | NA | NA | NA |\n| 5 | 5 | 532a1879a692b9d7bbb7282ba757d028156ef341 | 1 | 1 | D | R.S | 14 | 2 | 6 | NA | NA | NA | NA | NA |\n| 6 | 6 | 0b6b623fa45e257284a3049d097af322841337e3 | 1 | 1 | D | R.S | 22 | 2 | 1 | NA | NA | NA | NA | NA |\n\n",
            "text/latex": "A data.frame: 6 × 14\n\\begin{tabular}{r|llllllllllllll}\n  & id\\_popyt & id\\_jednostki & waga & sek & klasa\\_pr & sekc\\_pkd & woj & zawod\\_kod2 & wolne\\_miejsca & id\\_cbop & jedna\\_zmiana & wymiar\\_40 & wolne\\_miejsca\\_cbop & wolne\\_miejsca\\_niepeln\\_cbop\\\\\n  & <int> & <chr> & <int> & <int> & <chr> & <chr> & <int> & <int> & <int> & <int> & <lgl> & <lgl> & <int> & <int>\\\\\n\\hline\n\t1 & 1 & a9cc990df6a99ab215a1bc13f51d4825c7d52d18 & 1 & 1 & D & O   & 14 & 1 & 2 & NA & NA & NA & NA & NA\\\\\n\t2 & 2 & a9cc990df6a99ab215a1bc13f51d4825c7d52d18 & 1 & 1 & D & O   & 14 & 2 & 7 & NA & NA & NA & NA & NA\\\\\n\t3 & 3 & c9dbaf50890165ebe810aa770de0e9df903dc35b & 6 & 1 & D & O   & 24 & 2 & 6 & NA & NA & NA & NA & NA\\\\\n\t4 & 4 & 718e0bba42bcec6ed98f9690db6d26cb7b93c880 & 1 & 1 & D & R.S & 14 & 2 & 7 & NA & NA & NA & NA & NA\\\\\n\t5 & 5 & 532a1879a692b9d7bbb7282ba757d028156ef341 & 1 & 1 & D & R.S & 14 & 2 & 6 & NA & NA & NA & NA & NA\\\\\n\t6 & 6 & 0b6b623fa45e257284a3049d097af322841337e3 & 1 & 1 & D & R.S & 22 & 2 & 1 & NA & NA & NA & NA & NA\\\\\n\\end{tabular}\n",
            "text/plain": [
              "  id_popyt id_jednostki                             waga sek klasa_pr sekc_pkd\n",
              "1 1        a9cc990df6a99ab215a1bc13f51d4825c7d52d18 1    1   D        O       \n",
              "2 2        a9cc990df6a99ab215a1bc13f51d4825c7d52d18 1    1   D        O       \n",
              "3 3        c9dbaf50890165ebe810aa770de0e9df903dc35b 6    1   D        O       \n",
              "4 4        718e0bba42bcec6ed98f9690db6d26cb7b93c880 1    1   D        R.S     \n",
              "5 5        532a1879a692b9d7bbb7282ba757d028156ef341 1    1   D        R.S     \n",
              "6 6        0b6b623fa45e257284a3049d097af322841337e3 1    1   D        R.S     \n",
              "  woj zawod_kod2 wolne_miejsca id_cbop jedna_zmiana wymiar_40\n",
              "1 14  1          2             NA      NA           NA       \n",
              "2 14  2          7             NA      NA           NA       \n",
              "3 24  2          6             NA      NA           NA       \n",
              "4 14  2          7             NA      NA           NA       \n",
              "5 14  2          6             NA      NA           NA       \n",
              "6 22  2          1             NA      NA           NA       \n",
              "  wolne_miejsca_cbop wolne_miejsca_niepeln_cbop\n",
              "1 NA                 NA                        \n",
              "2 NA                 NA                        \n",
              "3 NA                 NA                        \n",
              "4 NA                 NA                        \n",
              "5 NA                 NA                        \n",
              "6 NA                 NA                        "
            ]
          },
          "metadata": {}
        }
      ]
    },
    {
      "cell_type": "markdown",
      "metadata": {
        "id": "Y4F-xqpo2TrD"
      },
      "source": [
        "W pierwszej kolejnosci utworzymy sobie dwa zbiory danych, które będą zawierały: \n",
        "\n",
        "+ próbę losową\n",
        "+ próbę nielosową"
      ]
    },
    {
      "cell_type": "code",
      "metadata": {
        "colab": {
          "base_uri": "https://localhost:8080/",
          "height": 286
        },
        "id": "zeA1BYBg2a8M",
        "outputId": "326daeb9-903b-47d5-e3e4-e7625fa7494d"
      },
      "source": [
        "proba_losowa <- dane %>% \n",
        "    filter(!is.na(id_popyt)) %>%  #\n",
        "    select(id_popyt:wolne_miejsca) %>%\n",
        "    mutate(sek = as.character(sek),\n",
        "           klasa_pr = as.character(klasa_pr),\n",
        "           zawod_kod2 = as.character(zawod_kod2))\n",
        "\n",
        "proba_nielos <- dane %>% \n",
        "    filter(!is.na(id_cbop)) %>% \n",
        "    select(id_cbop:wolne_miejsca_niepeln_cbop, sek:zawod_kod2) %>%\n",
        "    mutate(sek = as.character(sek),\n",
        "           klasa_pr = as.character(klasa_pr),\n",
        "           zawod_kod2 = as.character(zawod_kod2))\n",
        "\n",
        "head(proba_nielos)"
      ],
      "execution_count": 5,
      "outputs": [
        {
          "output_type": "display_data",
          "data": {
            "text/html": [
              "<table class=\"dataframe\">\n",
              "<caption>A data.frame: 6 × 10</caption>\n",
              "<thead>\n",
              "\t<tr><th></th><th scope=col>id_cbop</th><th scope=col>jedna_zmiana</th><th scope=col>wymiar_40</th><th scope=col>wolne_miejsca_cbop</th><th scope=col>wolne_miejsca_niepeln_cbop</th><th scope=col>sek</th><th scope=col>klasa_pr</th><th scope=col>sekc_pkd</th><th scope=col>woj</th><th scope=col>zawod_kod2</th></tr>\n",
              "\t<tr><th></th><th scope=col>&lt;int&gt;</th><th scope=col>&lt;lgl&gt;</th><th scope=col>&lt;lgl&gt;</th><th scope=col>&lt;int&gt;</th><th scope=col>&lt;int&gt;</th><th scope=col>&lt;chr&gt;</th><th scope=col>&lt;chr&gt;</th><th scope=col>&lt;chr&gt;</th><th scope=col>&lt;int&gt;</th><th scope=col>&lt;chr&gt;</th></tr>\n",
              "</thead>\n",
              "<tbody>\n",
              "\t<tr><th scope=row>1</th><td>1</td><td>FALSE</td><td>TRUE</td><td>1</td><td>0</td><td>1</td><td>D</td><td>P</td><td>30</td><td>3</td></tr>\n",
              "\t<tr><th scope=row>2</th><td>1</td><td> TRUE</td><td>TRUE</td><td>1</td><td>0</td><td>1</td><td>D</td><td>O</td><td>14</td><td>3</td></tr>\n",
              "\t<tr><th scope=row>3</th><td>1</td><td> TRUE</td><td>TRUE</td><td>1</td><td>0</td><td>1</td><td>D</td><td>O</td><td>14</td><td>4</td></tr>\n",
              "\t<tr><th scope=row>4</th><td>1</td><td> TRUE</td><td>TRUE</td><td>1</td><td>0</td><td>1</td><td>D</td><td>O</td><td> 4</td><td>4</td></tr>\n",
              "\t<tr><th scope=row>5</th><td>1</td><td> TRUE</td><td>TRUE</td><td>4</td><td>0</td><td>1</td><td>D</td><td>O</td><td>24</td><td>4</td></tr>\n",
              "\t<tr><th scope=row>6</th><td>1</td><td> TRUE</td><td>TRUE</td><td>1</td><td>0</td><td>1</td><td>D</td><td>O</td><td> 4</td><td>3</td></tr>\n",
              "</tbody>\n",
              "</table>\n"
            ],
            "text/markdown": "\nA data.frame: 6 × 10\n\n| <!--/--> | id_cbop &lt;int&gt; | jedna_zmiana &lt;lgl&gt; | wymiar_40 &lt;lgl&gt; | wolne_miejsca_cbop &lt;int&gt; | wolne_miejsca_niepeln_cbop &lt;int&gt; | sek &lt;chr&gt; | klasa_pr &lt;chr&gt; | sekc_pkd &lt;chr&gt; | woj &lt;int&gt; | zawod_kod2 &lt;chr&gt; |\n|---|---|---|---|---|---|---|---|---|---|---|\n| 1 | 1 | FALSE | TRUE | 1 | 0 | 1 | D | P | 30 | 3 |\n| 2 | 1 |  TRUE | TRUE | 1 | 0 | 1 | D | O | 14 | 3 |\n| 3 | 1 |  TRUE | TRUE | 1 | 0 | 1 | D | O | 14 | 4 |\n| 4 | 1 |  TRUE | TRUE | 1 | 0 | 1 | D | O |  4 | 4 |\n| 5 | 1 |  TRUE | TRUE | 4 | 0 | 1 | D | O | 24 | 4 |\n| 6 | 1 |  TRUE | TRUE | 1 | 0 | 1 | D | O |  4 | 3 |\n\n",
            "text/latex": "A data.frame: 6 × 10\n\\begin{tabular}{r|llllllllll}\n  & id\\_cbop & jedna\\_zmiana & wymiar\\_40 & wolne\\_miejsca\\_cbop & wolne\\_miejsca\\_niepeln\\_cbop & sek & klasa\\_pr & sekc\\_pkd & woj & zawod\\_kod2\\\\\n  & <int> & <lgl> & <lgl> & <int> & <int> & <chr> & <chr> & <chr> & <int> & <chr>\\\\\n\\hline\n\t1 & 1 & FALSE & TRUE & 1 & 0 & 1 & D & P & 30 & 3\\\\\n\t2 & 1 &  TRUE & TRUE & 1 & 0 & 1 & D & O & 14 & 3\\\\\n\t3 & 1 &  TRUE & TRUE & 1 & 0 & 1 & D & O & 14 & 4\\\\\n\t4 & 1 &  TRUE & TRUE & 1 & 0 & 1 & D & O &  4 & 4\\\\\n\t5 & 1 &  TRUE & TRUE & 4 & 0 & 1 & D & O & 24 & 4\\\\\n\t6 & 1 &  TRUE & TRUE & 1 & 0 & 1 & D & O &  4 & 3\\\\\n\\end{tabular}\n",
            "text/plain": [
              "  id_cbop jedna_zmiana wymiar_40 wolne_miejsca_cbop wolne_miejsca_niepeln_cbop\n",
              "1 1       FALSE        TRUE      1                  0                         \n",
              "2 1        TRUE        TRUE      1                  0                         \n",
              "3 1        TRUE        TRUE      1                  0                         \n",
              "4 1        TRUE        TRUE      1                  0                         \n",
              "5 1        TRUE        TRUE      4                  0                         \n",
              "6 1        TRUE        TRUE      1                  0                         \n",
              "  sek klasa_pr sekc_pkd woj zawod_kod2\n",
              "1 1   D        P        30  3         \n",
              "2 1   D        O        14  3         \n",
              "3 1   D        O        14  4         \n",
              "4 1   D        O         4  4         \n",
              "5 1   D        O        24  4         \n",
              "6 1   D        O         4  3         "
            ]
          },
          "metadata": {}
        }
      ]
    },
    {
      "cell_type": "markdown",
      "metadata": {
        "id": "QFwywpd73Q71"
      },
      "source": [
        "Załóżmy, że chcemy odtworzyć wartości globalne (tj. liczbę wolnych miejsc pracy) według następujących zmiennych:\n",
        "\n",
        "+ `sek` -- sektor własności\n",
        "+ `klasa_pr` -- klasa wielkości\n",
        "+ `zawod_kod2` -- kod zawodu"
      ]
    },
    {
      "cell_type": "code",
      "metadata": {
        "colab": {
          "base_uri": "https://localhost:8080/",
          "height": 349
        },
        "id": "VH0D034J4j2z",
        "outputId": "635f40e7-307a-45b4-af8c-139fa29f1a24"
      },
      "source": [
        "proba_losowa %>%\n",
        "  group_by(zawod_kod2) %>%\n",
        "  summarise(wynik = sum(wolne_miejsca*waga))"
      ],
      "execution_count": 6,
      "outputs": [
        {
          "output_type": "display_data",
          "data": {
            "text/html": [
              "<table class=\"dataframe\">\n",
              "<caption>A tibble: 8 × 2</caption>\n",
              "<thead>\n",
              "\t<tr><th scope=col>zawod_kod2</th><th scope=col>wynik</th></tr>\n",
              "\t<tr><th scope=col>&lt;chr&gt;</th><th scope=col>&lt;int&gt;</th></tr>\n",
              "</thead>\n",
              "<tbody>\n",
              "\t<tr><td>1</td><td>11298</td></tr>\n",
              "\t<tr><td>2</td><td>39141</td></tr>\n",
              "\t<tr><td>3</td><td>19823</td></tr>\n",
              "\t<tr><td>4</td><td>27414</td></tr>\n",
              "\t<tr><td>5</td><td>51709</td></tr>\n",
              "\t<tr><td>7</td><td>73566</td></tr>\n",
              "\t<tr><td>8</td><td>47146</td></tr>\n",
              "\t<tr><td>9</td><td>24197</td></tr>\n",
              "</tbody>\n",
              "</table>\n"
            ],
            "text/markdown": "\nA tibble: 8 × 2\n\n| zawod_kod2 &lt;chr&gt; | wynik &lt;int&gt; |\n|---|---|\n| 1 | 11298 |\n| 2 | 39141 |\n| 3 | 19823 |\n| 4 | 27414 |\n| 5 | 51709 |\n| 7 | 73566 |\n| 8 | 47146 |\n| 9 | 24197 |\n\n",
            "text/latex": "A tibble: 8 × 2\n\\begin{tabular}{ll}\n zawod\\_kod2 & wynik\\\\\n <chr> & <int>\\\\\n\\hline\n\t 1 & 11298\\\\\n\t 2 & 39141\\\\\n\t 3 & 19823\\\\\n\t 4 & 27414\\\\\n\t 5 & 51709\\\\\n\t 7 & 73566\\\\\n\t 8 & 47146\\\\\n\t 9 & 24197\\\\\n\\end{tabular}\n",
            "text/plain": [
              "  zawod_kod2 wynik\n",
              "1 1          11298\n",
              "2 2          39141\n",
              "3 3          19823\n",
              "4 4          27414\n",
              "5 5          51709\n",
              "6 7          73566\n",
              "7 8          47146\n",
              "8 9          24197"
            ]
          },
          "metadata": {}
        }
      ]
    },
    {
      "cell_type": "markdown",
      "metadata": {
        "id": "HtKYeLGK6jk8"
      },
      "source": [
        "W przypadku pakietu survey najlepszym sposobem jest utworzenie wartości globalnych z wykorzystaniem funkcji `xtabs`. Proszę pamietać, że zmienne w obydwu zbiorach danych muszą nazywać się tak samo oraz muszą mieć takie same poziomy."
      ]
    },
    {
      "cell_type": "code",
      "metadata": {
        "colab": {
          "base_uri": "https://localhost:8080/",
          "height": 71
        },
        "id": "unL6P78T6tQ3",
        "outputId": "4e8456e7-af63-4f06-8cfa-d5b7a175bc31"
      },
      "source": [
        "total_sek <- xtabs(wolne_miejsca*waga ~ sek, data = proba_losowa)\n",
        "total_wielk <- xtabs(wolne_miejsca*waga ~ klasa_pr, data = proba_losowa)\n",
        "total_zawod <- xtabs(wolne_miejsca*waga ~ zawod_kod2, data = proba_losowa)\n",
        "total_zawod"
      ],
      "execution_count": 7,
      "outputs": [
        {
          "output_type": "display_data",
          "data": {
            "text/plain": [
              "zawod_kod2\n",
              "    1     2     3     4     5     7     8     9 \n",
              "11298 39141 19823 27414 51709 73566 47146 24197 "
            ]
          },
          "metadata": {}
        }
      ]
    },
    {
      "cell_type": "markdown",
      "metadata": {
        "id": "3caOnPHI7cZB"
      },
      "source": [
        "Tworzymy obiekt `survey.design` na podstawie próby nielosowej. Zmienna `wolne_miejsca_cbop` zostanie wykorzystana jako wejściowa waga (pseudo-waga) ponieważ ona określa ile razy dany wiersz powinien zostać powtórzony."
      ]
    },
    {
      "cell_type": "code",
      "metadata": {
        "colab": {
          "base_uri": "https://localhost:8080/",
          "height": 53
        },
        "id": "n6wNLF_Z7gQY",
        "outputId": "215b8be2-74d5-4de2-8b28-6aa24b0c3de4"
      },
      "source": [
        "svy_nielos <- svydesign(ids = ~1, weight = ~ wolne_miejsca_cbop, data = proba_nielos)\n",
        "svy_nielos"
      ],
      "execution_count": 8,
      "outputs": [
        {
          "output_type": "display_data",
          "data": {
            "text/plain": [
              "Independent Sampling design (with replacement)\n",
              "svydesign(ids = ~1, weight = ~wolne_miejsca_cbop, data = proba_nielos)"
            ]
          },
          "metadata": {}
        }
      ]
    },
    {
      "cell_type": "code",
      "metadata": {
        "colab": {
          "base_uri": "https://localhost:8080/",
          "height": 71
        },
        "id": "kPuv2y4X8C2z",
        "outputId": "56c0d12d-b008-4c20-9bbd-0a5f04eff521"
      },
      "source": [
        "svytable(~zawod_kod2, svy_nielos)"
      ],
      "execution_count": 9,
      "outputs": [
        {
          "output_type": "display_data",
          "data": {
            "text/plain": [
              "zawod_kod2\n",
              "   1    2    3    4    5    7    8    9 \n",
              " 297 1871 1660 2931 4756 6734 4109 6086 "
            ]
          },
          "metadata": {}
        }
      ]
    },
    {
      "cell_type": "markdown",
      "metadata": {
        "id": "2Dci7fbI8Vvd"
      },
      "source": [
        "Przechodzimy do kalibracji z wykorzystaniem funkcji `calibrate`. Wykonamy dwie kalibracje według dwóch różnych zestawów wag:\n",
        "\n",
        "1. Zapis `list(~ sek, ~zawod_kod2)` oznacza, że kalibrujemy niezależnie dla sekcji (`sek`) oraz zawodów (`zawod_kod2`).\n",
        "2. Zapis `list(~ sek, ~zawod_kod2, ~klasa_pr)` oznacza, że kalibrujemy niezależnie dla sekcji (`sek`), zawodów (`zawod_kod2`) oraz wielkości podmiotu (`klasa_pr`)."
      ]
    },
    {
      "cell_type": "code",
      "metadata": {
        "id": "Rmm8p7Uz8ZQy"
      },
      "source": [
        "## pierwszy zestaw\n",
        "svy_nielos_calib <- calibrate(\n",
        "  design = svy_nielos,\n",
        "  formula = list(~sek, ~zawod_kod2), \n",
        "  population = list(total_sek, total_zawod)\n",
        ")\n",
        "\n",
        "## drugi zestaw\n",
        "svy_nielos_calib2 <- calibrate(\n",
        "  design = svy_nielos,\n",
        "  formula = list(~sek, ~zawod_kod2, ~klasa_pr), \n",
        "  population = list(total_sek, total_zawod, total_wielk)\n",
        ")"
      ],
      "execution_count": 10,
      "outputs": []
    },
    {
      "cell_type": "markdown",
      "metadata": {
        "id": "BoCg6Itp9V5o"
      },
      "source": [
        "Oszacujmy jaki był odsetek podmiotów, które ofertowały pracę na jedną zmianę.\n",
        "\n",
        "+ Bez uwzględnienia kalibracji ten odsetek wynosił 51%\n",
        "+ Po uwzględnieniu kalibracji ten odsetek wynosił 53% (sek, zawod)\n",
        "+ Po uwzględnieniu kalibracji ten odsetek wynosił 62% (sek, zawod, wielkość)"
      ]
    },
    {
      "cell_type": "code",
      "metadata": {
        "colab": {
          "base_uri": "https://localhost:8080/",
          "height": 178
        },
        "id": "i95FjfZA9zW5",
        "outputId": "7d013fcd-6e1b-4333-f0b5-d62ef57e328d"
      },
      "source": [
        "svymean(~jedna_zmiana, svy_nielos)\n",
        "svymean(~jedna_zmiana, svy_nielos_calib)\n",
        "svymean(~jedna_zmiana, svy_nielos_calib2)"
      ],
      "execution_count": 11,
      "outputs": [
        {
          "output_type": "display_data",
          "data": {
            "text/plain": [
              "                    mean     SE\n",
              "jedna_zmianaFALSE 0.4943 0.0128\n",
              "jedna_zmianaTRUE  0.5057 0.0128"
            ]
          },
          "metadata": {}
        },
        {
          "output_type": "display_data",
          "data": {
            "text/plain": [
              "                     mean     SE\n",
              "jedna_zmianaFALSE 0.46708 0.0112\n",
              "jedna_zmianaTRUE  0.53292 0.0112"
            ]
          },
          "metadata": {}
        },
        {
          "output_type": "display_data",
          "data": {
            "text/plain": [
              "                     mean     SE\n",
              "jedna_zmianaFALSE 0.38032 0.0074\n",
              "jedna_zmianaTRUE  0.61968 0.0074"
            ]
          },
          "metadata": {}
        }
      ]
    },
    {
      "cell_type": "markdown",
      "source": [
        "## Kalibracja na różnych poziomach\n",
        "\n",
        "Poniżej przedstawiam przykład, w którym kalibracji dokonuje się na dwóch różnych poziomach co nie jest możliwe w przypadku post-stratyfikacji. Celem będzie odtworzenie liczby podmiotów według ich wielkości (1 poziom) oraz liczby wakatów według wielkości podmiotów (2 poziom). Czyli będę chciał utworzyć takie wagi aby po ich zsumowaniu uzyskać zgodność zarówno w zakresie wielkości populacji referencyjnej (czyli liczby podmiotów w Polsce), jak i estymowanej liczby wolnych miejsc pracy w tych podmiotach. \n",
        "\n",
        "Zadanie to wykonane będzie w dwóch krokach:\n",
        "\n",
        "1. Należy dodać zestaw zmiennych określających liczbę wakatów według wielkości podmiotu do zbioru `proba_nielos`. Utworzona zostanie również nowa waga odzwierciedlająca liczbę podmiotów, a nie liczbę wakatów.\n",
        "2. Należy utworzyć specjalny wektor, który będzie zawierał wartości globalne z dwóch poziomów.\n"
      ],
      "metadata": {
        "id": "wspUDoCrsj3F"
      }
    },
    {
      "cell_type": "code",
      "source": [
        "proba_nielos <- proba_nielos %>% \n",
        "    mutate(wakaty_d = ifelse(klasa_pr == \"D\", wolne_miejsca_cbop, 0),\n",
        "           wakaty_m = ifelse(klasa_pr == \"M\", wolne_miejsca_cbop, 0),\n",
        "           wakaty_s = ifelse(klasa_pr == \"S\", wolne_miejsca_cbop, 0),\n",
        "           waga = sum(proba_losowa$waga)/n())\n",
        "\n",
        "head(proba_nielos)"
      ],
      "metadata": {
        "colab": {
          "base_uri": "https://localhost:8080/",
          "height": 306
        },
        "id": "pUBjnwb6tqsm",
        "outputId": "6e02c229-33ab-4b3b-8a16-2d4e131c2c5e"
      },
      "execution_count": 12,
      "outputs": [
        {
          "output_type": "display_data",
          "data": {
            "text/html": [
              "<table class=\"dataframe\">\n",
              "<caption>A data.frame: 6 × 14</caption>\n",
              "<thead>\n",
              "\t<tr><th></th><th scope=col>id_cbop</th><th scope=col>jedna_zmiana</th><th scope=col>wymiar_40</th><th scope=col>wolne_miejsca_cbop</th><th scope=col>wolne_miejsca_niepeln_cbop</th><th scope=col>sek</th><th scope=col>klasa_pr</th><th scope=col>sekc_pkd</th><th scope=col>woj</th><th scope=col>zawod_kod2</th><th scope=col>wakaty_d</th><th scope=col>wakaty_m</th><th scope=col>wakaty_s</th><th scope=col>waga</th></tr>\n",
              "\t<tr><th></th><th scope=col>&lt;int&gt;</th><th scope=col>&lt;lgl&gt;</th><th scope=col>&lt;lgl&gt;</th><th scope=col>&lt;int&gt;</th><th scope=col>&lt;int&gt;</th><th scope=col>&lt;chr&gt;</th><th scope=col>&lt;chr&gt;</th><th scope=col>&lt;chr&gt;</th><th scope=col>&lt;int&gt;</th><th scope=col>&lt;chr&gt;</th><th scope=col>&lt;dbl&gt;</th><th scope=col>&lt;dbl&gt;</th><th scope=col>&lt;dbl&gt;</th><th scope=col>&lt;dbl&gt;</th></tr>\n",
              "</thead>\n",
              "<tbody>\n",
              "\t<tr><th scope=row>1</th><td>1</td><td>FALSE</td><td>TRUE</td><td>1</td><td>0</td><td>1</td><td>D</td><td>P</td><td>30</td><td>3</td><td>1</td><td>0</td><td>0</td><td>5.368999</td></tr>\n",
              "\t<tr><th scope=row>2</th><td>1</td><td> TRUE</td><td>TRUE</td><td>1</td><td>0</td><td>1</td><td>D</td><td>O</td><td>14</td><td>3</td><td>1</td><td>0</td><td>0</td><td>5.368999</td></tr>\n",
              "\t<tr><th scope=row>3</th><td>1</td><td> TRUE</td><td>TRUE</td><td>1</td><td>0</td><td>1</td><td>D</td><td>O</td><td>14</td><td>4</td><td>1</td><td>0</td><td>0</td><td>5.368999</td></tr>\n",
              "\t<tr><th scope=row>4</th><td>1</td><td> TRUE</td><td>TRUE</td><td>1</td><td>0</td><td>1</td><td>D</td><td>O</td><td> 4</td><td>4</td><td>1</td><td>0</td><td>0</td><td>5.368999</td></tr>\n",
              "\t<tr><th scope=row>5</th><td>1</td><td> TRUE</td><td>TRUE</td><td>4</td><td>0</td><td>1</td><td>D</td><td>O</td><td>24</td><td>4</td><td>4</td><td>0</td><td>0</td><td>5.368999</td></tr>\n",
              "\t<tr><th scope=row>6</th><td>1</td><td> TRUE</td><td>TRUE</td><td>1</td><td>0</td><td>1</td><td>D</td><td>O</td><td> 4</td><td>3</td><td>1</td><td>0</td><td>0</td><td>5.368999</td></tr>\n",
              "</tbody>\n",
              "</table>\n"
            ],
            "text/markdown": "\nA data.frame: 6 × 14\n\n| <!--/--> | id_cbop &lt;int&gt; | jedna_zmiana &lt;lgl&gt; | wymiar_40 &lt;lgl&gt; | wolne_miejsca_cbop &lt;int&gt; | wolne_miejsca_niepeln_cbop &lt;int&gt; | sek &lt;chr&gt; | klasa_pr &lt;chr&gt; | sekc_pkd &lt;chr&gt; | woj &lt;int&gt; | zawod_kod2 &lt;chr&gt; | wakaty_d &lt;dbl&gt; | wakaty_m &lt;dbl&gt; | wakaty_s &lt;dbl&gt; | waga &lt;dbl&gt; |\n|---|---|---|---|---|---|---|---|---|---|---|---|---|---|---|\n| 1 | 1 | FALSE | TRUE | 1 | 0 | 1 | D | P | 30 | 3 | 1 | 0 | 0 | 5.368999 |\n| 2 | 1 |  TRUE | TRUE | 1 | 0 | 1 | D | O | 14 | 3 | 1 | 0 | 0 | 5.368999 |\n| 3 | 1 |  TRUE | TRUE | 1 | 0 | 1 | D | O | 14 | 4 | 1 | 0 | 0 | 5.368999 |\n| 4 | 1 |  TRUE | TRUE | 1 | 0 | 1 | D | O |  4 | 4 | 1 | 0 | 0 | 5.368999 |\n| 5 | 1 |  TRUE | TRUE | 4 | 0 | 1 | D | O | 24 | 4 | 4 | 0 | 0 | 5.368999 |\n| 6 | 1 |  TRUE | TRUE | 1 | 0 | 1 | D | O |  4 | 3 | 1 | 0 | 0 | 5.368999 |\n\n",
            "text/latex": "A data.frame: 6 × 14\n\\begin{tabular}{r|llllllllllllll}\n  & id\\_cbop & jedna\\_zmiana & wymiar\\_40 & wolne\\_miejsca\\_cbop & wolne\\_miejsca\\_niepeln\\_cbop & sek & klasa\\_pr & sekc\\_pkd & woj & zawod\\_kod2 & wakaty\\_d & wakaty\\_m & wakaty\\_s & waga\\\\\n  & <int> & <lgl> & <lgl> & <int> & <int> & <chr> & <chr> & <chr> & <int> & <chr> & <dbl> & <dbl> & <dbl> & <dbl>\\\\\n\\hline\n\t1 & 1 & FALSE & TRUE & 1 & 0 & 1 & D & P & 30 & 3 & 1 & 0 & 0 & 5.368999\\\\\n\t2 & 1 &  TRUE & TRUE & 1 & 0 & 1 & D & O & 14 & 3 & 1 & 0 & 0 & 5.368999\\\\\n\t3 & 1 &  TRUE & TRUE & 1 & 0 & 1 & D & O & 14 & 4 & 1 & 0 & 0 & 5.368999\\\\\n\t4 & 1 &  TRUE & TRUE & 1 & 0 & 1 & D & O &  4 & 4 & 1 & 0 & 0 & 5.368999\\\\\n\t5 & 1 &  TRUE & TRUE & 4 & 0 & 1 & D & O & 24 & 4 & 4 & 0 & 0 & 5.368999\\\\\n\t6 & 1 &  TRUE & TRUE & 1 & 0 & 1 & D & O &  4 & 3 & 1 & 0 & 0 & 5.368999\\\\\n\\end{tabular}\n",
            "text/plain": [
              "  id_cbop jedna_zmiana wymiar_40 wolne_miejsca_cbop wolne_miejsca_niepeln_cbop\n",
              "1 1       FALSE        TRUE      1                  0                         \n",
              "2 1        TRUE        TRUE      1                  0                         \n",
              "3 1        TRUE        TRUE      1                  0                         \n",
              "4 1        TRUE        TRUE      1                  0                         \n",
              "5 1        TRUE        TRUE      4                  0                         \n",
              "6 1        TRUE        TRUE      1                  0                         \n",
              "  sek klasa_pr sekc_pkd woj zawod_kod2 wakaty_d wakaty_m wakaty_s waga    \n",
              "1 1   D        P        30  3          1        0        0        5.368999\n",
              "2 1   D        O        14  3          1        0        0        5.368999\n",
              "3 1   D        O        14  4          1        0        0        5.368999\n",
              "4 1   D        O         4  4          1        0        0        5.368999\n",
              "5 1   D        O        24  4          4        0        0        5.368999\n",
              "6 1   D        O         4  3          1        0        0        5.368999"
            ]
          },
          "metadata": {}
        }
      ]
    },
    {
      "cell_type": "markdown",
      "source": [
        "Wartości globalne"
      ],
      "metadata": {
        "id": "vSVb4gYptt6m"
      }
    },
    {
      "cell_type": "code",
      "source": [
        "total_klasa_pod <- xtabs(waga ~ klasa_pr, proba_losowa)\n",
        "total_klasa_wak <- xtabs(waga*wolne_miejsca ~ klasa_pr, proba_losowa)\n",
        "\n",
        "cat(\"===================\")\n",
        "print(\"Liczba podmiotów:\")\n",
        "total_klasa_pod\n",
        "cat(\"===================\")\n",
        "print(\"Estymowana liczba wakatów:\")\n",
        "total_klasa_wak"
      ],
      "metadata": {
        "colab": {
          "base_uri": "https://localhost:8080/",
          "height": 160
        },
        "id": "qBixDbChtvXX",
        "outputId": "f3663bf0-c4cb-41e0-a3ec-fef6bad8a32e"
      },
      "execution_count": 16,
      "outputs": [
        {
          "output_type": "stream",
          "name": "stdout",
          "text": [
            "===================[1] \"Liczba podmiotów:\"\n"
          ]
        },
        {
          "output_type": "display_data",
          "data": {
            "text/plain": [
              "klasa_pr\n",
              "    D     M     S \n",
              "13099 32417 16104 "
            ]
          },
          "metadata": {}
        },
        {
          "output_type": "stream",
          "name": "stdout",
          "text": [
            "===================[1] \"Estymowana liczba wakatów:\"\n"
          ]
        },
        {
          "output_type": "display_data",
          "data": {
            "text/plain": [
              "klasa_pr\n",
              "     D      M      S \n",
              " 94124 128940  71230 "
            ]
          },
          "metadata": {}
        }
      ]
    },
    {
      "cell_type": "code",
      "source": [
        "proba_nielos_svy <- svydesign(ids= ~1, weights = ~waga, data = proba_nielos)\n",
        "svytotal(~wakaty_s, proba_nielos_svy)"
      ],
      "metadata": {
        "colab": {
          "base_uri": "https://localhost:8080/",
          "height": 53
        },
        "id": "w8cZAGVWvB4_",
        "outputId": "bbe154ac-6e73-4609-9eec-7010787e9a22"
      },
      "execution_count": 17,
      "outputs": [
        {
          "output_type": "display_data",
          "data": {
            "text/plain": [
              "         total     SE\n",
              "wakaty_s 37003 920.31"
            ]
          },
          "metadata": {}
        }
      ]
    },
    {
      "cell_type": "code",
      "source": [
        "proba_nielos_svy_cal <- calibrate(design = proba_nielos_svy, \n",
        "                                  formula = ~klasa_pr+wakaty_d+wakaty_m+wakaty_s,\n",
        "                                  population = c(\n",
        "                                    \"(Intercept)\" = sum(total_klasa_pod),  ## liczba podmiotów ogółem\n",
        "                                    \"klasa_prM\" = unname(total_klasa_pod[2]), ## liczba podmiotów małych\n",
        "                                    \"klasa_prS\" = unname(total_klasa_pod[3]), ## liczba podmiotów srednich \n",
        "                                    \"wakaty_d\" = unname(total_klasa_wak[1]), ## liczba wakatów w duzych podmiotach\n",
        "                                    \"wakaty_m\" = unname(total_klasa_wak[2]), ## liczba wakatow w małych podmiotach\n",
        "                                    \"wakaty_s\" = unname(total_klasa_wak[3])) ## liczba wakatow w średnich podmiotach\n",
        "                                    ) "
      ],
      "metadata": {
        "id": "Cj4PRb9evDfR"
      },
      "execution_count": 18,
      "outputs": []
    },
    {
      "cell_type": "code",
      "source": [
        "res = svyby(~wolne_miejsca_cbop, ~jedna_zmiana, proba_nielos_svy_cal, svytotal)\n",
        "res"
      ],
      "metadata": {
        "colab": {
          "base_uri": "https://localhost:8080/",
          "height": 161
        },
        "id": "7asogGTovY79",
        "outputId": "473d5f8b-fa97-458d-dc01-fe5fab09812f"
      },
      "execution_count": 21,
      "outputs": [
        {
          "output_type": "display_data",
          "data": {
            "text/html": [
              "<table class=\"dataframe\">\n",
              "<caption>A svyby: 2 × 3</caption>\n",
              "<thead>\n",
              "\t<tr><th></th><th scope=col>jedna_zmiana</th><th scope=col>wolne_miejsca_cbop</th><th scope=col>se</th></tr>\n",
              "\t<tr><th></th><th scope=col>&lt;lgl&gt;</th><th scope=col>&lt;dbl&gt;</th><th scope=col>&lt;dbl&gt;</th></tr>\n",
              "</thead>\n",
              "<tbody>\n",
              "\t<tr><th scope=row>FALSE</th><td>FALSE</td><td>119136</td><td>6054.308</td></tr>\n",
              "\t<tr><th scope=row>TRUE</th><td> TRUE</td><td>175158</td><td>6054.308</td></tr>\n",
              "</tbody>\n",
              "</table>\n"
            ],
            "text/markdown": "\nA svyby: 2 × 3\n\n| <!--/--> | jedna_zmiana &lt;lgl&gt; | wolne_miejsca_cbop &lt;dbl&gt; | se &lt;dbl&gt; |\n|---|---|---|---|\n| FALSE | FALSE | 119136 | 6054.308 |\n| TRUE |  TRUE | 175158 | 6054.308 |\n\n",
            "text/latex": "A svyby: 2 × 3\n\\begin{tabular}{r|lll}\n  & jedna\\_zmiana & wolne\\_miejsca\\_cbop & se\\\\\n  & <lgl> & <dbl> & <dbl>\\\\\n\\hline\n\tFALSE & FALSE & 119136 & 6054.308\\\\\n\tTRUE &  TRUE & 175158 & 6054.308\\\\\n\\end{tabular}\n",
            "text/plain": [
              "      jedna_zmiana wolne_miejsca_cbop se      \n",
              "FALSE FALSE        119136             6054.308\n",
              "TRUE   TRUE        175158             6054.308"
            ]
          },
          "metadata": {}
        }
      ]
    },
    {
      "cell_type": "markdown",
      "source": [
        "Estymator odsetka wolnych miejsc na jedną zmianę"
      ],
      "metadata": {
        "id": "TtA4pL9Nvkse"
      }
    },
    {
      "cell_type": "code",
      "source": [
        "weighted.mean(res$jedna_zmiana,res$wolne_miejsca_cbop)"
      ],
      "metadata": {
        "colab": {
          "base_uri": "https://localhost:8080/",
          "height": 34
        },
        "id": "6NaCOHiavgYU",
        "outputId": "a0d84366-53b5-45fb-e648-04c4b6f6f1d6"
      },
      "execution_count": 22,
      "outputs": [
        {
          "output_type": "display_data",
          "data": {
            "text/html": [
              "0.595180274162099"
            ],
            "text/markdown": "0.595180274162099",
            "text/latex": "0.595180274162099",
            "text/plain": [
              "[1] 0.5951803"
            ]
          },
          "metadata": {}
        }
      ]
    },
    {
      "cell_type": "markdown",
      "source": [
        "## Mała symulacja "
      ],
      "metadata": {
        "id": "zkxLtkSwlu7B"
      }
    },
    {
      "cell_type": "code",
      "source": [
        "set.seed(123)\n",
        "N <- 100000 ## wielkość populacji \n",
        "x <- sample(x = c(\"a\", \"b\", \"c\", \"d\"), size = N, prob = c(0.2, 0.5, 0.1, 0.2), replace = T) \n",
        "y <- 4 - 0.3*(x==\"b\") + 2.5*(x == \"c\") - 1.5*(x == \"d\") + rnorm(N) ## zmienna celu\n",
        "prob <- exp(-1 + 1.5*(x == \"b\")) / (1 + exp(-1 + 1.5*(x == \"b\")))\n",
        "df <- data.frame(x=as.factor(x) , y, prob)\n",
        "lm1 <- lm(y ~ x, data = df)\n",
        "#summary(lm1)\n",
        "B <- 100\n",
        "wynik <- matrix(0, ncol = 4, nrow = B)\n",
        "for (b in 1:B) {\n",
        "  nonprob <- rbinom(n = N, size = 1, prob = prob)\n",
        "  df_nonprob <- df[nonprob == 1, ]\n",
        "  df_nonprob$waga <- N/nrow(df_nonprob)\n",
        "  df_nonprob_svy <- svydesign(ids = ~1, strata = ~x, weights = ~ waga, data = df_nonprob)\n",
        "  pop_totals <- xtabs(~x, data = df)\n",
        "  ## post-stratyfikacja\n",
        "  df_nonprob_svy_post <- postStratify(df_nonprob_svy, ~x, pop_totals)\n",
        "  ## kalibracja\n",
        "  df_nonprob_svy_cal <- calibrate(df_nonprob_svy, list(~x), list(pop_totals))\n",
        "  ## kalibracja z funkcją logit\n",
        "  df_nonprob_svy_cal_logit <- calibrate(df_nonprob_svy, list(~x), list(pop_totals), \n",
        "                                calfun = \"logit\", \n",
        "                                bounds = c(0.6, 1.8))\n",
        "  wynik[b, 1] <- svymean(~y,df_nonprob_svy_post)[1]\n",
        "  wynik[b, 2] <- svymean(~y,df_nonprob_svy_cal)[1]\n",
        "  wynik[b, 3] <- svymean(~y,df_nonprob_svy_cal_logit)[1]\n",
        "  wynik[b, 4] <- svymean(~y,df_nonprob_svy)[1]\n",
        "}\n",
        "\n",
        "colnames(wynik) <- c(\"PS\",\"Cal\", \"Cal-logit\", \"Naive\")\n",
        "boxplot(wynik)"
      ],
      "metadata": {
        "id": "mZ4Ry3A7lwod",
        "colab": {
          "base_uri": "https://localhost:8080/",
          "height": 437
        },
        "outputId": "d5c66738-a7a9-4ff2-ea16-37b536c562f7"
      },
      "execution_count": 23,
      "outputs": [
        {
          "output_type": "display_data",
          "data": {
            "text/plain": [
              "plot without title"
            ],
            "image/png": "[encoded data removed]"
          },
          "metadata": {
            "image/png": {
              "width": 420,
              "height": 420
            }
          }
        }
      ]
    }
  ]
}