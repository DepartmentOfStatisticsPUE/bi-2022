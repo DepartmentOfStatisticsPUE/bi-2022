{
  "nbformat": 4,
  "nbformat_minor": 0,
  "metadata": {
    "colab": {
      "name": "bi_2021_05_17-rivers.ipynb",
      "provenance": [],
      "collapsed_sections": [],
      "authorship_tag": "ABX9TyPymHfapg639Mo4LCpkhSB2",
      "include_colab_link": true
    },
    "kernelspec": {
      "name": "ir",
      "display_name": "R"
    },
    "language_info": {
      "name": "R"
    }
  },
  "cells": [
    {
      "cell_type": "markdown",
      "metadata": {
        "id": "view-in-github",
        "colab_type": "text"
      },
      "source": [
        "<a href=\"https://colab.research.google.com/github/DepartmentOfStatisticsPUE/bi-2022/blob/main/notebooks/5-model-rivers.ipynb\" target=\"_parent\"><img src=\"https://colab.research.google.com/assets/colab-badge.svg\" alt=\"Open In Colab\"/></a>"
      ]
    },
    {
      "cell_type": "markdown",
      "metadata": {
        "id": "u0CsHczIJFmz"
      },
      "source": [
        "# Wstęp"
      ]
    },
    {
      "cell_type": "markdown",
      "metadata": {
        "id": "EG_iph6mHHpO"
      },
      "source": [
        "W tym skrypcie zastosujemy metodę opartą na pracy [Rivers, D. (2007). Sampling for web surveys, Proceedings of the Survey Research Methods\n",
        "Section of the American Statistical Association, pp. 1–26.](https://static.texastribune.org/media/documents/Rivers_matching4.pdf). \n",
        "\n",
        "W tym ćwiczeniu porównamy dwa podejścia:\n",
        "\n",
        "1. wykorzystując zmienne $\\mathbf{X}$ do łączenia\n",
        "2. wykorzystując wartości przewidywane $\\hat{y}_i$ na podstawie modelu regresji logistycznej\n",
        "\n",
        "Poszukiwania sąsiadów dokonamy wykorzystując metodę K-D tree dla przybliżonych sąsiadów oprogramowaną w pakiecie `RANN` (funkcja `nn2`), która opiera się na bibliotece [ANN w C++](http://www.cs.umd.edu/~mount/ANN/)."
      ]
    },
    {
      "cell_type": "markdown",
      "metadata": {
        "id": "V4exOiasJHqk"
      },
      "source": [
        "# Pakiety i dane"
      ]
    },
    {
      "cell_type": "markdown",
      "metadata": {
        "id": "xYOHcx0HI0n_"
      },
      "source": [
        "Instalujemy pakiet"
      ]
    },
    {
      "cell_type": "code",
      "metadata": {
        "colab": {
          "base_uri": "https://localhost:8080/"
        },
        "id": "1In_8peYGvby",
        "outputId": "03f98897-631e-432d-cbff-c44292b8c70c"
      },
      "source": [
        "install.packages(\"RANN\")"
      ],
      "execution_count": 1,
      "outputs": [
        {
          "output_type": "stream",
          "name": "stderr",
          "text": [
            "Installing package into ‘/usr/local/lib/R/site-library’\n",
            "(as ‘lib’ is unspecified)\n",
            "\n"
          ]
        }
      ]
    },
    {
      "cell_type": "markdown",
      "metadata": {
        "id": "Cc-v7Bv1JB2C"
      },
      "source": [
        "Ładujemy pakiety"
      ]
    },
    {
      "cell_type": "code",
      "metadata": {
        "id": "LxrB3rmlJCy2"
      },
      "source": [
        "library(tidyverse) \n",
        "library(RANN) "
      ],
      "execution_count": null,
      "outputs": []
    },
    {
      "cell_type": "markdown",
      "metadata": {
        "id": "5c4sztugI3Gs"
      },
      "source": [
        "Pobieramy dane z zajęć"
      ]
    },
    {
      "cell_type": "code",
      "metadata": {
        "id": "1hqV3DNZI4iF"
      },
      "source": [
        "download.file(\"https://raw.githubusercontent.com/DepartmentOfStatisticsPUE/bi-2021/main/data/popyt-zajecia-dane.csv\",\n",
        "              \"popyt-dane.csv\")"
      ],
      "execution_count": 3,
      "outputs": []
    },
    {
      "cell_type": "code",
      "metadata": {
        "colab": {
          "base_uri": "https://localhost:8080/",
          "height": 306
        },
        "id": "UZjj5343JYGx",
        "outputId": "52e25ac1-4b25-4eb1-d565-0f1273d9e756"
      },
      "source": [
        "dane <- read.csv(\"popyt-dane.csv\", stringsAsFactors = FALSE) %>%\n",
        "    mutate(woj = as.factor(woj),\n",
        "           zawod_kod2 = as.factor(zawod_kod2))\n",
        "tail(dane)"
      ],
      "execution_count": 4,
      "outputs": [
        {
          "output_type": "display_data",
          "data": {
            "text/html": [
              "<table class=\"dataframe\">\n",
              "<caption>A data.frame: 6 × 14</caption>\n",
              "<thead>\n",
              "\t<tr><th></th><th scope=col>id_popyt</th><th scope=col>id_jednostki</th><th scope=col>waga</th><th scope=col>sek</th><th scope=col>klasa_pr</th><th scope=col>sekc_pkd</th><th scope=col>woj</th><th scope=col>zawod_kod2</th><th scope=col>wolne_miejsca</th><th scope=col>id_cbop</th><th scope=col>jedna_zmiana</th><th scope=col>wymiar_40</th><th scope=col>wolne_miejsca_cbop</th><th scope=col>wolne_miejsca_niepeln_cbop</th></tr>\n",
              "\t<tr><th></th><th scope=col>&lt;int&gt;</th><th scope=col>&lt;chr&gt;</th><th scope=col>&lt;int&gt;</th><th scope=col>&lt;int&gt;</th><th scope=col>&lt;chr&gt;</th><th scope=col>&lt;chr&gt;</th><th scope=col>&lt;fct&gt;</th><th scope=col>&lt;fct&gt;</th><th scope=col>&lt;int&gt;</th><th scope=col>&lt;int&gt;</th><th scope=col>&lt;lgl&gt;</th><th scope=col>&lt;lgl&gt;</th><th scope=col>&lt;int&gt;</th><th scope=col>&lt;int&gt;</th></tr>\n",
              "</thead>\n",
              "<tbody>\n",
              "\t<tr><th scope=row>20941</th><td>NA</td><td>a6a20c0f40c36af79446a53cb1af98dac84ca2cf</td><td>NA</td><td>2</td><td>S</td><td>G</td><td>8</td><td>8</td><td>NA</td><td>1</td><td> TRUE</td><td>TRUE</td><td> 2</td><td>1</td></tr>\n",
              "\t<tr><th scope=row>20942</th><td>NA</td><td>a6a20c0f40c36af79446a53cb1af98dac84ca2cf</td><td>NA</td><td>2</td><td>S</td><td>G</td><td>8</td><td>9</td><td>NA</td><td>1</td><td> TRUE</td><td>TRUE</td><td> 2</td><td>1</td></tr>\n",
              "\t<tr><th scope=row>20943</th><td>NA</td><td>5ab1d632da4eda181d7a454f71dd69e4433b6aa5</td><td>NA</td><td>2</td><td>D</td><td>H</td><td>8</td><td>9</td><td>NA</td><td>1</td><td>FALSE</td><td>TRUE</td><td> 1</td><td>0</td></tr>\n",
              "\t<tr><th scope=row>20944</th><td>NA</td><td>a108d5030e205dc1632b5b8b3eddb725821adfa5</td><td>NA</td><td>2</td><td>S</td><td>I</td><td>8</td><td>7</td><td>NA</td><td>1</td><td> TRUE</td><td>TRUE</td><td> 1</td><td>0</td></tr>\n",
              "\t<tr><th scope=row>20945</th><td>NA</td><td>a108d5030e205dc1632b5b8b3eddb725821adfa5</td><td>NA</td><td>2</td><td>S</td><td>I</td><td>8</td><td>9</td><td>NA</td><td>1</td><td> TRUE</td><td>TRUE</td><td>15</td><td>0</td></tr>\n",
              "\t<tr><th scope=row>20946</th><td>NA</td><td>d5c8a81acfb94539956a0d87c37a233e21ec435f</td><td>NA</td><td>2</td><td>M</td><td>H</td><td>8</td><td>7</td><td>NA</td><td>1</td><td>FALSE</td><td>TRUE</td><td> 1</td><td>0</td></tr>\n",
              "</tbody>\n",
              "</table>\n"
            ],
            "text/markdown": "\nA data.frame: 6 × 14\n\n| <!--/--> | id_popyt &lt;int&gt; | id_jednostki &lt;chr&gt; | waga &lt;int&gt; | sek &lt;int&gt; | klasa_pr &lt;chr&gt; | sekc_pkd &lt;chr&gt; | woj &lt;fct&gt; | zawod_kod2 &lt;fct&gt; | wolne_miejsca &lt;int&gt; | id_cbop &lt;int&gt; | jedna_zmiana &lt;lgl&gt; | wymiar_40 &lt;lgl&gt; | wolne_miejsca_cbop &lt;int&gt; | wolne_miejsca_niepeln_cbop &lt;int&gt; |\n|---|---|---|---|---|---|---|---|---|---|---|---|---|---|---|\n| 20941 | NA | a6a20c0f40c36af79446a53cb1af98dac84ca2cf | NA | 2 | S | G | 8 | 8 | NA | 1 |  TRUE | TRUE |  2 | 1 |\n| 20942 | NA | a6a20c0f40c36af79446a53cb1af98dac84ca2cf | NA | 2 | S | G | 8 | 9 | NA | 1 |  TRUE | TRUE |  2 | 1 |\n| 20943 | NA | 5ab1d632da4eda181d7a454f71dd69e4433b6aa5 | NA | 2 | D | H | 8 | 9 | NA | 1 | FALSE | TRUE |  1 | 0 |\n| 20944 | NA | a108d5030e205dc1632b5b8b3eddb725821adfa5 | NA | 2 | S | I | 8 | 7 | NA | 1 |  TRUE | TRUE |  1 | 0 |\n| 20945 | NA | a108d5030e205dc1632b5b8b3eddb725821adfa5 | NA | 2 | S | I | 8 | 9 | NA | 1 |  TRUE | TRUE | 15 | 0 |\n| 20946 | NA | d5c8a81acfb94539956a0d87c37a233e21ec435f | NA | 2 | M | H | 8 | 7 | NA | 1 | FALSE | TRUE |  1 | 0 |\n\n",
            "text/latex": "A data.frame: 6 × 14\n\\begin{tabular}{r|llllllllllllll}\n  & id\\_popyt & id\\_jednostki & waga & sek & klasa\\_pr & sekc\\_pkd & woj & zawod\\_kod2 & wolne\\_miejsca & id\\_cbop & jedna\\_zmiana & wymiar\\_40 & wolne\\_miejsca\\_cbop & wolne\\_miejsca\\_niepeln\\_cbop\\\\\n  & <int> & <chr> & <int> & <int> & <chr> & <chr> & <fct> & <fct> & <int> & <int> & <lgl> & <lgl> & <int> & <int>\\\\\n\\hline\n\t20941 & NA & a6a20c0f40c36af79446a53cb1af98dac84ca2cf & NA & 2 & S & G & 8 & 8 & NA & 1 &  TRUE & TRUE &  2 & 1\\\\\n\t20942 & NA & a6a20c0f40c36af79446a53cb1af98dac84ca2cf & NA & 2 & S & G & 8 & 9 & NA & 1 &  TRUE & TRUE &  2 & 1\\\\\n\t20943 & NA & 5ab1d632da4eda181d7a454f71dd69e4433b6aa5 & NA & 2 & D & H & 8 & 9 & NA & 1 & FALSE & TRUE &  1 & 0\\\\\n\t20944 & NA & a108d5030e205dc1632b5b8b3eddb725821adfa5 & NA & 2 & S & I & 8 & 7 & NA & 1 &  TRUE & TRUE &  1 & 0\\\\\n\t20945 & NA & a108d5030e205dc1632b5b8b3eddb725821adfa5 & NA & 2 & S & I & 8 & 9 & NA & 1 &  TRUE & TRUE & 15 & 0\\\\\n\t20946 & NA & d5c8a81acfb94539956a0d87c37a233e21ec435f & NA & 2 & M & H & 8 & 7 & NA & 1 & FALSE & TRUE &  1 & 0\\\\\n\\end{tabular}\n",
            "text/plain": [
              "      id_popyt id_jednostki                             waga sek klasa_pr\n",
              "20941 NA       a6a20c0f40c36af79446a53cb1af98dac84ca2cf NA   2   S       \n",
              "20942 NA       a6a20c0f40c36af79446a53cb1af98dac84ca2cf NA   2   S       \n",
              "20943 NA       5ab1d632da4eda181d7a454f71dd69e4433b6aa5 NA   2   D       \n",
              "20944 NA       a108d5030e205dc1632b5b8b3eddb725821adfa5 NA   2   S       \n",
              "20945 NA       a108d5030e205dc1632b5b8b3eddb725821adfa5 NA   2   S       \n",
              "20946 NA       d5c8a81acfb94539956a0d87c37a233e21ec435f NA   2   M       \n",
              "      sekc_pkd woj zawod_kod2 wolne_miejsca id_cbop jedna_zmiana wymiar_40\n",
              "20941 G        8   8          NA            1        TRUE        TRUE     \n",
              "20942 G        8   9          NA            1        TRUE        TRUE     \n",
              "20943 H        8   9          NA            1       FALSE        TRUE     \n",
              "20944 I        8   7          NA            1        TRUE        TRUE     \n",
              "20945 I        8   9          NA            1        TRUE        TRUE     \n",
              "20946 H        8   7          NA            1       FALSE        TRUE     \n",
              "      wolne_miejsca_cbop wolne_miejsca_niepeln_cbop\n",
              "20941  2                 1                         \n",
              "20942  2                 1                         \n",
              "20943  1                 0                         \n",
              "20944  1                 0                         \n",
              "20945 15                 0                         \n",
              "20946  1                 0                         "
            ]
          },
          "metadata": {}
        }
      ]
    },
    {
      "cell_type": "markdown",
      "metadata": {
        "id": "2Z8ji6BZJL2d"
      },
      "source": [
        "## Metoda Rivers'a -- łączenie na podstawie zmiennych X"
      ]
    },
    {
      "cell_type": "markdown",
      "metadata": {
        "id": "H6jmccnXKL88"
      },
      "source": [
        "Na tę chwilę założymy, że zbiory są rozłączne!"
      ]
    },
    {
      "cell_type": "code",
      "metadata": {
        "id": "J252CgrOJbr-"
      },
      "source": [
        "proba_nielosowa <- dane %>% filter(is.na(id_popyt))\n",
        "proba_losowa <- dane %>% filter(!is.na(id_popyt))"
      ],
      "execution_count": 5,
      "outputs": []
    },
    {
      "cell_type": "markdown",
      "metadata": {
        "id": "wHAoxM4iJpms"
      },
      "source": [
        "Tworzymy macierz X_A (próba nielosowa) i X_B (próba losowa)"
      ]
    },
    {
      "cell_type": "code",
      "metadata": {
        "colab": {
          "base_uri": "https://localhost:8080/",
          "height": 275
        },
        "id": "zKpJwYKJJpVr",
        "outputId": "2fab17b6-3981-4697-cf03-fbf86fe8c066"
      },
      "source": [
        "X_A <- model.matrix(~ -1 + sek + klasa_pr + sekc_pkd + woj + zawod_kod2, data = proba_nielosowa)\n",
        "X_B <- model.matrix(~ -1 + sek + klasa_pr + sekc_pkd + woj + zawod_kod2, data = proba_losowa)\n",
        "head(X_B)"
      ],
      "execution_count": 6,
      "outputs": [
        {
          "output_type": "display_data",
          "data": {
            "text/html": [
              "<table class=\"dataframe\">\n",
              "<caption>A matrix: 6 × 39 of type dbl</caption>\n",
              "<thead>\n",
              "\t<tr><th></th><th scope=col>sek</th><th scope=col>klasa_prD</th><th scope=col>klasa_prM</th><th scope=col>klasa_prS</th><th scope=col>sekc_pkdD.E</th><th scope=col>sekc_pkdF</th><th scope=col>sekc_pkdG</th><th scope=col>sekc_pkdH</th><th scope=col>sekc_pkdI</th><th scope=col>sekc_pkdJ</th><th scope=col>⋯</th><th scope=col>woj28</th><th scope=col>woj30</th><th scope=col>woj32</th><th scope=col>zawod_kod22</th><th scope=col>zawod_kod23</th><th scope=col>zawod_kod24</th><th scope=col>zawod_kod25</th><th scope=col>zawod_kod27</th><th scope=col>zawod_kod28</th><th scope=col>zawod_kod29</th></tr>\n",
              "</thead>\n",
              "<tbody>\n",
              "\t<tr><th scope=row>1</th><td>1</td><td>1</td><td>0</td><td>0</td><td>0</td><td>0</td><td>0</td><td>0</td><td>0</td><td>0</td><td>⋯</td><td>0</td><td>0</td><td>0</td><td>0</td><td>0</td><td>0</td><td>0</td><td>0</td><td>0</td><td>0</td></tr>\n",
              "\t<tr><th scope=row>2</th><td>1</td><td>1</td><td>0</td><td>0</td><td>0</td><td>0</td><td>0</td><td>0</td><td>0</td><td>0</td><td>⋯</td><td>0</td><td>0</td><td>0</td><td>1</td><td>0</td><td>0</td><td>0</td><td>0</td><td>0</td><td>0</td></tr>\n",
              "\t<tr><th scope=row>3</th><td>1</td><td>1</td><td>0</td><td>0</td><td>0</td><td>0</td><td>0</td><td>0</td><td>0</td><td>0</td><td>⋯</td><td>0</td><td>0</td><td>0</td><td>1</td><td>0</td><td>0</td><td>0</td><td>0</td><td>0</td><td>0</td></tr>\n",
              "\t<tr><th scope=row>4</th><td>1</td><td>1</td><td>0</td><td>0</td><td>0</td><td>0</td><td>0</td><td>0</td><td>0</td><td>0</td><td>⋯</td><td>0</td><td>0</td><td>0</td><td>1</td><td>0</td><td>0</td><td>0</td><td>0</td><td>0</td><td>0</td></tr>\n",
              "\t<tr><th scope=row>5</th><td>1</td><td>1</td><td>0</td><td>0</td><td>0</td><td>0</td><td>0</td><td>0</td><td>0</td><td>0</td><td>⋯</td><td>0</td><td>0</td><td>0</td><td>1</td><td>0</td><td>0</td><td>0</td><td>0</td><td>0</td><td>0</td></tr>\n",
              "\t<tr><th scope=row>6</th><td>1</td><td>1</td><td>0</td><td>0</td><td>0</td><td>0</td><td>0</td><td>0</td><td>0</td><td>0</td><td>⋯</td><td>0</td><td>0</td><td>0</td><td>1</td><td>0</td><td>0</td><td>0</td><td>0</td><td>0</td><td>0</td></tr>\n",
              "</tbody>\n",
              "</table>\n"
            ],
            "text/markdown": "\nA matrix: 6 × 39 of type dbl\n\n| <!--/--> | sek | klasa_prD | klasa_prM | klasa_prS | sekc_pkdD.E | sekc_pkdF | sekc_pkdG | sekc_pkdH | sekc_pkdI | sekc_pkdJ | ⋯ | woj28 | woj30 | woj32 | zawod_kod22 | zawod_kod23 | zawod_kod24 | zawod_kod25 | zawod_kod27 | zawod_kod28 | zawod_kod29 |\n|---|---|---|---|---|---|---|---|---|---|---|---|---|---|---|---|---|---|---|---|---|---|\n| 1 | 1 | 1 | 0 | 0 | 0 | 0 | 0 | 0 | 0 | 0 | ⋯ | 0 | 0 | 0 | 0 | 0 | 0 | 0 | 0 | 0 | 0 |\n| 2 | 1 | 1 | 0 | 0 | 0 | 0 | 0 | 0 | 0 | 0 | ⋯ | 0 | 0 | 0 | 1 | 0 | 0 | 0 | 0 | 0 | 0 |\n| 3 | 1 | 1 | 0 | 0 | 0 | 0 | 0 | 0 | 0 | 0 | ⋯ | 0 | 0 | 0 | 1 | 0 | 0 | 0 | 0 | 0 | 0 |\n| 4 | 1 | 1 | 0 | 0 | 0 | 0 | 0 | 0 | 0 | 0 | ⋯ | 0 | 0 | 0 | 1 | 0 | 0 | 0 | 0 | 0 | 0 |\n| 5 | 1 | 1 | 0 | 0 | 0 | 0 | 0 | 0 | 0 | 0 | ⋯ | 0 | 0 | 0 | 1 | 0 | 0 | 0 | 0 | 0 | 0 |\n| 6 | 1 | 1 | 0 | 0 | 0 | 0 | 0 | 0 | 0 | 0 | ⋯ | 0 | 0 | 0 | 1 | 0 | 0 | 0 | 0 | 0 | 0 |\n\n",
            "text/latex": "A matrix: 6 × 39 of type dbl\n\\begin{tabular}{r|lllllllllllllllllllll}\n  & sek & klasa\\_prD & klasa\\_prM & klasa\\_prS & sekc\\_pkdD.E & sekc\\_pkdF & sekc\\_pkdG & sekc\\_pkdH & sekc\\_pkdI & sekc\\_pkdJ & ⋯ & woj28 & woj30 & woj32 & zawod\\_kod22 & zawod\\_kod23 & zawod\\_kod24 & zawod\\_kod25 & zawod\\_kod27 & zawod\\_kod28 & zawod\\_kod29\\\\\n\\hline\n\t1 & 1 & 1 & 0 & 0 & 0 & 0 & 0 & 0 & 0 & 0 & ⋯ & 0 & 0 & 0 & 0 & 0 & 0 & 0 & 0 & 0 & 0\\\\\n\t2 & 1 & 1 & 0 & 0 & 0 & 0 & 0 & 0 & 0 & 0 & ⋯ & 0 & 0 & 0 & 1 & 0 & 0 & 0 & 0 & 0 & 0\\\\\n\t3 & 1 & 1 & 0 & 0 & 0 & 0 & 0 & 0 & 0 & 0 & ⋯ & 0 & 0 & 0 & 1 & 0 & 0 & 0 & 0 & 0 & 0\\\\\n\t4 & 1 & 1 & 0 & 0 & 0 & 0 & 0 & 0 & 0 & 0 & ⋯ & 0 & 0 & 0 & 1 & 0 & 0 & 0 & 0 & 0 & 0\\\\\n\t5 & 1 & 1 & 0 & 0 & 0 & 0 & 0 & 0 & 0 & 0 & ⋯ & 0 & 0 & 0 & 1 & 0 & 0 & 0 & 0 & 0 & 0\\\\\n\t6 & 1 & 1 & 0 & 0 & 0 & 0 & 0 & 0 & 0 & 0 & ⋯ & 0 & 0 & 0 & 1 & 0 & 0 & 0 & 0 & 0 & 0\\\\\n\\end{tabular}\n",
            "text/plain": [
              "  sek klasa_prD klasa_prM klasa_prS sekc_pkdD.E sekc_pkdF sekc_pkdG sekc_pkdH\n",
              "1 1   1         0         0         0           0         0         0        \n",
              "2 1   1         0         0         0           0         0         0        \n",
              "3 1   1         0         0         0           0         0         0        \n",
              "4 1   1         0         0         0           0         0         0        \n",
              "5 1   1         0         0         0           0         0         0        \n",
              "6 1   1         0         0         0           0         0         0        \n",
              "  sekc_pkdI sekc_pkdJ ⋯ woj28 woj30 woj32 zawod_kod22 zawod_kod23 zawod_kod24\n",
              "1 0         0         ⋯ 0     0     0     0           0           0          \n",
              "2 0         0         ⋯ 0     0     0     1           0           0          \n",
              "3 0         0         ⋯ 0     0     0     1           0           0          \n",
              "4 0         0         ⋯ 0     0     0     1           0           0          \n",
              "5 0         0         ⋯ 0     0     0     1           0           0          \n",
              "6 0         0         ⋯ 0     0     0     1           0           0          \n",
              "  zawod_kod25 zawod_kod27 zawod_kod28 zawod_kod29\n",
              "1 0           0           0           0          \n",
              "2 0           0           0           0          \n",
              "3 0           0           0           0          \n",
              "4 0           0           0           0          \n",
              "5 0           0           0           0          \n",
              "6 0           0           0           0          "
            ]
          },
          "metadata": {}
        }
      ]
    },
    {
      "cell_type": "code",
      "metadata": {
        "colab": {
          "base_uri": "https://localhost:8080/",
          "height": 52
        },
        "id": "564YhH0XJ-qc",
        "outputId": "99538e50-b061-4bfb-d79e-e8d404d1962c"
      },
      "source": [
        "dim(X_A)\n",
        "dim(X_B)"
      ],
      "execution_count": 7,
      "outputs": [
        {
          "output_type": "display_data",
          "data": {
            "text/html": [
              "<style>\n",
              ".list-inline {list-style: none; margin:0; padding: 0}\n",
              ".list-inline>li {display: inline-block}\n",
              ".list-inline>li:not(:last-child)::after {content: \"\\00b7\"; padding: 0 .5ex}\n",
              "</style>\n",
              "<ol class=list-inline><li>10972</li><li>39</li></ol>\n"
            ],
            "text/markdown": "1. 10972\n2. 39\n\n\n",
            "text/latex": "\\begin{enumerate*}\n\\item 10972\n\\item 39\n\\end{enumerate*}\n",
            "text/plain": [
              "[1] 10972    39"
            ]
          },
          "metadata": {}
        },
        {
          "output_type": "display_data",
          "data": {
            "text/html": [
              "<style>\n",
              ".list-inline {list-style: none; margin:0; padding: 0}\n",
              ".list-inline>li {display: inline-block}\n",
              ".list-inline>li:not(:last-child)::after {content: \"\\00b7\"; padding: 0 .5ex}\n",
              "</style>\n",
              "<ol class=list-inline><li>9974</li><li>39</li></ol>\n"
            ],
            "text/markdown": "1. 9974\n2. 39\n\n\n",
            "text/latex": "\\begin{enumerate*}\n\\item 9974\n\\item 39\n\\end{enumerate*}\n",
            "text/plain": [
              "[1] 9974   39"
            ]
          },
          "metadata": {}
        }
      ]
    },
    {
      "cell_type": "markdown",
      "metadata": {
        "id": "Ms9bZW2UJ6fO"
      },
      "source": [
        "W zbiorze A mamy 10972 obserwacje, a zbiorze B 9974. Oznacza to, że musimy znaleźć 9974 jednostek ze zbioru A dla jednostek ze zbioru B (mogą się powtarzać)."
      ]
    },
    {
      "cell_type": "code",
      "metadata": {
        "colab": {
          "base_uri": "https://localhost:8080/"
        },
        "id": "M5O_PXiBJlsD",
        "outputId": "c482a6a7-bfe4-443a-c6a0-23065847fa5f"
      },
      "source": [
        "sasiedzi <- nn2(data = X_A, query = X_B, k = 1)\n",
        "str(sasiedzi,1)"
      ],
      "execution_count": 8,
      "outputs": [
        {
          "output_type": "stream",
          "name": "stdout",
          "text": [
            "List of 2\n",
            " $ nn.idx  : int [1:9974, 1] 9509 1293 603 3148 3148 8203 7651 8203 6687 10723 ...\n",
            " $ nn.dists: num [1:9974, 1] 1 0 0 0 0 ...\n"
          ]
        }
      ]
    },
    {
      "cell_type": "markdown",
      "metadata": {
        "id": "mhPv5_O6KovC"
      },
      "source": [
        "Funkcja `nn2` zwraca listę składającą się z dwóch wektorów:\n",
        "\n",
        "+ `nn.indx` -- indeksy (numery wierszy) ze zbioru `X_A`,\n",
        "+ `nn.dists` -- odległości między sąsiadami ze zbiorów `X_A` i `X_B` "
      ]
    },
    {
      "cell_type": "markdown",
      "metadata": {
        "id": "Mutav-h-LUZE"
      },
      "source": [
        "Wyznaczamy teraz estymator $\\hat{\\theta}_{M1}$ czyli chcemy poznać odsetek podmiotów poszukujących pracowników na jedną zmianę."
      ]
    },
    {
      "cell_type": "code",
      "metadata": {
        "colab": {
          "base_uri": "https://localhost:8080/"
        },
        "id": "J6TlJBLhK9mh",
        "outputId": "63ad9daf-a873-4157-cfab-979eda0abb1b"
      },
      "source": [
        "indeksy <- sasiedzi$nn.idx[,1]\n",
        "y <- proba_nielosowa$jedna_zmiana[indeksy]\n",
        "\n",
        "naiwny <- weighted.mean(proba_nielosowa$jedna_zmiana, proba_nielosowa$wolne_miejsca_cbop)\n",
        "\n",
        "theta_1 <- weighted.mean(y, proba_losowa$waga*proba_losowa$wolne_miejsca)\n",
        "\n",
        "print(c(naiwny = naiwny, theta_1 = theta_1))"
      ],
      "execution_count": 9,
      "outputs": [
        {
          "output_type": "stream",
          "name": "stdout",
          "text": [
            "   naiwny   theta_1 \n",
            "0.5204615 0.7216355 \n"
          ]
        }
      ]
    },
    {
      "cell_type": "markdown",
      "metadata": {
        "id": "85O-8R61N-by"
      },
      "source": [
        "Oznacza to, że około 72% podmiotów poszukuje pracowników do pracy na jedną zmianę. Gdybyśmy wykorzystali wyłącznie dane z CBOP ten odstek wynosiłby 52%. Porówjamy teraz wyniki z wykorzystaniem łączenia na podstawie $\\hat{y}$."
      ]
    },
    {
      "cell_type": "markdown",
      "metadata": {
        "id": "9qn44sVkJPq4"
      },
      "source": [
        "## Metoda Rivers'a -- łączenie na podstawie $\\hat{y}$"
      ]
    },
    {
      "cell_type": "markdown",
      "metadata": {
        "id": "YUBuvjPXMyqH"
      },
      "source": [
        "Budujemy model"
      ]
    },
    {
      "cell_type": "code",
      "metadata": {
        "colab": {
          "base_uri": "https://localhost:8080/",
          "height": 88
        },
        "id": "ivlxsTwSMOFV",
        "outputId": "d78ec8d5-2c54-46cd-d2ed-47b2ef567ccd"
      },
      "source": [
        "model_a <- glm(formula = jedna_zmiana ~ sek + klasa_pr + sekc_pkd + woj + zawod_kod2, \n",
        "               data = proba_nielosowa,\n",
        "               family = binomial(),\n",
        "               weights = proba_nielosowa$wolne_miejsca_cbop)\n",
        "\n",
        "y_hat_a <- fitted(model_a)\n",
        "y_hat_b <- predict(model_a, proba_losowa, type = \"response\")\n",
        "\n",
        "summary(y_hat_b)\n",
        "summary(y_hat_a)"
      ],
      "execution_count": 10,
      "outputs": [
        {
          "output_type": "display_data",
          "data": {
            "text/plain": [
              "   Min. 1st Qu.  Median    Mean 3rd Qu.    Max. \n",
              "0.04645 0.27988 0.49770 0.53685 0.81273 0.99871 "
            ]
          },
          "metadata": {}
        },
        {
          "output_type": "display_data",
          "data": {
            "text/plain": [
              "   Min. 1st Qu.  Median    Mean 3rd Qu.    Max. \n",
              "0.04822 0.43034 0.65296 0.62312 0.85215 0.99835 "
            ]
          },
          "metadata": {}
        }
      ]
    },
    {
      "cell_type": "markdown",
      "metadata": {
        "id": "AKdKIg_BMz3D"
      },
      "source": [
        "Szukamy sąsiadów na podstawie wartości przewidywanych"
      ]
    },
    {
      "cell_type": "code",
      "metadata": {
        "colab": {
          "base_uri": "https://localhost:8080/"
        },
        "id": "kd6E4N_gMxsz",
        "outputId": "9c555a3b-5865-49c2-a8ce-f639852e6157"
      },
      "source": [
        "sasiedzi_hat <- nn2(data = y_hat_a, query = y_hat_b, k = 1)\n",
        "str(sasiedzi_hat,1)"
      ],
      "execution_count": 11,
      "outputs": [
        {
          "output_type": "stream",
          "name": "stdout",
          "text": [
            "List of 2\n",
            " $ nn.idx  : int [1:9974, 1] 453 1293 603 3148 3148 2279 9002 7070 2592 8112 ...\n",
            " $ nn.dists: num [1:9974, 1] 5.51e-05 0.00 0.00 0.00 0.00 ...\n"
          ]
        }
      ]
    },
    {
      "cell_type": "markdown",
      "metadata": {
        "id": "8HqrHJcANPm5"
      },
      "source": [
        "Estymator"
      ]
    },
    {
      "cell_type": "code",
      "metadata": {
        "colab": {
          "base_uri": "https://localhost:8080/"
        },
        "id": "CTrOYLNyNRDw",
        "outputId": "bb50c882-0ffe-4a9e-b721-0cd00bfd4a28"
      },
      "source": [
        "indeksy_hat <- sasiedzi_hat$nn.idx[,1]\n",
        "y_hat <- proba_nielosowa$jedna_zmiana[indeksy_hat]\n",
        "theta_2 <- weighted.mean(y_hat, proba_losowa$waga*proba_losowa$wolne_miejsca)\n",
        "print(c(naiwny = naiwny, theta_1 = theta_1, theta_2 = theta_2))"
      ],
      "execution_count": 12,
      "outputs": [
        {
          "output_type": "stream",
          "name": "stdout",
          "text": [
            "   naiwny   theta_1   theta_2 \n",
            "0.5204615 0.7216355 0.7141090 \n"
          ]
        }
      ]
    },
    {
      "cell_type": "markdown",
      "metadata": {
        "id": "r8oAqCp3PAM-"
      },
      "source": [
        "Wykorzystując podejście oparte na wartościach przewidywanych ($\\hat{y}$) otrzymujemy oszacowanie niższe tj. 71% ale mając na względzie obciążenie $O_p (n^{1/2-1/p})$ bardziej ufamy wynikowi na podstawie wartości przewidywanych."
      ]
    }
  ]
}