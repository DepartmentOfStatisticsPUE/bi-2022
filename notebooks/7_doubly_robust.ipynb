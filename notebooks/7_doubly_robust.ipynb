{
  "nbformat": 4,
  "nbformat_minor": 0,
  "metadata": {
    "colab": {
      "name": "7-doubly-robust.ipynb",
      "provenance": [],
      "collapsed_sections": [],
      "authorship_tag": "ABX9TyMFz//O/5cUxvRvQyfzLE2A",
      "include_colab_link": true
    },
    "kernelspec": {
      "name": "ir",
      "display_name": "R"
    },
    "language_info": {
      "name": "R"
    }
  },
  "cells": [
    {
      "cell_type": "markdown",
      "metadata": {
        "id": "view-in-github",
        "colab_type": "text"
      },
      "source": [
        "<a href=\"https://colab.research.google.com/github/DepartmentOfStatisticsPUE/bi-2022/blob/main/notebooks/7_doubly_robust.ipynb\" target=\"_parent\"><img src=\"https://colab.research.google.com/assets/colab-badge.svg\" alt=\"Open In Colab\"/></a>"
      ]
    },
    {
      "cell_type": "markdown",
      "metadata": {
        "id": "V4exOiasJHqk"
      },
      "source": [
        "# Pakiety i dane"
      ]
    },
    {
      "cell_type": "markdown",
      "metadata": {
        "id": "Cc-v7Bv1JB2C"
      },
      "source": [
        "Ładujemy pakiety"
      ]
    },
    {
      "cell_type": "code",
      "metadata": {
        "id": "LxrB3rmlJCy2",
        "colab": {
          "base_uri": "https://localhost:8080/"
        },
        "outputId": "acdf7a0d-b5ef-471e-c1b6-2da3ab655585"
      },
      "source": [
        "library(tidyverse) "
      ],
      "execution_count": 1,
      "outputs": [
        {
          "output_type": "stream",
          "name": "stderr",
          "text": [
            "Warning message in system(\"timedatectl\", intern = TRUE):\n",
            "“running command 'timedatectl' had status 1”\n",
            "── \u001b[1mAttaching packages\u001b[22m ─────────────────────────────────────── tidyverse 1.3.1 ──\n",
            "\n",
            "\u001b[32m✔\u001b[39m \u001b[34mggplot2\u001b[39m 3.3.6     \u001b[32m✔\u001b[39m \u001b[34mpurrr  \u001b[39m 0.3.4\n",
            "\u001b[32m✔\u001b[39m \u001b[34mtibble \u001b[39m 3.1.7     \u001b[32m✔\u001b[39m \u001b[34mdplyr  \u001b[39m 1.0.9\n",
            "\u001b[32m✔\u001b[39m \u001b[34mtidyr  \u001b[39m 1.2.0     \u001b[32m✔\u001b[39m \u001b[34mstringr\u001b[39m 1.4.0\n",
            "\u001b[32m✔\u001b[39m \u001b[34mreadr  \u001b[39m 2.1.2     \u001b[32m✔\u001b[39m \u001b[34mforcats\u001b[39m 0.5.1\n",
            "\n",
            "── \u001b[1mConflicts\u001b[22m ────────────────────────────────────────── tidyverse_conflicts() ──\n",
            "\u001b[31m✖\u001b[39m \u001b[34mdplyr\u001b[39m::\u001b[32mfilter()\u001b[39m masks \u001b[34mstats\u001b[39m::filter()\n",
            "\u001b[31m✖\u001b[39m \u001b[34mdplyr\u001b[39m::\u001b[32mlag()\u001b[39m    masks \u001b[34mstats\u001b[39m::lag()\n",
            "\n"
          ]
        }
      ]
    },
    {
      "cell_type": "markdown",
      "metadata": {
        "id": "5c4sztugI3Gs"
      },
      "source": [
        "Pobieramy dane z zajęć"
      ]
    },
    {
      "cell_type": "code",
      "metadata": {
        "id": "1hqV3DNZI4iF"
      },
      "source": [
        "download.file(\"https://raw.githubusercontent.com/DepartmentOfStatisticsPUE/bi-2021/main/data/popyt-zajecia-dane.csv\",\n",
        "              \"popyt-dane.csv\")"
      ],
      "execution_count": 3,
      "outputs": []
    },
    {
      "cell_type": "code",
      "metadata": {
        "colab": {
          "base_uri": "https://localhost:8080/",
          "height": 306
        },
        "id": "UZjj5343JYGx",
        "outputId": "1ba65afd-e6ca-477e-e0d8-d74aee015aca"
      },
      "source": [
        "dane <- read.csv(\"popyt-dane.csv\", stringsAsFactors = FALSE)\n",
        "head(dane)"
      ],
      "execution_count": 4,
      "outputs": [
        {
          "output_type": "display_data",
          "data": {
            "text/html": [
              "<table class=\"dataframe\">\n",
              "<caption>A data.frame: 6 × 14</caption>\n",
              "<thead>\n",
              "\t<tr><th></th><th scope=col>id_popyt</th><th scope=col>id_jednostki</th><th scope=col>waga</th><th scope=col>sek</th><th scope=col>klasa_pr</th><th scope=col>sekc_pkd</th><th scope=col>woj</th><th scope=col>zawod_kod2</th><th scope=col>wolne_miejsca</th><th scope=col>id_cbop</th><th scope=col>jedna_zmiana</th><th scope=col>wymiar_40</th><th scope=col>wolne_miejsca_cbop</th><th scope=col>wolne_miejsca_niepeln_cbop</th></tr>\n",
              "\t<tr><th></th><th scope=col>&lt;int&gt;</th><th scope=col>&lt;chr&gt;</th><th scope=col>&lt;int&gt;</th><th scope=col>&lt;int&gt;</th><th scope=col>&lt;chr&gt;</th><th scope=col>&lt;chr&gt;</th><th scope=col>&lt;int&gt;</th><th scope=col>&lt;int&gt;</th><th scope=col>&lt;int&gt;</th><th scope=col>&lt;int&gt;</th><th scope=col>&lt;lgl&gt;</th><th scope=col>&lt;lgl&gt;</th><th scope=col>&lt;int&gt;</th><th scope=col>&lt;int&gt;</th></tr>\n",
              "</thead>\n",
              "<tbody>\n",
              "\t<tr><th scope=row>1</th><td>1</td><td>a9cc990df6a99ab215a1bc13f51d4825c7d52d18</td><td>1</td><td>1</td><td>D</td><td>O  </td><td>14</td><td>1</td><td>2</td><td>NA</td><td>NA</td><td>NA</td><td>NA</td><td>NA</td></tr>\n",
              "\t<tr><th scope=row>2</th><td>2</td><td>a9cc990df6a99ab215a1bc13f51d4825c7d52d18</td><td>1</td><td>1</td><td>D</td><td>O  </td><td>14</td><td>2</td><td>7</td><td>NA</td><td>NA</td><td>NA</td><td>NA</td><td>NA</td></tr>\n",
              "\t<tr><th scope=row>3</th><td>3</td><td>c9dbaf50890165ebe810aa770de0e9df903dc35b</td><td>6</td><td>1</td><td>D</td><td>O  </td><td>24</td><td>2</td><td>6</td><td>NA</td><td>NA</td><td>NA</td><td>NA</td><td>NA</td></tr>\n",
              "\t<tr><th scope=row>4</th><td>4</td><td>718e0bba42bcec6ed98f9690db6d26cb7b93c880</td><td>1</td><td>1</td><td>D</td><td>R.S</td><td>14</td><td>2</td><td>7</td><td>NA</td><td>NA</td><td>NA</td><td>NA</td><td>NA</td></tr>\n",
              "\t<tr><th scope=row>5</th><td>5</td><td>532a1879a692b9d7bbb7282ba757d028156ef341</td><td>1</td><td>1</td><td>D</td><td>R.S</td><td>14</td><td>2</td><td>6</td><td>NA</td><td>NA</td><td>NA</td><td>NA</td><td>NA</td></tr>\n",
              "\t<tr><th scope=row>6</th><td>6</td><td>0b6b623fa45e257284a3049d097af322841337e3</td><td>1</td><td>1</td><td>D</td><td>R.S</td><td>22</td><td>2</td><td>1</td><td>NA</td><td>NA</td><td>NA</td><td>NA</td><td>NA</td></tr>\n",
              "</tbody>\n",
              "</table>\n"
            ],
            "text/markdown": "\nA data.frame: 6 × 14\n\n| <!--/--> | id_popyt &lt;int&gt; | id_jednostki &lt;chr&gt; | waga &lt;int&gt; | sek &lt;int&gt; | klasa_pr &lt;chr&gt; | sekc_pkd &lt;chr&gt; | woj &lt;int&gt; | zawod_kod2 &lt;int&gt; | wolne_miejsca &lt;int&gt; | id_cbop &lt;int&gt; | jedna_zmiana &lt;lgl&gt; | wymiar_40 &lt;lgl&gt; | wolne_miejsca_cbop &lt;int&gt; | wolne_miejsca_niepeln_cbop &lt;int&gt; |\n|---|---|---|---|---|---|---|---|---|---|---|---|---|---|---|\n| 1 | 1 | a9cc990df6a99ab215a1bc13f51d4825c7d52d18 | 1 | 1 | D | O   | 14 | 1 | 2 | NA | NA | NA | NA | NA |\n| 2 | 2 | a9cc990df6a99ab215a1bc13f51d4825c7d52d18 | 1 | 1 | D | O   | 14 | 2 | 7 | NA | NA | NA | NA | NA |\n| 3 | 3 | c9dbaf50890165ebe810aa770de0e9df903dc35b | 6 | 1 | D | O   | 24 | 2 | 6 | NA | NA | NA | NA | NA |\n| 4 | 4 | 718e0bba42bcec6ed98f9690db6d26cb7b93c880 | 1 | 1 | D | R.S | 14 | 2 | 7 | NA | NA | NA | NA | NA |\n| 5 | 5 | 532a1879a692b9d7bbb7282ba757d028156ef341 | 1 | 1 | D | R.S | 14 | 2 | 6 | NA | NA | NA | NA | NA |\n| 6 | 6 | 0b6b623fa45e257284a3049d097af322841337e3 | 1 | 1 | D | R.S | 22 | 2 | 1 | NA | NA | NA | NA | NA |\n\n",
            "text/latex": "A data.frame: 6 × 14\n\\begin{tabular}{r|llllllllllllll}\n  & id\\_popyt & id\\_jednostki & waga & sek & klasa\\_pr & sekc\\_pkd & woj & zawod\\_kod2 & wolne\\_miejsca & id\\_cbop & jedna\\_zmiana & wymiar\\_40 & wolne\\_miejsca\\_cbop & wolne\\_miejsca\\_niepeln\\_cbop\\\\\n  & <int> & <chr> & <int> & <int> & <chr> & <chr> & <int> & <int> & <int> & <int> & <lgl> & <lgl> & <int> & <int>\\\\\n\\hline\n\t1 & 1 & a9cc990df6a99ab215a1bc13f51d4825c7d52d18 & 1 & 1 & D & O   & 14 & 1 & 2 & NA & NA & NA & NA & NA\\\\\n\t2 & 2 & a9cc990df6a99ab215a1bc13f51d4825c7d52d18 & 1 & 1 & D & O   & 14 & 2 & 7 & NA & NA & NA & NA & NA\\\\\n\t3 & 3 & c9dbaf50890165ebe810aa770de0e9df903dc35b & 6 & 1 & D & O   & 24 & 2 & 6 & NA & NA & NA & NA & NA\\\\\n\t4 & 4 & 718e0bba42bcec6ed98f9690db6d26cb7b93c880 & 1 & 1 & D & R.S & 14 & 2 & 7 & NA & NA & NA & NA & NA\\\\\n\t5 & 5 & 532a1879a692b9d7bbb7282ba757d028156ef341 & 1 & 1 & D & R.S & 14 & 2 & 6 & NA & NA & NA & NA & NA\\\\\n\t6 & 6 & 0b6b623fa45e257284a3049d097af322841337e3 & 1 & 1 & D & R.S & 22 & 2 & 1 & NA & NA & NA & NA & NA\\\\\n\\end{tabular}\n",
            "text/plain": [
              "  id_popyt id_jednostki                             waga sek klasa_pr sekc_pkd\n",
              "1 1        a9cc990df6a99ab215a1bc13f51d4825c7d52d18 1    1   D        O       \n",
              "2 2        a9cc990df6a99ab215a1bc13f51d4825c7d52d18 1    1   D        O       \n",
              "3 3        c9dbaf50890165ebe810aa770de0e9df903dc35b 6    1   D        O       \n",
              "4 4        718e0bba42bcec6ed98f9690db6d26cb7b93c880 1    1   D        R.S     \n",
              "5 5        532a1879a692b9d7bbb7282ba757d028156ef341 1    1   D        R.S     \n",
              "6 6        0b6b623fa45e257284a3049d097af322841337e3 1    1   D        R.S     \n",
              "  woj zawod_kod2 wolne_miejsca id_cbop jedna_zmiana wymiar_40\n",
              "1 14  1          2             NA      NA           NA       \n",
              "2 14  2          7             NA      NA           NA       \n",
              "3 24  2          6             NA      NA           NA       \n",
              "4 14  2          7             NA      NA           NA       \n",
              "5 14  2          6             NA      NA           NA       \n",
              "6 22  2          1             NA      NA           NA       \n",
              "  wolne_miejsca_cbop wolne_miejsca_niepeln_cbop\n",
              "1 NA                 NA                        \n",
              "2 NA                 NA                        \n",
              "3 NA                 NA                        \n",
              "4 NA                 NA                        \n",
              "5 NA                 NA                        \n",
              "6 NA                 NA                        "
            ]
          },
          "metadata": {}
        }
      ]
    },
    {
      "cell_type": "markdown",
      "metadata": {
        "id": "H6jmccnXKL88"
      },
      "source": [
        "Zrobimy bardzo uproszczone podejście, że działamy wyłącznie na próbie losowej i w niej identyfikujemy oferty z CBOP."
      ]
    },
    {
      "cell_type": "code",
      "metadata": {
        "id": "J252CgrOJbr-",
        "colab": {
          "base_uri": "https://localhost:8080/",
          "height": 306
        },
        "outputId": "0aa34f08-f143-4be5-e4a8-55bc2116f9dc"
      },
      "source": [
        "data_for_models <- dane %>%\n",
        "  filter(!is.na(id_popyt)) %>%\n",
        "  mutate(waga_final = waga*wolne_miejsca,\n",
        "         waga_final_scaled = waga_final/mean(waga_final),\n",
        "         R = !is.na(id_cbop),\n",
        "         zawod_kod2 = as.factor(zawod_kod2),\n",
        "         woj = as.factor(woj))\n",
        "head(data_for_models)"
      ],
      "execution_count": 5,
      "outputs": [
        {
          "output_type": "display_data",
          "data": {
            "text/html": [
              "<table class=\"dataframe\">\n",
              "<caption>A data.frame: 6 × 17</caption>\n",
              "<thead>\n",
              "\t<tr><th></th><th scope=col>id_popyt</th><th scope=col>id_jednostki</th><th scope=col>waga</th><th scope=col>sek</th><th scope=col>klasa_pr</th><th scope=col>sekc_pkd</th><th scope=col>woj</th><th scope=col>zawod_kod2</th><th scope=col>wolne_miejsca</th><th scope=col>id_cbop</th><th scope=col>jedna_zmiana</th><th scope=col>wymiar_40</th><th scope=col>wolne_miejsca_cbop</th><th scope=col>wolne_miejsca_niepeln_cbop</th><th scope=col>waga_final</th><th scope=col>waga_final_scaled</th><th scope=col>R</th></tr>\n",
              "\t<tr><th></th><th scope=col>&lt;int&gt;</th><th scope=col>&lt;chr&gt;</th><th scope=col>&lt;int&gt;</th><th scope=col>&lt;int&gt;</th><th scope=col>&lt;chr&gt;</th><th scope=col>&lt;chr&gt;</th><th scope=col>&lt;fct&gt;</th><th scope=col>&lt;fct&gt;</th><th scope=col>&lt;int&gt;</th><th scope=col>&lt;int&gt;</th><th scope=col>&lt;lgl&gt;</th><th scope=col>&lt;lgl&gt;</th><th scope=col>&lt;int&gt;</th><th scope=col>&lt;int&gt;</th><th scope=col>&lt;int&gt;</th><th scope=col>&lt;dbl&gt;</th><th scope=col>&lt;lgl&gt;</th></tr>\n",
              "</thead>\n",
              "<tbody>\n",
              "\t<tr><th scope=row>1</th><td>1</td><td>a9cc990df6a99ab215a1bc13f51d4825c7d52d18</td><td>1</td><td>1</td><td>D</td><td>O  </td><td>14</td><td>1</td><td>2</td><td>NA</td><td>NA</td><td>NA</td><td>NA</td><td>NA</td><td> 2</td><td>0.06778256</td><td>FALSE</td></tr>\n",
              "\t<tr><th scope=row>2</th><td>2</td><td>a9cc990df6a99ab215a1bc13f51d4825c7d52d18</td><td>1</td><td>1</td><td>D</td><td>O  </td><td>14</td><td>2</td><td>7</td><td>NA</td><td>NA</td><td>NA</td><td>NA</td><td>NA</td><td> 7</td><td>0.23723895</td><td>FALSE</td></tr>\n",
              "\t<tr><th scope=row>3</th><td>3</td><td>c9dbaf50890165ebe810aa770de0e9df903dc35b</td><td>6</td><td>1</td><td>D</td><td>O  </td><td>24</td><td>2</td><td>6</td><td>NA</td><td>NA</td><td>NA</td><td>NA</td><td>NA</td><td>36</td><td>1.22008604</td><td>FALSE</td></tr>\n",
              "\t<tr><th scope=row>4</th><td>4</td><td>718e0bba42bcec6ed98f9690db6d26cb7b93c880</td><td>1</td><td>1</td><td>D</td><td>R.S</td><td>14</td><td>2</td><td>7</td><td>NA</td><td>NA</td><td>NA</td><td>NA</td><td>NA</td><td> 7</td><td>0.23723895</td><td>FALSE</td></tr>\n",
              "\t<tr><th scope=row>5</th><td>5</td><td>532a1879a692b9d7bbb7282ba757d028156ef341</td><td>1</td><td>1</td><td>D</td><td>R.S</td><td>14</td><td>2</td><td>6</td><td>NA</td><td>NA</td><td>NA</td><td>NA</td><td>NA</td><td> 6</td><td>0.20334767</td><td>FALSE</td></tr>\n",
              "\t<tr><th scope=row>6</th><td>6</td><td>0b6b623fa45e257284a3049d097af322841337e3</td><td>1</td><td>1</td><td>D</td><td>R.S</td><td>22</td><td>2</td><td>1</td><td>NA</td><td>NA</td><td>NA</td><td>NA</td><td>NA</td><td> 1</td><td>0.03389128</td><td>FALSE</td></tr>\n",
              "</tbody>\n",
              "</table>\n"
            ],
            "text/markdown": "\nA data.frame: 6 × 17\n\n| <!--/--> | id_popyt &lt;int&gt; | id_jednostki &lt;chr&gt; | waga &lt;int&gt; | sek &lt;int&gt; | klasa_pr &lt;chr&gt; | sekc_pkd &lt;chr&gt; | woj &lt;fct&gt; | zawod_kod2 &lt;fct&gt; | wolne_miejsca &lt;int&gt; | id_cbop &lt;int&gt; | jedna_zmiana &lt;lgl&gt; | wymiar_40 &lt;lgl&gt; | wolne_miejsca_cbop &lt;int&gt; | wolne_miejsca_niepeln_cbop &lt;int&gt; | waga_final &lt;int&gt; | waga_final_scaled &lt;dbl&gt; | R &lt;lgl&gt; |\n|---|---|---|---|---|---|---|---|---|---|---|---|---|---|---|---|---|---|\n| 1 | 1 | a9cc990df6a99ab215a1bc13f51d4825c7d52d18 | 1 | 1 | D | O   | 14 | 1 | 2 | NA | NA | NA | NA | NA |  2 | 0.06778256 | FALSE |\n| 2 | 2 | a9cc990df6a99ab215a1bc13f51d4825c7d52d18 | 1 | 1 | D | O   | 14 | 2 | 7 | NA | NA | NA | NA | NA |  7 | 0.23723895 | FALSE |\n| 3 | 3 | c9dbaf50890165ebe810aa770de0e9df903dc35b | 6 | 1 | D | O   | 24 | 2 | 6 | NA | NA | NA | NA | NA | 36 | 1.22008604 | FALSE |\n| 4 | 4 | 718e0bba42bcec6ed98f9690db6d26cb7b93c880 | 1 | 1 | D | R.S | 14 | 2 | 7 | NA | NA | NA | NA | NA |  7 | 0.23723895 | FALSE |\n| 5 | 5 | 532a1879a692b9d7bbb7282ba757d028156ef341 | 1 | 1 | D | R.S | 14 | 2 | 6 | NA | NA | NA | NA | NA |  6 | 0.20334767 | FALSE |\n| 6 | 6 | 0b6b623fa45e257284a3049d097af322841337e3 | 1 | 1 | D | R.S | 22 | 2 | 1 | NA | NA | NA | NA | NA |  1 | 0.03389128 | FALSE |\n\n",
            "text/latex": "A data.frame: 6 × 17\n\\begin{tabular}{r|lllllllllllllllll}\n  & id\\_popyt & id\\_jednostki & waga & sek & klasa\\_pr & sekc\\_pkd & woj & zawod\\_kod2 & wolne\\_miejsca & id\\_cbop & jedna\\_zmiana & wymiar\\_40 & wolne\\_miejsca\\_cbop & wolne\\_miejsca\\_niepeln\\_cbop & waga\\_final & waga\\_final\\_scaled & R\\\\\n  & <int> & <chr> & <int> & <int> & <chr> & <chr> & <fct> & <fct> & <int> & <int> & <lgl> & <lgl> & <int> & <int> & <int> & <dbl> & <lgl>\\\\\n\\hline\n\t1 & 1 & a9cc990df6a99ab215a1bc13f51d4825c7d52d18 & 1 & 1 & D & O   & 14 & 1 & 2 & NA & NA & NA & NA & NA &  2 & 0.06778256 & FALSE\\\\\n\t2 & 2 & a9cc990df6a99ab215a1bc13f51d4825c7d52d18 & 1 & 1 & D & O   & 14 & 2 & 7 & NA & NA & NA & NA & NA &  7 & 0.23723895 & FALSE\\\\\n\t3 & 3 & c9dbaf50890165ebe810aa770de0e9df903dc35b & 6 & 1 & D & O   & 24 & 2 & 6 & NA & NA & NA & NA & NA & 36 & 1.22008604 & FALSE\\\\\n\t4 & 4 & 718e0bba42bcec6ed98f9690db6d26cb7b93c880 & 1 & 1 & D & R.S & 14 & 2 & 7 & NA & NA & NA & NA & NA &  7 & 0.23723895 & FALSE\\\\\n\t5 & 5 & 532a1879a692b9d7bbb7282ba757d028156ef341 & 1 & 1 & D & R.S & 14 & 2 & 6 & NA & NA & NA & NA & NA &  6 & 0.20334767 & FALSE\\\\\n\t6 & 6 & 0b6b623fa45e257284a3049d097af322841337e3 & 1 & 1 & D & R.S & 22 & 2 & 1 & NA & NA & NA & NA & NA &  1 & 0.03389128 & FALSE\\\\\n\\end{tabular}\n",
            "text/plain": [
              "  id_popyt id_jednostki                             waga sek klasa_pr sekc_pkd\n",
              "1 1        a9cc990df6a99ab215a1bc13f51d4825c7d52d18 1    1   D        O       \n",
              "2 2        a9cc990df6a99ab215a1bc13f51d4825c7d52d18 1    1   D        O       \n",
              "3 3        c9dbaf50890165ebe810aa770de0e9df903dc35b 6    1   D        O       \n",
              "4 4        718e0bba42bcec6ed98f9690db6d26cb7b93c880 1    1   D        R.S     \n",
              "5 5        532a1879a692b9d7bbb7282ba757d028156ef341 1    1   D        R.S     \n",
              "6 6        0b6b623fa45e257284a3049d097af322841337e3 1    1   D        R.S     \n",
              "  woj zawod_kod2 wolne_miejsca id_cbop jedna_zmiana wymiar_40\n",
              "1 14  1          2             NA      NA           NA       \n",
              "2 14  2          7             NA      NA           NA       \n",
              "3 24  2          6             NA      NA           NA       \n",
              "4 14  2          7             NA      NA           NA       \n",
              "5 14  2          6             NA      NA           NA       \n",
              "6 22  2          1             NA      NA           NA       \n",
              "  wolne_miejsca_cbop wolne_miejsca_niepeln_cbop waga_final waga_final_scaled\n",
              "1 NA                 NA                          2         0.06778256       \n",
              "2 NA                 NA                          7         0.23723895       \n",
              "3 NA                 NA                         36         1.22008604       \n",
              "4 NA                 NA                          7         0.23723895       \n",
              "5 NA                 NA                          6         0.20334767       \n",
              "6 NA                 NA                          1         0.03389128       \n",
              "  R    \n",
              "1 FALSE\n",
              "2 FALSE\n",
              "3 FALSE\n",
              "4 FALSE\n",
              "5 FALSE\n",
              "6 FALSE"
            ]
          },
          "metadata": {}
        }
      ]
    },
    {
      "cell_type": "markdown",
      "source": [
        "Regresja logistyczna wyjaśniająca zmienną `R` oznaczającą przynależność do CBOP."
      ],
      "metadata": {
        "id": "rfRnkMYduiiu"
      }
    },
    {
      "cell_type": "code",
      "metadata": {
        "colab": {
          "base_uri": "https://localhost:8080/",
          "height": 1000
        },
        "id": "ivlxsTwSMOFV",
        "outputId": "901e3dc2-f214-4073-84c1-9d73ad01597c"
      },
      "source": [
        "model_ps <- glm(formula = R ~ sek + klasa_pr  + woj + sekc_pkd+  zawod_kod2,\n",
        "                data = data_for_models,\n",
        "                family = binomial(),\n",
        "                weights = waga_final_scaled)\n",
        "\n",
        "summary(model_ps)"
      ],
      "execution_count": 6,
      "outputs": [
        {
          "output_type": "stream",
          "name": "stderr",
          "text": [
            "Warning message in eval(family$initialize):\n",
            "“non-integer #successes in a binomial glm!”\n"
          ]
        },
        {
          "output_type": "display_data",
          "data": {
            "text/plain": [
              "\n",
              "Call:\n",
              "glm(formula = R ~ sek + klasa_pr + woj + sekc_pkd + zawod_kod2, \n",
              "    family = binomial(), data = data_for_models, weights = waga_final_scaled)\n",
              "\n",
              "Deviance Residuals: \n",
              "    Min       1Q   Median       3Q      Max  \n",
              "-3.3653  -0.2123  -0.1264  -0.0679  10.6440  \n",
              "\n",
              "Coefficients:\n",
              "            Estimate Std. Error z value Pr(>|z|)    \n",
              "(Intercept) -3.90911    0.88616  -4.411 1.03e-05 ***\n",
              "sek         -0.41982    0.25401  -1.653 0.098371 .  \n",
              "klasa_prM   -1.39778    0.14373  -9.725  < 2e-16 ***\n",
              "klasa_prS   -1.78411    0.18561  -9.612  < 2e-16 ***\n",
              "woj4         0.33602    0.35765   0.940 0.347463    \n",
              "woj6        -0.53881    0.37032  -1.455 0.145675    \n",
              "woj8        -0.38494    0.54631  -0.705 0.481046    \n",
              "woj10       -0.70847    0.38288  -1.850 0.064261 .  \n",
              "woj12       -0.32880    0.30790  -1.068 0.285577    \n",
              "woj14        0.16457    0.23835   0.690 0.489899    \n",
              "woj16        0.47789    0.44627   1.071 0.284235    \n",
              "woj18        2.58223    0.26581   9.714  < 2e-16 ***\n",
              "woj20        0.61657    0.43666   1.412 0.157942    \n",
              "woj22       -0.13343    0.31274  -0.427 0.669637    \n",
              "woj24        0.31278    0.25615   1.221 0.222047    \n",
              "woj26       -0.21573    0.52464  -0.411 0.680932    \n",
              "woj28        1.53805    0.28864   5.329 9.89e-08 ***\n",
              "woj30       -0.86487    0.33042  -2.617 0.008858 ** \n",
              "woj32       -0.17172    0.38616  -0.445 0.656551    \n",
              "sekc_pkdD.E  0.06024    0.46673   0.129 0.897303    \n",
              "sekc_pkdF   -0.83492    0.28129  -2.968 0.002995 ** \n",
              "sekc_pkdG    0.45286    0.18472   2.452 0.014224 *  \n",
              "sekc_pkdH   -0.45593    0.29526  -1.544 0.122548    \n",
              "sekc_pkdI    1.13272    0.24721   4.582 4.60e-06 ***\n",
              "sekc_pkdJ   -1.67263    0.86268  -1.939 0.052517 .  \n",
              "sekc_pkdK.L  0.66335    0.33493   1.981 0.047643 *  \n",
              "sekc_pkdM    0.43364    0.31372   1.382 0.166888    \n",
              "sekc_pkdN   -0.03139    0.32072  -0.098 0.922040    \n",
              "sekc_pkdO   -1.29192    0.51448  -2.511 0.012035 *  \n",
              "sekc_pkdP   -0.58997    0.57105  -1.033 0.301544    \n",
              "sekc_pkdQ    0.17202    0.35229   0.488 0.625344    \n",
              "sekc_pkdR.S  0.50286    0.35747   1.407 0.159509    \n",
              "zawod_kod22  0.95180    0.73774   1.290 0.196999    \n",
              "zawod_kod23  1.53132    0.74443   2.057 0.039684 *  \n",
              "zawod_kod24  1.68307    0.73114   2.302 0.021336 *  \n",
              "zawod_kod25  2.35577    0.71976   3.273 0.001064 ** \n",
              "zawod_kod27  2.13383    0.71900   2.968 0.003000 ** \n",
              "zawod_kod28  2.05299    0.72119   2.847 0.004418 ** \n",
              "zawod_kod29  2.57378    0.72408   3.555 0.000379 ***\n",
              "---\n",
              "Signif. codes:  0 ‘***’ 0.001 ‘**’ 0.01 ‘*’ 0.05 ‘.’ 0.1 ‘ ’ 1\n",
              "\n",
              "(Dispersion parameter for binomial family taken to be 1)\n",
              "\n",
              "    Null deviance: 3198.6  on 9973  degrees of freedom\n",
              "Residual deviance: 2674.3  on 9935  degrees of freedom\n",
              "AIC: 2242.4\n",
              "\n",
              "Number of Fisher Scoring iterations: 8\n"
            ]
          },
          "metadata": {}
        }
      ]
    },
    {
      "cell_type": "markdown",
      "source": [
        "Następnie budujemy model wyjaśniajacy kolumnę `jedna_zmiana`."
      ],
      "metadata": {
        "id": "Z15Bfh1Am4Uq"
      }
    },
    {
      "cell_type": "code",
      "metadata": {
        "colab": {
          "base_uri": "https://localhost:8080/",
          "height": 1000
        },
        "id": "CTrOYLNyNRDw",
        "outputId": "45427423-cb3d-49b5-ddcd-5f37cb488bf5"
      },
      "source": [
        "model_y <- glm(formula = jedna_zmiana ~ sek + klasa_pr  + woj + sekc_pkd+  zawod_kod2,\n",
        "               data = data_for_models,\n",
        "               subset = R == TRUE,\n",
        "               family = binomial(),\n",
        "               weights = waga_final_scaled)\n",
        "summary(model_y)"
      ],
      "execution_count": 7,
      "outputs": [
        {
          "output_type": "stream",
          "name": "stderr",
          "text": [
            "Warning message in eval(family$initialize):\n",
            "“non-integer #successes in a binomial glm!”\n"
          ]
        },
        {
          "output_type": "display_data",
          "data": {
            "text/plain": [
              "\n",
              "Call:\n",
              "glm(formula = jedna_zmiana ~ sek + klasa_pr + woj + sekc_pkd + \n",
              "    zawod_kod2, family = binomial(), data = data_for_models, \n",
              "    weights = waga_final_scaled, subset = R == TRUE)\n",
              "\n",
              "Deviance Residuals: \n",
              "    Min       1Q   Median       3Q      Max  \n",
              "-3.7180  -0.4479  -0.1159   0.3953   3.3222  \n",
              "\n",
              "Coefficients:\n",
              "            Estimate Std. Error z value Pr(>|z|)    \n",
              "(Intercept)  0.22406    2.43927   0.092 0.926812    \n",
              "sek         -0.04156    0.78837  -0.053 0.957962    \n",
              "klasa_prM    5.48045    0.94231   5.816 6.03e-09 ***\n",
              "klasa_prS    0.88866    0.59022   1.506 0.132158    \n",
              "woj4        -0.95889    0.85013  -1.128 0.259350    \n",
              "woj6        -0.59377    1.35753  -0.437 0.661828    \n",
              "woj8        -0.52984    1.26894  -0.418 0.676279    \n",
              "woj10       -3.44924    1.33994  -2.574 0.010048 *  \n",
              "woj12        0.54816    0.85414   0.642 0.521022    \n",
              "woj14       -2.35971    0.67360  -3.503 0.000460 ***\n",
              "woj16        0.89289    1.08538   0.823 0.410707    \n",
              "woj18       -0.12864    0.77620  -0.166 0.868365    \n",
              "woj20       -2.11470    1.25028  -1.691 0.090764 .  \n",
              "woj22       -3.19033    1.03687  -3.077 0.002092 ** \n",
              "woj24       -1.55454    0.72029  -2.158 0.030911 *  \n",
              "woj26       -2.86564    1.39804  -2.050 0.040389 *  \n",
              "woj28       -1.03022    1.13746  -0.906 0.365083    \n",
              "woj30       -2.60562    1.01357  -2.571 0.010148 *  \n",
              "woj32       -1.15251    0.94928  -1.214 0.224716    \n",
              "sekc_pkdD.E  2.69899    1.39718   1.932 0.053391 .  \n",
              "sekc_pkdF    3.32635    1.02840   3.234 0.001219 ** \n",
              "sekc_pkdG   -0.77374    0.83629  -0.925 0.354857    \n",
              "sekc_pkdH    0.27290    1.00754   0.271 0.786504    \n",
              "sekc_pkdI    0.44762    0.93933   0.477 0.633699    \n",
              "sekc_pkdJ    2.50550    2.29050   1.094 0.274013    \n",
              "sekc_pkdK.L  4.92445    1.44078   3.418 0.000631 ***\n",
              "sekc_pkdM    2.22698    1.32548   1.680 0.092932 .  \n",
              "sekc_pkdN    1.58768    0.94436   1.681 0.092720 .  \n",
              "sekc_pkdO    2.19000    1.43636   1.525 0.127336    \n",
              "sekc_pkdP    2.94309    1.49149   1.973 0.048466 *  \n",
              "sekc_pkdQ   -0.17469    1.13931  -0.153 0.878140    \n",
              "sekc_pkdR.S  1.34510    1.36726   0.984 0.325218    \n",
              "zawod_kod22 -0.56871    2.03253  -0.280 0.779629    \n",
              "zawod_kod23  0.23702    2.08223   0.114 0.909373    \n",
              "zawod_kod24 -1.29570    2.00983  -0.645 0.519135    \n",
              "zawod_kod25  0.01276    1.87365   0.007 0.994568    \n",
              "zawod_kod27  0.60983    1.88588   0.323 0.746416    \n",
              "zawod_kod28 -1.00310    1.92133  -0.522 0.601611    \n",
              "zawod_kod29 -1.05098    1.90200  -0.553 0.580561    \n",
              "---\n",
              "Signif. codes:  0 ‘***’ 0.001 ‘**’ 0.01 ‘*’ 0.05 ‘.’ 0.1 ‘ ’ 1\n",
              "\n",
              "(Dispersion parameter for binomial family taken to be 1)\n",
              "\n",
              "    Null deviance: 516.58  on 504  degrees of freedom\n",
              "Residual deviance: 225.68  on 466  degrees of freedom\n",
              "AIC: 214.66\n",
              "\n",
              "Number of Fisher Scoring iterations: 6\n"
            ]
          },
          "metadata": {}
        }
      ]
    },
    {
      "cell_type": "markdown",
      "source": [
        "Dodajemy $\\hat{\\rho}$ oraz $\\hat{m}$ zgodnie z wzorami ze slajdów."
      ],
      "metadata": {
        "id": "yAIT1d_hnHfj"
      }
    },
    {
      "cell_type": "code",
      "source": [
        "data_for_models <- data_for_models %>%\n",
        "  mutate(rho_hat = predict(model_ps, data_for_models, type = \"response\"),\n",
        "         w_hat = 1/ rho_hat,\n",
        "         m_hat = predict(model_y, data_for_models, type = \"response\"))\n",
        "head(data_for_models)"
      ],
      "metadata": {
        "colab": {
          "base_uri": "https://localhost:8080/",
          "height": 306
        },
        "id": "wxF9a0vTnRS7",
        "outputId": "dacc77b9-9314-4e3b-c948-5c1b06085fd2"
      },
      "execution_count": 9,
      "outputs": [
        {
          "output_type": "display_data",
          "data": {
            "text/html": [
              "<table class=\"dataframe\">\n",
              "<caption>A data.frame: 6 × 20</caption>\n",
              "<thead>\n",
              "\t<tr><th></th><th scope=col>id_popyt</th><th scope=col>id_jednostki</th><th scope=col>waga</th><th scope=col>sek</th><th scope=col>klasa_pr</th><th scope=col>sekc_pkd</th><th scope=col>woj</th><th scope=col>zawod_kod2</th><th scope=col>wolne_miejsca</th><th scope=col>id_cbop</th><th scope=col>jedna_zmiana</th><th scope=col>wymiar_40</th><th scope=col>wolne_miejsca_cbop</th><th scope=col>wolne_miejsca_niepeln_cbop</th><th scope=col>waga_final</th><th scope=col>waga_final_scaled</th><th scope=col>R</th><th scope=col>rho_hat</th><th scope=col>w_hat</th><th scope=col>m_hat</th></tr>\n",
              "\t<tr><th></th><th scope=col>&lt;int&gt;</th><th scope=col>&lt;chr&gt;</th><th scope=col>&lt;int&gt;</th><th scope=col>&lt;int&gt;</th><th scope=col>&lt;chr&gt;</th><th scope=col>&lt;chr&gt;</th><th scope=col>&lt;fct&gt;</th><th scope=col>&lt;fct&gt;</th><th scope=col>&lt;int&gt;</th><th scope=col>&lt;int&gt;</th><th scope=col>&lt;lgl&gt;</th><th scope=col>&lt;lgl&gt;</th><th scope=col>&lt;int&gt;</th><th scope=col>&lt;int&gt;</th><th scope=col>&lt;int&gt;</th><th scope=col>&lt;dbl&gt;</th><th scope=col>&lt;lgl&gt;</th><th scope=col>&lt;dbl&gt;</th><th scope=col>&lt;dbl&gt;</th><th scope=col>&lt;dbl&gt;</th></tr>\n",
              "</thead>\n",
              "<tbody>\n",
              "\t<tr><th scope=row>1</th><td>1</td><td>a9cc990df6a99ab215a1bc13f51d4825c7d52d18</td><td>1</td><td>1</td><td>D</td><td>O  </td><td>14</td><td>1</td><td>2</td><td>NA</td><td>NA</td><td>NA</td><td>NA</td><td>NA</td><td> 2</td><td>0.06778256</td><td>FALSE</td><td>0.004251277</td><td>235.22345</td><td>0.50319928</td></tr>\n",
              "\t<tr><th scope=row>2</th><td>2</td><td>a9cc990df6a99ab215a1bc13f51d4825c7d52d18</td><td>1</td><td>1</td><td>D</td><td>O  </td><td>14</td><td>2</td><td>7</td><td>NA</td><td>NA</td><td>NA</td><td>NA</td><td>NA</td><td> 7</td><td>0.23723895</td><td>FALSE</td><td>0.010938389</td><td> 91.42114</td><td>0.36449427</td></tr>\n",
              "\t<tr><th scope=row>3</th><td>3</td><td>c9dbaf50890165ebe810aa770de0e9df903dc35b</td><td>6</td><td>1</td><td>D</td><td>O  </td><td>24</td><td>2</td><td>6</td><td>NA</td><td>NA</td><td>NA</td><td>NA</td><td>NA</td><td>36</td><td>1.22008604</td><td>FALSE</td><td>0.012663713</td><td> 78.96578</td><td>0.56199453</td></tr>\n",
              "\t<tr><th scope=row>4</th><td>4</td><td>718e0bba42bcec6ed98f9690db6d26cb7b93c880</td><td>1</td><td>1</td><td>D</td><td>R.S</td><td>14</td><td>2</td><td>7</td><td>NA</td><td>NA</td><td>NA</td><td>NA</td><td>NA</td><td> 7</td><td>0.23723895</td><td>FALSE</td><td>0.062403515</td><td> 16.02474</td><td>0.19768744</td></tr>\n",
              "\t<tr><th scope=row>5</th><td>5</td><td>532a1879a692b9d7bbb7282ba757d028156ef341</td><td>1</td><td>1</td><td>D</td><td>R.S</td><td>14</td><td>2</td><td>6</td><td>NA</td><td>NA</td><td>NA</td><td>NA</td><td>NA</td><td> 6</td><td>0.20334767</td><td>FALSE</td><td>0.062403515</td><td> 16.02474</td><td>0.19768744</td></tr>\n",
              "\t<tr><th scope=row>6</th><td>6</td><td>0b6b623fa45e257284a3049d097af322841337e3</td><td>1</td><td>1</td><td>D</td><td>R.S</td><td>22</td><td>2</td><td>1</td><td>NA</td><td>NA</td><td>NA</td><td>NA</td><td>NA</td><td> 1</td><td>0.03389128</td><td>FALSE</td><td>0.047079195</td><td> 21.24080</td><td>0.09696319</td></tr>\n",
              "</tbody>\n",
              "</table>\n"
            ],
            "text/markdown": "\nA data.frame: 6 × 20\n\n| <!--/--> | id_popyt &lt;int&gt; | id_jednostki &lt;chr&gt; | waga &lt;int&gt; | sek &lt;int&gt; | klasa_pr &lt;chr&gt; | sekc_pkd &lt;chr&gt; | woj &lt;fct&gt; | zawod_kod2 &lt;fct&gt; | wolne_miejsca &lt;int&gt; | id_cbop &lt;int&gt; | jedna_zmiana &lt;lgl&gt; | wymiar_40 &lt;lgl&gt; | wolne_miejsca_cbop &lt;int&gt; | wolne_miejsca_niepeln_cbop &lt;int&gt; | waga_final &lt;int&gt; | waga_final_scaled &lt;dbl&gt; | R &lt;lgl&gt; | rho_hat &lt;dbl&gt; | w_hat &lt;dbl&gt; | m_hat &lt;dbl&gt; |\n|---|---|---|---|---|---|---|---|---|---|---|---|---|---|---|---|---|---|---|---|---|\n| 1 | 1 | a9cc990df6a99ab215a1bc13f51d4825c7d52d18 | 1 | 1 | D | O   | 14 | 1 | 2 | NA | NA | NA | NA | NA |  2 | 0.06778256 | FALSE | 0.004251277 | 235.22345 | 0.50319928 |\n| 2 | 2 | a9cc990df6a99ab215a1bc13f51d4825c7d52d18 | 1 | 1 | D | O   | 14 | 2 | 7 | NA | NA | NA | NA | NA |  7 | 0.23723895 | FALSE | 0.010938389 |  91.42114 | 0.36449427 |\n| 3 | 3 | c9dbaf50890165ebe810aa770de0e9df903dc35b | 6 | 1 | D | O   | 24 | 2 | 6 | NA | NA | NA | NA | NA | 36 | 1.22008604 | FALSE | 0.012663713 |  78.96578 | 0.56199453 |\n| 4 | 4 | 718e0bba42bcec6ed98f9690db6d26cb7b93c880 | 1 | 1 | D | R.S | 14 | 2 | 7 | NA | NA | NA | NA | NA |  7 | 0.23723895 | FALSE | 0.062403515 |  16.02474 | 0.19768744 |\n| 5 | 5 | 532a1879a692b9d7bbb7282ba757d028156ef341 | 1 | 1 | D | R.S | 14 | 2 | 6 | NA | NA | NA | NA | NA |  6 | 0.20334767 | FALSE | 0.062403515 |  16.02474 | 0.19768744 |\n| 6 | 6 | 0b6b623fa45e257284a3049d097af322841337e3 | 1 | 1 | D | R.S | 22 | 2 | 1 | NA | NA | NA | NA | NA |  1 | 0.03389128 | FALSE | 0.047079195 |  21.24080 | 0.09696319 |\n\n",
            "text/latex": "A data.frame: 6 × 20\n\\begin{tabular}{r|llllllllllllllllllll}\n  & id\\_popyt & id\\_jednostki & waga & sek & klasa\\_pr & sekc\\_pkd & woj & zawod\\_kod2 & wolne\\_miejsca & id\\_cbop & jedna\\_zmiana & wymiar\\_40 & wolne\\_miejsca\\_cbop & wolne\\_miejsca\\_niepeln\\_cbop & waga\\_final & waga\\_final\\_scaled & R & rho\\_hat & w\\_hat & m\\_hat\\\\\n  & <int> & <chr> & <int> & <int> & <chr> & <chr> & <fct> & <fct> & <int> & <int> & <lgl> & <lgl> & <int> & <int> & <int> & <dbl> & <lgl> & <dbl> & <dbl> & <dbl>\\\\\n\\hline\n\t1 & 1 & a9cc990df6a99ab215a1bc13f51d4825c7d52d18 & 1 & 1 & D & O   & 14 & 1 & 2 & NA & NA & NA & NA & NA &  2 & 0.06778256 & FALSE & 0.004251277 & 235.22345 & 0.50319928\\\\\n\t2 & 2 & a9cc990df6a99ab215a1bc13f51d4825c7d52d18 & 1 & 1 & D & O   & 14 & 2 & 7 & NA & NA & NA & NA & NA &  7 & 0.23723895 & FALSE & 0.010938389 &  91.42114 & 0.36449427\\\\\n\t3 & 3 & c9dbaf50890165ebe810aa770de0e9df903dc35b & 6 & 1 & D & O   & 24 & 2 & 6 & NA & NA & NA & NA & NA & 36 & 1.22008604 & FALSE & 0.012663713 &  78.96578 & 0.56199453\\\\\n\t4 & 4 & 718e0bba42bcec6ed98f9690db6d26cb7b93c880 & 1 & 1 & D & R.S & 14 & 2 & 7 & NA & NA & NA & NA & NA &  7 & 0.23723895 & FALSE & 0.062403515 &  16.02474 & 0.19768744\\\\\n\t5 & 5 & 532a1879a692b9d7bbb7282ba757d028156ef341 & 1 & 1 & D & R.S & 14 & 2 & 6 & NA & NA & NA & NA & NA &  6 & 0.20334767 & FALSE & 0.062403515 &  16.02474 & 0.19768744\\\\\n\t6 & 6 & 0b6b623fa45e257284a3049d097af322841337e3 & 1 & 1 & D & R.S & 22 & 2 & 1 & NA & NA & NA & NA & NA &  1 & 0.03389128 & FALSE & 0.047079195 &  21.24080 & 0.09696319\\\\\n\\end{tabular}\n",
            "text/plain": [
              "  id_popyt id_jednostki                             waga sek klasa_pr sekc_pkd\n",
              "1 1        a9cc990df6a99ab215a1bc13f51d4825c7d52d18 1    1   D        O       \n",
              "2 2        a9cc990df6a99ab215a1bc13f51d4825c7d52d18 1    1   D        O       \n",
              "3 3        c9dbaf50890165ebe810aa770de0e9df903dc35b 6    1   D        O       \n",
              "4 4        718e0bba42bcec6ed98f9690db6d26cb7b93c880 1    1   D        R.S     \n",
              "5 5        532a1879a692b9d7bbb7282ba757d028156ef341 1    1   D        R.S     \n",
              "6 6        0b6b623fa45e257284a3049d097af322841337e3 1    1   D        R.S     \n",
              "  woj zawod_kod2 wolne_miejsca id_cbop jedna_zmiana wymiar_40\n",
              "1 14  1          2             NA      NA           NA       \n",
              "2 14  2          7             NA      NA           NA       \n",
              "3 24  2          6             NA      NA           NA       \n",
              "4 14  2          7             NA      NA           NA       \n",
              "5 14  2          6             NA      NA           NA       \n",
              "6 22  2          1             NA      NA           NA       \n",
              "  wolne_miejsca_cbop wolne_miejsca_niepeln_cbop waga_final waga_final_scaled\n",
              "1 NA                 NA                          2         0.06778256       \n",
              "2 NA                 NA                          7         0.23723895       \n",
              "3 NA                 NA                         36         1.22008604       \n",
              "4 NA                 NA                          7         0.23723895       \n",
              "5 NA                 NA                          6         0.20334767       \n",
              "6 NA                 NA                          1         0.03389128       \n",
              "  R     rho_hat     w_hat     m_hat     \n",
              "1 FALSE 0.004251277 235.22345 0.50319928\n",
              "2 FALSE 0.010938389  91.42114 0.36449427\n",
              "3 FALSE 0.012663713  78.96578 0.56199453\n",
              "4 FALSE 0.062403515  16.02474 0.19768744\n",
              "5 FALSE 0.062403515  16.02474 0.19768744\n",
              "6 FALSE 0.047079195  21.24080 0.09696319"
            ]
          },
          "metadata": {}
        }
      ]
    },
    {
      "cell_type": "markdown",
      "source": [
        "Wyznaczamy estymator DR oraz dla porównania: naiwny (ważona średnia arytmetyczna), propensity score estimator (ważony $1/\\hat{\\rho}$) oraz masową imputację ($\\hat{m}$)."
      ],
      "metadata": {
        "id": "qR32gdcMnVhn"
      }
    },
    {
      "cell_type": "code",
      "source": [
        "dr_part1 <- data_for_models %>%\n",
        "  filter(R == TRUE) %>%\n",
        "  summarise(theta_hat = weighted.mean(jedna_zmiana - m_hat, w_hat)) %>%\n",
        "  pull(theta_hat)\n",
        "\n",
        "dr_part2 <- data_for_models %>%\n",
        "  filter(R == FALSE) %>%\n",
        "  summarise(theta_hat = weighted.mean(m_hat, waga_final_scaled)) %>%\n",
        "  pull(theta_hat)\n",
        "\n",
        "naive <- data_for_models %>%\n",
        "  filter(R == TRUE) %>%\n",
        "  summarise(theta_hat = weighted.mean(jedna_zmiana, waga_final_scaled)) %>%\n",
        "  pull(theta_hat)\n",
        "\n",
        "ps <- data_for_models %>%\n",
        "  filter(R == TRUE) %>%\n",
        "  summarise(theta_hat = weighted.mean(jedna_zmiana, waga_final_scaled*w_hat)) %>%\n",
        "  pull(theta_hat)\n",
        "\n",
        "results <- c(dr_part1 = dr_part1, dr_part2 = dr_part2, theta_dr = dr_part1+dr_part2, naive = naive, ps = ps, mi = dr_part2)\n",
        "\n",
        "print(results)"
      ],
      "metadata": {
        "colab": {
          "base_uri": "https://localhost:8080/"
        },
        "id": "zKrmnCgwnX8V",
        "outputId": "3153ff80-abd2-4afa-d937-37200e0fdac1"
      },
      "execution_count": 11,
      "outputs": [
        {
          "output_type": "stream",
          "name": "stdout",
          "text": [
            " dr_part1  dr_part2  theta_dr     naive        ps        mi \n",
            "0.1057680 0.6502704 0.7560384 0.5499774 0.6179120 0.6502704 \n"
          ]
        }
      ]
    }
  ]
}