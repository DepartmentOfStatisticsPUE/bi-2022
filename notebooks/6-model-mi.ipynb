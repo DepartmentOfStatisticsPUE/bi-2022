{
  "nbformat": 4,
  "nbformat_minor": 0,
  "metadata": {
    "colab": {
      "name": "bi_2021_05_17-rivers.ipynb",
      "provenance": [],
      "collapsed_sections": [],
      "authorship_tag": "ABX9TyNCR5fFaju8NkV0MjHBh2QP",
      "include_colab_link": true
    },
    "kernelspec": {
      "name": "ir",
      "display_name": "R"
    },
    "language_info": {
      "name": "R"
    }
  },
  "cells": [
    {
      "cell_type": "markdown",
      "metadata": {
        "id": "view-in-github",
        "colab_type": "text"
      },
      "source": [
        "<a href=\"https://colab.research.google.com/github/DepartmentOfStatisticsPUE/bi-2022/blob/main/notebooks/6-model-mi.ipynb\" target=\"_parent\"><img src=\"https://colab.research.google.com/assets/colab-badge.svg\" alt=\"Open In Colab\"/></a>"
      ]
    },
    {
      "cell_type": "markdown",
      "metadata": {
        "id": "u0CsHczIJFmz"
      },
      "source": [
        "# Wstęp"
      ]
    },
    {
      "cell_type": "markdown",
      "metadata": {
        "id": "EG_iph6mHHpO"
      },
      "source": [
        "Na podstwie:\n",
        "\n",
        "+ Kim, J. K., Park, S., Chen, Y., & Wu, C. (2021). Combining non‐probability and probability survey samples through mass imputation. Journal of the Royal Statistical Society: Series A (Statistics in Society), 184(3), 941-963.\n",
        "+ Yang, J.K. Kim, and Y. Hwang (2021). \"Integration of survey data and big observational data for finite population inference using mass imputation\", Survey Methodology, 47, 29--58.\n"
      ]
    },
    {
      "cell_type": "markdown",
      "metadata": {
        "id": "V4exOiasJHqk"
      },
      "source": [
        "# Pakiety i dane"
      ]
    },
    {
      "cell_type": "markdown",
      "metadata": {
        "id": "Cc-v7Bv1JB2C"
      },
      "source": [
        "Ładujemy pakiety"
      ]
    },
    {
      "cell_type": "code",
      "metadata": {
        "id": "LxrB3rmlJCy2",
        "colab": {
          "base_uri": "https://localhost:8080/"
        },
        "outputId": "1961788e-45e4-4adb-e3c9-9be91707cecb"
      },
      "source": [
        "library(tidyverse) "
      ],
      "execution_count": 1,
      "outputs": [
        {
          "output_type": "stream",
          "name": "stderr",
          "text": [
            "Warning message in system(\"timedatectl\", intern = TRUE):\n",
            "“running command 'timedatectl' had status 1”\n",
            "── \u001b[1mAttaching packages\u001b[22m ─────────────────────────────────────── tidyverse 1.3.1 ──\n",
            "\n",
            "\u001b[32m✔\u001b[39m \u001b[34mggplot2\u001b[39m 3.3.6     \u001b[32m✔\u001b[39m \u001b[34mpurrr  \u001b[39m 0.3.4\n",
            "\u001b[32m✔\u001b[39m \u001b[34mtibble \u001b[39m 3.1.7     \u001b[32m✔\u001b[39m \u001b[34mdplyr  \u001b[39m 1.0.9\n",
            "\u001b[32m✔\u001b[39m \u001b[34mtidyr  \u001b[39m 1.2.0     \u001b[32m✔\u001b[39m \u001b[34mstringr\u001b[39m 1.4.0\n",
            "\u001b[32m✔\u001b[39m \u001b[34mreadr  \u001b[39m 2.1.2     \u001b[32m✔\u001b[39m \u001b[34mforcats\u001b[39m 0.5.1\n",
            "\n",
            "── \u001b[1mConflicts\u001b[22m ────────────────────────────────────────── tidyverse_conflicts() ──\n",
            "\u001b[31m✖\u001b[39m \u001b[34mdplyr\u001b[39m::\u001b[32mfilter()\u001b[39m masks \u001b[34mstats\u001b[39m::filter()\n",
            "\u001b[31m✖\u001b[39m \u001b[34mdplyr\u001b[39m::\u001b[32mlag()\u001b[39m    masks \u001b[34mstats\u001b[39m::lag()\n",
            "\n"
          ]
        }
      ]
    },
    {
      "cell_type": "markdown",
      "metadata": {
        "id": "5c4sztugI3Gs"
      },
      "source": [
        "Pobieramy dane z zajęć"
      ]
    },
    {
      "cell_type": "code",
      "metadata": {
        "id": "1hqV3DNZI4iF"
      },
      "source": [
        "download.file(\"https://raw.githubusercontent.com/DepartmentOfStatisticsPUE/bi-2021/main/data/popyt-zajecia-dane.csv\",\n",
        "              \"popyt-dane.csv\")"
      ],
      "execution_count": 2,
      "outputs": []
    },
    {
      "cell_type": "code",
      "metadata": {
        "colab": {
          "base_uri": "https://localhost:8080/",
          "height": 306
        },
        "id": "UZjj5343JYGx",
        "outputId": "f1e61e9d-4b63-4d2c-8892-bf817aacacc7"
      },
      "source": [
        "dane <- read.csv(\"popyt-dane.csv\", stringsAsFactors = FALSE) %>%\n",
        "    mutate(woj = as.factor(woj),\n",
        "           zawod_kod2 = as.factor(zawod_kod2))\n",
        "tail(dane)"
      ],
      "execution_count": 3,
      "outputs": [
        {
          "output_type": "display_data",
          "data": {
            "text/html": [
              "<table class=\"dataframe\">\n",
              "<caption>A data.frame: 6 × 14</caption>\n",
              "<thead>\n",
              "\t<tr><th></th><th scope=col>id_popyt</th><th scope=col>id_jednostki</th><th scope=col>waga</th><th scope=col>sek</th><th scope=col>klasa_pr</th><th scope=col>sekc_pkd</th><th scope=col>woj</th><th scope=col>zawod_kod2</th><th scope=col>wolne_miejsca</th><th scope=col>id_cbop</th><th scope=col>jedna_zmiana</th><th scope=col>wymiar_40</th><th scope=col>wolne_miejsca_cbop</th><th scope=col>wolne_miejsca_niepeln_cbop</th></tr>\n",
              "\t<tr><th></th><th scope=col>&lt;int&gt;</th><th scope=col>&lt;chr&gt;</th><th scope=col>&lt;int&gt;</th><th scope=col>&lt;int&gt;</th><th scope=col>&lt;chr&gt;</th><th scope=col>&lt;chr&gt;</th><th scope=col>&lt;fct&gt;</th><th scope=col>&lt;fct&gt;</th><th scope=col>&lt;int&gt;</th><th scope=col>&lt;int&gt;</th><th scope=col>&lt;lgl&gt;</th><th scope=col>&lt;lgl&gt;</th><th scope=col>&lt;int&gt;</th><th scope=col>&lt;int&gt;</th></tr>\n",
              "</thead>\n",
              "<tbody>\n",
              "\t<tr><th scope=row>20941</th><td>NA</td><td>a6a20c0f40c36af79446a53cb1af98dac84ca2cf</td><td>NA</td><td>2</td><td>S</td><td>G</td><td>8</td><td>8</td><td>NA</td><td>1</td><td> TRUE</td><td>TRUE</td><td> 2</td><td>1</td></tr>\n",
              "\t<tr><th scope=row>20942</th><td>NA</td><td>a6a20c0f40c36af79446a53cb1af98dac84ca2cf</td><td>NA</td><td>2</td><td>S</td><td>G</td><td>8</td><td>9</td><td>NA</td><td>1</td><td> TRUE</td><td>TRUE</td><td> 2</td><td>1</td></tr>\n",
              "\t<tr><th scope=row>20943</th><td>NA</td><td>5ab1d632da4eda181d7a454f71dd69e4433b6aa5</td><td>NA</td><td>2</td><td>D</td><td>H</td><td>8</td><td>9</td><td>NA</td><td>1</td><td>FALSE</td><td>TRUE</td><td> 1</td><td>0</td></tr>\n",
              "\t<tr><th scope=row>20944</th><td>NA</td><td>a108d5030e205dc1632b5b8b3eddb725821adfa5</td><td>NA</td><td>2</td><td>S</td><td>I</td><td>8</td><td>7</td><td>NA</td><td>1</td><td> TRUE</td><td>TRUE</td><td> 1</td><td>0</td></tr>\n",
              "\t<tr><th scope=row>20945</th><td>NA</td><td>a108d5030e205dc1632b5b8b3eddb725821adfa5</td><td>NA</td><td>2</td><td>S</td><td>I</td><td>8</td><td>9</td><td>NA</td><td>1</td><td> TRUE</td><td>TRUE</td><td>15</td><td>0</td></tr>\n",
              "\t<tr><th scope=row>20946</th><td>NA</td><td>d5c8a81acfb94539956a0d87c37a233e21ec435f</td><td>NA</td><td>2</td><td>M</td><td>H</td><td>8</td><td>7</td><td>NA</td><td>1</td><td>FALSE</td><td>TRUE</td><td> 1</td><td>0</td></tr>\n",
              "</tbody>\n",
              "</table>\n"
            ],
            "text/markdown": "\nA data.frame: 6 × 14\n\n| <!--/--> | id_popyt &lt;int&gt; | id_jednostki &lt;chr&gt; | waga &lt;int&gt; | sek &lt;int&gt; | klasa_pr &lt;chr&gt; | sekc_pkd &lt;chr&gt; | woj &lt;fct&gt; | zawod_kod2 &lt;fct&gt; | wolne_miejsca &lt;int&gt; | id_cbop &lt;int&gt; | jedna_zmiana &lt;lgl&gt; | wymiar_40 &lt;lgl&gt; | wolne_miejsca_cbop &lt;int&gt; | wolne_miejsca_niepeln_cbop &lt;int&gt; |\n|---|---|---|---|---|---|---|---|---|---|---|---|---|---|---|\n| 20941 | NA | a6a20c0f40c36af79446a53cb1af98dac84ca2cf | NA | 2 | S | G | 8 | 8 | NA | 1 |  TRUE | TRUE |  2 | 1 |\n| 20942 | NA | a6a20c0f40c36af79446a53cb1af98dac84ca2cf | NA | 2 | S | G | 8 | 9 | NA | 1 |  TRUE | TRUE |  2 | 1 |\n| 20943 | NA | 5ab1d632da4eda181d7a454f71dd69e4433b6aa5 | NA | 2 | D | H | 8 | 9 | NA | 1 | FALSE | TRUE |  1 | 0 |\n| 20944 | NA | a108d5030e205dc1632b5b8b3eddb725821adfa5 | NA | 2 | S | I | 8 | 7 | NA | 1 |  TRUE | TRUE |  1 | 0 |\n| 20945 | NA | a108d5030e205dc1632b5b8b3eddb725821adfa5 | NA | 2 | S | I | 8 | 9 | NA | 1 |  TRUE | TRUE | 15 | 0 |\n| 20946 | NA | d5c8a81acfb94539956a0d87c37a233e21ec435f | NA | 2 | M | H | 8 | 7 | NA | 1 | FALSE | TRUE |  1 | 0 |\n\n",
            "text/latex": "A data.frame: 6 × 14\n\\begin{tabular}{r|llllllllllllll}\n  & id\\_popyt & id\\_jednostki & waga & sek & klasa\\_pr & sekc\\_pkd & woj & zawod\\_kod2 & wolne\\_miejsca & id\\_cbop & jedna\\_zmiana & wymiar\\_40 & wolne\\_miejsca\\_cbop & wolne\\_miejsca\\_niepeln\\_cbop\\\\\n  & <int> & <chr> & <int> & <int> & <chr> & <chr> & <fct> & <fct> & <int> & <int> & <lgl> & <lgl> & <int> & <int>\\\\\n\\hline\n\t20941 & NA & a6a20c0f40c36af79446a53cb1af98dac84ca2cf & NA & 2 & S & G & 8 & 8 & NA & 1 &  TRUE & TRUE &  2 & 1\\\\\n\t20942 & NA & a6a20c0f40c36af79446a53cb1af98dac84ca2cf & NA & 2 & S & G & 8 & 9 & NA & 1 &  TRUE & TRUE &  2 & 1\\\\\n\t20943 & NA & 5ab1d632da4eda181d7a454f71dd69e4433b6aa5 & NA & 2 & D & H & 8 & 9 & NA & 1 & FALSE & TRUE &  1 & 0\\\\\n\t20944 & NA & a108d5030e205dc1632b5b8b3eddb725821adfa5 & NA & 2 & S & I & 8 & 7 & NA & 1 &  TRUE & TRUE &  1 & 0\\\\\n\t20945 & NA & a108d5030e205dc1632b5b8b3eddb725821adfa5 & NA & 2 & S & I & 8 & 9 & NA & 1 &  TRUE & TRUE & 15 & 0\\\\\n\t20946 & NA & d5c8a81acfb94539956a0d87c37a233e21ec435f & NA & 2 & M & H & 8 & 7 & NA & 1 & FALSE & TRUE &  1 & 0\\\\\n\\end{tabular}\n",
            "text/plain": [
              "      id_popyt id_jednostki                             waga sek klasa_pr\n",
              "20941 NA       a6a20c0f40c36af79446a53cb1af98dac84ca2cf NA   2   S       \n",
              "20942 NA       a6a20c0f40c36af79446a53cb1af98dac84ca2cf NA   2   S       \n",
              "20943 NA       5ab1d632da4eda181d7a454f71dd69e4433b6aa5 NA   2   D       \n",
              "20944 NA       a108d5030e205dc1632b5b8b3eddb725821adfa5 NA   2   S       \n",
              "20945 NA       a108d5030e205dc1632b5b8b3eddb725821adfa5 NA   2   S       \n",
              "20946 NA       d5c8a81acfb94539956a0d87c37a233e21ec435f NA   2   M       \n",
              "      sekc_pkd woj zawod_kod2 wolne_miejsca id_cbop jedna_zmiana wymiar_40\n",
              "20941 G        8   8          NA            1        TRUE        TRUE     \n",
              "20942 G        8   9          NA            1        TRUE        TRUE     \n",
              "20943 H        8   9          NA            1       FALSE        TRUE     \n",
              "20944 I        8   7          NA            1        TRUE        TRUE     \n",
              "20945 I        8   9          NA            1        TRUE        TRUE     \n",
              "20946 H        8   7          NA            1       FALSE        TRUE     \n",
              "      wolne_miejsca_cbop wolne_miejsca_niepeln_cbop\n",
              "20941  2                 1                         \n",
              "20942  2                 1                         \n",
              "20943  1                 0                         \n",
              "20944  1                 0                         \n",
              "20945 15                 0                         \n",
              "20946  1                 0                         "
            ]
          },
          "metadata": {}
        }
      ]
    },
    {
      "cell_type": "markdown",
      "metadata": {
        "id": "H6jmccnXKL88"
      },
      "source": [
        "Na tę chwilę założymy, że zbiory są rozłączne!"
      ]
    },
    {
      "cell_type": "code",
      "metadata": {
        "id": "J252CgrOJbr-"
      },
      "source": [
        "proba_nielosowa <- dane %>% filter(is.na(id_popyt))\n",
        "proba_losowa <- dane %>% filter(!is.na(id_popyt))"
      ],
      "execution_count": 4,
      "outputs": []
    },
    {
      "cell_type": "markdown",
      "source": [
        "Regresja logistyczna wyjaśniająca zmienną `jedna_zmiana`"
      ],
      "metadata": {
        "id": "rfRnkMYduiiu"
      }
    },
    {
      "cell_type": "code",
      "metadata": {
        "colab": {
          "base_uri": "https://localhost:8080/",
          "height": 53
        },
        "id": "ivlxsTwSMOFV",
        "outputId": "55ff70c8-2519-4586-cea5-e1751347e98f"
      },
      "source": [
        "model_a <- glm(formula = jedna_zmiana ~ sek + klasa_pr + sekc_pkd + woj + zawod_kod2, \n",
        "               data = proba_nielosowa,\n",
        "               family = binomial(),\n",
        "               weights = proba_nielosowa$wolne_miejsca_cbop)\n",
        "\n",
        "y_hat_a <- fitted(model_a)\n",
        "y_hat_b <- predict(model_a, proba_losowa, type = \"response\")\n",
        "summary(y_hat_b)"
      ],
      "execution_count": 5,
      "outputs": [
        {
          "output_type": "display_data",
          "data": {
            "text/plain": [
              "   Min. 1st Qu.  Median    Mean 3rd Qu.    Max. \n",
              "0.04645 0.27988 0.49770 0.53685 0.81273 0.99871 "
            ]
          },
          "metadata": {}
        }
      ]
    },
    {
      "cell_type": "code",
      "metadata": {
        "colab": {
          "base_uri": "https://localhost:8080/"
        },
        "id": "CTrOYLNyNRDw",
        "outputId": "5b922510-318c-464b-d518-f181c1e54a34"
      },
      "source": [
        "naiwny <- weighted.mean(proba_nielosowa$jedna_zmiana, proba_nielosowa$wolne_miejsca_cbop)\n",
        "mi <- weighted.mean(y_hat_b, proba_losowa$waga*proba_losowa$wolne_miejsca)\n",
        "print(c(naiwny = naiwny, theta_mi = mi))"
      ],
      "execution_count": 7,
      "outputs": [
        {
          "output_type": "stream",
          "name": "stdout",
          "text": [
            "   naiwny  theta_mi \n",
            "0.5204615 0.6264032 \n"
          ]
        }
      ]
    }
  ]
}