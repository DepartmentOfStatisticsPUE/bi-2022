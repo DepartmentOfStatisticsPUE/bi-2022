{
  "nbformat": 4,
  "nbformat_minor": 0,
  "metadata": {
    "colab": {
      "name": "bi_2021_04_07.ipynb",
      "provenance": [],
      "collapsed_sections": [],
      "authorship_tag": "ABX9TyPQMRd8SnBLpxZDphlcN7/J",
      "include_colab_link": true
    },
    "kernelspec": {
      "name": "ir",
      "display_name": "R"
    },
    "language_info": {
      "name": "R"
    }
  },
  "cells": [
    {
      "cell_type": "markdown",
      "metadata": {
        "id": "view-in-github",
        "colab_type": "text"
      },
      "source": [
        "<a href=\"https://colab.research.google.com/github/DepartmentOfStatisticsPUE/bi-2021/blob/main/materialy-wyklady/bi_2021_04_07.ipynb\" target=\"_parent\"><img src=\"https://colab.research.google.com/assets/colab-badge.svg\" alt=\"Open In Colab\"/></a>"
      ]
    },
    {
      "cell_type": "markdown",
      "metadata": {
        "id": "CsZF_xU-KSSp"
      },
      "source": [
        "Pobieramy dane z github wykorzystując funkcję `download.file`"
      ]
    },
    {
      "cell_type": "code",
      "metadata": {
        "id": "T5rUCxMQH5ym"
      },
      "source": [
        "download.file(\"https://raw.githubusercontent.com/DepartmentOfStatisticsPUE/bi-2021/main/data/popyt-zajecia-dane.csv\",\n",
        "              \"popyt-dane.csv\")"
      ],
      "execution_count": 1,
      "outputs": []
    },
    {
      "cell_type": "markdown",
      "metadata": {
        "id": "PmaxZ5kOKfoz"
      },
      "source": [
        "Musimy dane wczytać do R"
      ]
    },
    {
      "cell_type": "code",
      "metadata": {
        "colab": {
          "base_uri": "https://localhost:8080/",
          "height": 295
        },
        "id": "PDV62ij6Khya",
        "outputId": "3c011cd7-0b2e-48dd-aebf-446ec1852d05"
      },
      "source": [
        "dane <- read.csv(\"popyt-dane.csv\", stringsAsFactors = FALSE)\n",
        "head(dane)"
      ],
      "execution_count": 2,
      "outputs": [
        {
          "output_type": "display_data",
          "data": {
            "text/plain": [
              "  id_popyt id_jednostki                             waga sek klasa_pr sekc_pkd\n",
              "1 1        a9cc990df6a99ab215a1bc13f51d4825c7d52d18 1    1   D        O       \n",
              "2 2        a9cc990df6a99ab215a1bc13f51d4825c7d52d18 1    1   D        O       \n",
              "3 3        c9dbaf50890165ebe810aa770de0e9df903dc35b 6    1   D        O       \n",
              "4 4        718e0bba42bcec6ed98f9690db6d26cb7b93c880 1    1   D        R.S     \n",
              "5 5        532a1879a692b9d7bbb7282ba757d028156ef341 1    1   D        R.S     \n",
              "6 6        0b6b623fa45e257284a3049d097af322841337e3 1    1   D        R.S     \n",
              "  woj zawod_kod2 wolne_miejsca id_cbop jedna_zmiana wymiar_40\n",
              "1 14  1          2             NA      NA           NA       \n",
              "2 14  2          7             NA      NA           NA       \n",
              "3 24  2          6             NA      NA           NA       \n",
              "4 14  2          7             NA      NA           NA       \n",
              "5 14  2          6             NA      NA           NA       \n",
              "6 22  2          1             NA      NA           NA       \n",
              "  wolne_miejsca_cbop wolne_miejsca_niepeln_cbop\n",
              "1 NA                 NA                        \n",
              "2 NA                 NA                        \n",
              "3 NA                 NA                        \n",
              "4 NA                 NA                        \n",
              "5 NA                 NA                        \n",
              "6 NA                 NA                        "
            ],
            "text/latex": "A data.frame: 6 × 14\n\\begin{tabular}{r|llllllllllllll}\n  & id\\_popyt & id\\_jednostki & waga & sek & klasa\\_pr & sekc\\_pkd & woj & zawod\\_kod2 & wolne\\_miejsca & id\\_cbop & jedna\\_zmiana & wymiar\\_40 & wolne\\_miejsca\\_cbop & wolne\\_miejsca\\_niepeln\\_cbop\\\\\n  & <int> & <chr> & <int> & <int> & <chr> & <chr> & <int> & <int> & <int> & <int> & <lgl> & <lgl> & <int> & <int>\\\\\n\\hline\n\t1 & 1 & a9cc990df6a99ab215a1bc13f51d4825c7d52d18 & 1 & 1 & D & O   & 14 & 1 & 2 & NA & NA & NA & NA & NA\\\\\n\t2 & 2 & a9cc990df6a99ab215a1bc13f51d4825c7d52d18 & 1 & 1 & D & O   & 14 & 2 & 7 & NA & NA & NA & NA & NA\\\\\n\t3 & 3 & c9dbaf50890165ebe810aa770de0e9df903dc35b & 6 & 1 & D & O   & 24 & 2 & 6 & NA & NA & NA & NA & NA\\\\\n\t4 & 4 & 718e0bba42bcec6ed98f9690db6d26cb7b93c880 & 1 & 1 & D & R.S & 14 & 2 & 7 & NA & NA & NA & NA & NA\\\\\n\t5 & 5 & 532a1879a692b9d7bbb7282ba757d028156ef341 & 1 & 1 & D & R.S & 14 & 2 & 6 & NA & NA & NA & NA & NA\\\\\n\t6 & 6 & 0b6b623fa45e257284a3049d097af322841337e3 & 1 & 1 & D & R.S & 22 & 2 & 1 & NA & NA & NA & NA & NA\\\\\n\\end{tabular}\n",
            "text/markdown": "\nA data.frame: 6 × 14\n\n| <!--/--> | id_popyt &lt;int&gt; | id_jednostki &lt;chr&gt; | waga &lt;int&gt; | sek &lt;int&gt; | klasa_pr &lt;chr&gt; | sekc_pkd &lt;chr&gt; | woj &lt;int&gt; | zawod_kod2 &lt;int&gt; | wolne_miejsca &lt;int&gt; | id_cbop &lt;int&gt; | jedna_zmiana &lt;lgl&gt; | wymiar_40 &lt;lgl&gt; | wolne_miejsca_cbop &lt;int&gt; | wolne_miejsca_niepeln_cbop &lt;int&gt; |\n|---|---|---|---|---|---|---|---|---|---|---|---|---|---|---|\n| 1 | 1 | a9cc990df6a99ab215a1bc13f51d4825c7d52d18 | 1 | 1 | D | O   | 14 | 1 | 2 | NA | NA | NA | NA | NA |\n| 2 | 2 | a9cc990df6a99ab215a1bc13f51d4825c7d52d18 | 1 | 1 | D | O   | 14 | 2 | 7 | NA | NA | NA | NA | NA |\n| 3 | 3 | c9dbaf50890165ebe810aa770de0e9df903dc35b | 6 | 1 | D | O   | 24 | 2 | 6 | NA | NA | NA | NA | NA |\n| 4 | 4 | 718e0bba42bcec6ed98f9690db6d26cb7b93c880 | 1 | 1 | D | R.S | 14 | 2 | 7 | NA | NA | NA | NA | NA |\n| 5 | 5 | 532a1879a692b9d7bbb7282ba757d028156ef341 | 1 | 1 | D | R.S | 14 | 2 | 6 | NA | NA | NA | NA | NA |\n| 6 | 6 | 0b6b623fa45e257284a3049d097af322841337e3 | 1 | 1 | D | R.S | 22 | 2 | 1 | NA | NA | NA | NA | NA |\n\n",
            "text/html": [
              "<table class=\"dataframe\">\n",
              "<caption>A data.frame: 6 × 14</caption>\n",
              "<thead>\n",
              "\t<tr><th></th><th scope=col>id_popyt</th><th scope=col>id_jednostki</th><th scope=col>waga</th><th scope=col>sek</th><th scope=col>klasa_pr</th><th scope=col>sekc_pkd</th><th scope=col>woj</th><th scope=col>zawod_kod2</th><th scope=col>wolne_miejsca</th><th scope=col>id_cbop</th><th scope=col>jedna_zmiana</th><th scope=col>wymiar_40</th><th scope=col>wolne_miejsca_cbop</th><th scope=col>wolne_miejsca_niepeln_cbop</th></tr>\n",
              "\t<tr><th></th><th scope=col>&lt;int&gt;</th><th scope=col>&lt;chr&gt;</th><th scope=col>&lt;int&gt;</th><th scope=col>&lt;int&gt;</th><th scope=col>&lt;chr&gt;</th><th scope=col>&lt;chr&gt;</th><th scope=col>&lt;int&gt;</th><th scope=col>&lt;int&gt;</th><th scope=col>&lt;int&gt;</th><th scope=col>&lt;int&gt;</th><th scope=col>&lt;lgl&gt;</th><th scope=col>&lt;lgl&gt;</th><th scope=col>&lt;int&gt;</th><th scope=col>&lt;int&gt;</th></tr>\n",
              "</thead>\n",
              "<tbody>\n",
              "\t<tr><th scope=row>1</th><td>1</td><td>a9cc990df6a99ab215a1bc13f51d4825c7d52d18</td><td>1</td><td>1</td><td>D</td><td>O  </td><td>14</td><td>1</td><td>2</td><td>NA</td><td>NA</td><td>NA</td><td>NA</td><td>NA</td></tr>\n",
              "\t<tr><th scope=row>2</th><td>2</td><td>a9cc990df6a99ab215a1bc13f51d4825c7d52d18</td><td>1</td><td>1</td><td>D</td><td>O  </td><td>14</td><td>2</td><td>7</td><td>NA</td><td>NA</td><td>NA</td><td>NA</td><td>NA</td></tr>\n",
              "\t<tr><th scope=row>3</th><td>3</td><td>c9dbaf50890165ebe810aa770de0e9df903dc35b</td><td>6</td><td>1</td><td>D</td><td>O  </td><td>24</td><td>2</td><td>6</td><td>NA</td><td>NA</td><td>NA</td><td>NA</td><td>NA</td></tr>\n",
              "\t<tr><th scope=row>4</th><td>4</td><td>718e0bba42bcec6ed98f9690db6d26cb7b93c880</td><td>1</td><td>1</td><td>D</td><td>R.S</td><td>14</td><td>2</td><td>7</td><td>NA</td><td>NA</td><td>NA</td><td>NA</td><td>NA</td></tr>\n",
              "\t<tr><th scope=row>5</th><td>5</td><td>532a1879a692b9d7bbb7282ba757d028156ef341</td><td>1</td><td>1</td><td>D</td><td>R.S</td><td>14</td><td>2</td><td>6</td><td>NA</td><td>NA</td><td>NA</td><td>NA</td><td>NA</td></tr>\n",
              "\t<tr><th scope=row>6</th><td>6</td><td>0b6b623fa45e257284a3049d097af322841337e3</td><td>1</td><td>1</td><td>D</td><td>R.S</td><td>22</td><td>2</td><td>1</td><td>NA</td><td>NA</td><td>NA</td><td>NA</td><td>NA</td></tr>\n",
              "</tbody>\n",
              "</table>\n"
            ]
          },
          "metadata": {
            "tags": []
          }
        }
      ]
    },
    {
      "cell_type": "markdown",
      "metadata": {
        "id": "OfL0pmoSLAUx"
      },
      "source": [
        "Załadujmy pakiet `tidyverse` do przetwarzania danych."
      ]
    },
    {
      "cell_type": "code",
      "metadata": {
        "id": "umv3GAO3LEld"
      },
      "source": [
        "library(tidyverse)"
      ],
      "execution_count": null,
      "outputs": []
    },
    {
      "cell_type": "markdown",
      "metadata": {
        "id": "ms_zSWZgLXxp"
      },
      "source": [
        "Porównamy sobie rozkłady liczby ofert pracy w popycie oraz CBOP według wielkości przedsiębiorstwa."
      ]
    },
    {
      "cell_type": "code",
      "metadata": {
        "id": "RrzXV0hvLjmy"
      },
      "source": [
        "dane %>%\n",
        "  ## wybieram dane z popytu\n",
        "  filter(!is.na(id_popyt)) %>%\n",
        "  ## wyliczam ile było wolnych miejsc pracy wykorzystując funkcję count i wagę\n",
        "  count(klasa_pr, wt = waga*wolne_miejsca) %>%\n",
        "  ## obliczam odsetek\n",
        "  mutate(odsetek = n / sum(n)*100,\n",
        "         zrodlo = \"popyt\") -> dane_wielk_popyt\n",
        "\n",
        "dane %>%\n",
        "  ## wybieram dane z CBOP\n",
        "  filter(!is.na(id_cbop)) %>%\n",
        "  ## obliczam ile było wolnych miejsc pracy\n",
        "  count(klasa_pr, wt = wolne_miejsca_cbop) %>%\n",
        "  ## obliczam odsetek\n",
        "  mutate(odsetek = n / sum(n)*100,\n",
        "         zrodlo = \"cbop\") -> dane_wielk_cbop"
      ],
      "execution_count": 9,
      "outputs": []
    },
    {
      "cell_type": "markdown",
      "metadata": {
        "id": "J3wO1Zd2QOPe"
      },
      "source": [
        "Porównuje odsetki między dwoma zbiorami danych"
      ]
    },
    {
      "cell_type": "code",
      "metadata": {
        "colab": {
          "base_uri": "https://localhost:8080/",
          "height": 185
        },
        "id": "uwSjR1rtMZjx",
        "outputId": "61862c67-12d6-4c28-9440-89821e898cd6"
      },
      "source": [
        "dane_wielk_popyt %>%\n",
        "  select(-n) %>% \n",
        "  bind_rows(dane_wielk_cbop %>% select(-n)) %>%\n",
        "  spread(zrodlo, odsetek)"
      ],
      "execution_count": 14,
      "outputs": [
        {
          "output_type": "display_data",
          "data": {
            "text/plain": [
              "  klasa_pr cbop     popyt   \n",
              "1 D        51.97230 31.98298\n",
              "2 M        23.79764 43.81333\n",
              "3 S        24.23007 24.20369"
            ],
            "text/latex": "A data.frame: 3 × 3\n\\begin{tabular}{lll}\n klasa\\_pr & cbop & popyt\\\\\n <chr> & <dbl> & <dbl>\\\\\n\\hline\n\t D & 51.97230 & 31.98298\\\\\n\t M & 23.79764 & 43.81333\\\\\n\t S & 24.23007 & 24.20369\\\\\n\\end{tabular}\n",
            "text/markdown": "\nA data.frame: 3 × 3\n\n| klasa_pr &lt;chr&gt; | cbop &lt;dbl&gt; | popyt &lt;dbl&gt; |\n|---|---|---|\n| D | 51.97230 | 31.98298 |\n| M | 23.79764 | 43.81333 |\n| S | 24.23007 | 24.20369 |\n\n",
            "text/html": [
              "<table class=\"dataframe\">\n",
              "<caption>A data.frame: 3 × 3</caption>\n",
              "<thead>\n",
              "\t<tr><th scope=col>klasa_pr</th><th scope=col>cbop</th><th scope=col>popyt</th></tr>\n",
              "\t<tr><th scope=col>&lt;chr&gt;</th><th scope=col>&lt;dbl&gt;</th><th scope=col>&lt;dbl&gt;</th></tr>\n",
              "</thead>\n",
              "<tbody>\n",
              "\t<tr><td>D</td><td>51.97230</td><td>31.98298</td></tr>\n",
              "\t<tr><td>M</td><td>23.79764</td><td>43.81333</td></tr>\n",
              "\t<tr><td>S</td><td>24.23007</td><td>24.20369</td></tr>\n",
              "</tbody>\n",
              "</table>\n"
            ]
          },
          "metadata": {
            "tags": []
          }
        }
      ]
    },
    {
      "cell_type": "markdown",
      "metadata": {
        "id": "sxUxi46PLPIw"
      },
      "source": [
        "Utwórzmy wartości globalne, które wykorzystamy do post-stratyfikacji. Na tę chwilę wykorzystamy wyłącznie informacje o wielkości podmiotu."
      ]
    },
    {
      "cell_type": "code",
      "metadata": {
        "colab": {
          "base_uri": "https://localhost:8080/",
          "height": 185
        },
        "id": "3_OCAbIENRhG",
        "outputId": "72948693-819d-4405-f0c9-5d052996df2b"
      },
      "source": [
        "dane_wielk_popyt %>%\n",
        "  select(klasa_pr, pop = n) -> wartosci_globalne\n",
        "\n",
        "wartosci_globalne"
      ],
      "execution_count": 18,
      "outputs": [
        {
          "output_type": "display_data",
          "data": {
            "text/plain": [
              "  klasa_pr pop   \n",
              "1 D         94124\n",
              "2 M        128940\n",
              "3 S         71230"
            ],
            "text/latex": "A data.frame: 3 × 2\n\\begin{tabular}{ll}\n klasa\\_pr & pop\\\\\n <chr> & <int>\\\\\n\\hline\n\t D &  94124\\\\\n\t M & 128940\\\\\n\t S &  71230\\\\\n\\end{tabular}\n",
            "text/markdown": "\nA data.frame: 3 × 2\n\n| klasa_pr &lt;chr&gt; | pop &lt;int&gt; |\n|---|---|\n| D |  94124 |\n| M | 128940 |\n| S |  71230 |\n\n",
            "text/html": [
              "<table class=\"dataframe\">\n",
              "<caption>A data.frame: 3 × 2</caption>\n",
              "<thead>\n",
              "\t<tr><th scope=col>klasa_pr</th><th scope=col>pop</th></tr>\n",
              "\t<tr><th scope=col>&lt;chr&gt;</th><th scope=col>&lt;int&gt;</th></tr>\n",
              "</thead>\n",
              "<tbody>\n",
              "\t<tr><td>D</td><td> 94124</td></tr>\n",
              "\t<tr><td>M</td><td>128940</td></tr>\n",
              "\t<tr><td>S</td><td> 71230</td></tr>\n",
              "</tbody>\n",
              "</table>\n"
            ]
          },
          "metadata": {
            "tags": []
          }
        }
      ]
    },
    {
      "cell_type": "markdown",
      "metadata": {
        "id": "lM4wTleFNlOo"
      },
      "source": [
        "Dodajemy do zbioru danych z centralnej bazy ofert pracy informacje o wartościach globalnych z popytu."
      ]
    },
    {
      "cell_type": "code",
      "metadata": {
        "colab": {
          "base_uri": "https://localhost:8080/",
          "height": 160
        },
        "id": "EYvXwicaNxNC",
        "outputId": "6f27ff79-4fb8-44a5-a18a-7a21062fd0c6"
      },
      "source": [
        "dane %>% \n",
        "  ## wybieram dane z cbop\n",
        "  filter(!is.na(id_cbop)) %>%\n",
        "  ## ograniczam do wybranych kolumn\n",
        "  select(id_cbop, klasa_pr, jedna_zmiana, wymiar_40, wolne_miejsca_cbop) -> zbior_cbop\n",
        "\n",
        "\n",
        "zbior_cbop %>%\n",
        "  ## tworzę podsumowanie według klasy wielkości\n",
        "  group_by(klasa_pr) %>%\n",
        "  ## obliczam średnie i liczebności w danym przekroju\n",
        "  summarise(zmiana = mean(jedna_zmiana),\n",
        "            n = sum(wolne_miejsca_cbop)) %>%\n",
        "  ## dodaje wartości globalne z popytu\n",
        "  left_join(wartosci_globalne) %>%\n",
        "  ## obliczam wagę post-stratyfikacyjną\n",
        "  mutate(waga = pop / n) %>%\n",
        "  ## wyliczam dwa estymatory\n",
        "  summarise(y_naive = weighted.mean(zmiana, n),\n",
        "            y_ps = weighted.mean(zmiana, waga))"
      ],
      "execution_count": 28,
      "outputs": [
        {
          "output_type": "stream",
          "text": [
            "Joining, by = \"klasa_pr\"\n",
            "\n"
          ],
          "name": "stderr"
        },
        {
          "output_type": "display_data",
          "data": {
            "text/plain": [
              "  y_naive   y_ps     \n",
              "1 0.6266626 0.7064367"
            ],
            "text/latex": "A tibble: 1 × 2\n\\begin{tabular}{ll}\n y\\_naive & y\\_ps\\\\\n <dbl> & <dbl>\\\\\n\\hline\n\t 0.6266626 & 0.7064367\\\\\n\\end{tabular}\n",
            "text/markdown": "\nA tibble: 1 × 2\n\n| y_naive &lt;dbl&gt; | y_ps &lt;dbl&gt; |\n|---|---|\n| 0.6266626 | 0.7064367 |\n\n",
            "text/html": [
              "<table class=\"dataframe\">\n",
              "<caption>A tibble: 1 × 2</caption>\n",
              "<thead>\n",
              "\t<tr><th scope=col>y_naive</th><th scope=col>y_ps</th></tr>\n",
              "\t<tr><th scope=col>&lt;dbl&gt;</th><th scope=col>&lt;dbl&gt;</th></tr>\n",
              "</thead>\n",
              "<tbody>\n",
              "\t<tr><td>0.6266626</td><td>0.7064367</td></tr>\n",
              "</tbody>\n",
              "</table>\n"
            ]
          },
          "metadata": {
            "tags": []
          }
        }
      ]
    },
    {
      "cell_type": "markdown",
      "metadata": {
        "id": "CEY5ErYOQx3e"
      },
      "source": [
        "Komentarz do uzyskanych wyników:\n",
        "\n",
        "\n",
        "1.   Estymator naiwny (`y_naive`) obliczony wyłącznie na podstawie danych z CBOP informuje, że 63% podmiotów miało wakaty, które są na na jedną zmianę.\n",
        "2.   Estymator post-stratyfikcyjny (`y_ps`) obliczony na danych z CBOP ale uwzględniajac różnicę w rozkłdach ze względu na wielkość firmy informuje, że (prawdopodobinie) odsetek ten w populacji jest wyższy i wynosci 71%.\n",
        "\n",
        "Jeżeli widzą Państwo różnicę w wartościach miedzy `y_naive`, a `y_ps` to oznacza, że zmienna wykorzystana do post-stratyfikacji działa (bo różnicuje populację). Można to sprawdzić licząc wcześniej współczynnik korelacji V-Cramer'a na podstawie statystyki $\\chi^2$.\n",
        "\n"
      ]
    }
  ]
}