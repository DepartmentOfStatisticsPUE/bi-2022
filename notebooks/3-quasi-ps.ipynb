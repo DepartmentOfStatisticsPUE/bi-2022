{
  "nbformat": 4,
  "nbformat_minor": 0,
  "metadata": {
    "colab": {
      "name": "3-quasi-ps.ipynb",
      "provenance": [],
      "collapsed_sections": [],
      "authorship_tag": "ABX9TyMEIIPoWRXhwyfEUrj24sDi",
      "include_colab_link": true
    },
    "kernelspec": {
      "name": "ir",
      "display_name": "R"
    },
    "language_info": {
      "name": "R"
    }
  },
  "cells": [
    {
      "cell_type": "markdown",
      "metadata": {
        "id": "view-in-github",
        "colab_type": "text"
      },
      "source": [
        "<a href=\"https://colab.research.google.com/github/DepartmentOfStatisticsPUE/bi-2022/blob/main/bi-2022/notebooks/3-quasi-ps.ipynb\" target=\"_parent\"><img src=\"https://colab.research.google.com/assets/colab-badge.svg\" alt=\"Open In Colab\"/></a>"
      ]
    },
    {
      "cell_type": "markdown",
      "metadata": {
        "id": "bPo2M5_Y5vKU"
      },
      "source": [
        "# Przygotowanie danych i pakietów"
      ]
    },
    {
      "cell_type": "markdown",
      "metadata": {
        "id": "vUdNwn2EzfMw"
      },
      "source": [
        "Pobieramy dane z github wykorzystując funkcję `download.file`"
      ]
    },
    {
      "cell_type": "code",
      "metadata": {
        "id": "wog9Y9GAzW2b"
      },
      "source": [
        "download.file(\"https://raw.githubusercontent.com/DepartmentOfStatisticsPUE/bi-2021/main/data/popyt-zajecia-dane.csv\",\n",
        "              \"popyt-dane.csv\")"
      ],
      "execution_count": 4,
      "outputs": []
    },
    {
      "cell_type": "markdown",
      "metadata": {
        "id": "iYnh5rlCzg40"
      },
      "source": [
        "Dziś na zajęciach skorzystamy z pakietu `tidyverse`, `vcd` (korelacje dla cech jakościowych) oraz wbudowanych w R funkcji (`glm`, `optim`)."
      ]
    },
    {
      "cell_type": "code",
      "metadata": {
        "colab": {
          "base_uri": "https://localhost:8080/"
        },
        "id": "VIBu_WZFzuck",
        "outputId": "01b17334-a9c8-459b-dccc-a9d661dcc644"
      },
      "source": [
        "install.packages(\"vcd\")"
      ],
      "execution_count": 2,
      "outputs": [
        {
          "output_type": "stream",
          "text": [
            "Installing package into ‘/usr/local/lib/R/site-library’\n",
            "(as ‘lib’ is unspecified)\n",
            "\n",
            "also installing the dependencies ‘zoo’, ‘lmtest’\n",
            "\n",
            "\n"
          ],
          "name": "stderr"
        }
      ]
    },
    {
      "cell_type": "markdown",
      "metadata": {
        "id": "GQvjkzXuzw02"
      },
      "source": [
        "Ładujemy potrzebne pakiety"
      ]
    },
    {
      "cell_type": "code",
      "metadata": {
        "id": "nVzicvwKzyPw"
      },
      "source": [
        "library(tidyverse)\n",
        "library(vcd)"
      ],
      "execution_count": 5,
      "outputs": []
    },
    {
      "cell_type": "markdown",
      "metadata": {
        "id": "kRK9fYJsz4HO"
      },
      "source": [
        "Wczytujemy dane"
      ]
    },
    {
      "cell_type": "code",
      "metadata": {
        "colab": {
          "base_uri": "https://localhost:8080/",
          "height": 295
        },
        "id": "yGiYrTB7z6HF",
        "outputId": "90963d45-efaa-457f-cd6c-6582d5c8f05f"
      },
      "source": [
        "dane <- read.csv(\"popyt-dane.csv\", stringsAsFactors = FALSE)\n",
        "head(dane)"
      ],
      "execution_count": 6,
      "outputs": [
        {
          "output_type": "display_data",
          "data": {
            "text/plain": [
              "  id_popyt id_jednostki                             waga sek klasa_pr sekc_pkd\n",
              "1 1        a9cc990df6a99ab215a1bc13f51d4825c7d52d18 1    1   D        O       \n",
              "2 2        a9cc990df6a99ab215a1bc13f51d4825c7d52d18 1    1   D        O       \n",
              "3 3        c9dbaf50890165ebe810aa770de0e9df903dc35b 6    1   D        O       \n",
              "4 4        718e0bba42bcec6ed98f9690db6d26cb7b93c880 1    1   D        R.S     \n",
              "5 5        532a1879a692b9d7bbb7282ba757d028156ef341 1    1   D        R.S     \n",
              "6 6        0b6b623fa45e257284a3049d097af322841337e3 1    1   D        R.S     \n",
              "  woj zawod_kod2 wolne_miejsca id_cbop jedna_zmiana wymiar_40\n",
              "1 14  1          2             NA      NA           NA       \n",
              "2 14  2          7             NA      NA           NA       \n",
              "3 24  2          6             NA      NA           NA       \n",
              "4 14  2          7             NA      NA           NA       \n",
              "5 14  2          6             NA      NA           NA       \n",
              "6 22  2          1             NA      NA           NA       \n",
              "  wolne_miejsca_cbop wolne_miejsca_niepeln_cbop\n",
              "1 NA                 NA                        \n",
              "2 NA                 NA                        \n",
              "3 NA                 NA                        \n",
              "4 NA                 NA                        \n",
              "5 NA                 NA                        \n",
              "6 NA                 NA                        "
            ],
            "text/latex": "A data.frame: 6 × 14\n\\begin{tabular}{r|llllllllllllll}\n  & id\\_popyt & id\\_jednostki & waga & sek & klasa\\_pr & sekc\\_pkd & woj & zawod\\_kod2 & wolne\\_miejsca & id\\_cbop & jedna\\_zmiana & wymiar\\_40 & wolne\\_miejsca\\_cbop & wolne\\_miejsca\\_niepeln\\_cbop\\\\\n  & <int> & <chr> & <int> & <int> & <chr> & <chr> & <int> & <int> & <int> & <int> & <lgl> & <lgl> & <int> & <int>\\\\\n\\hline\n\t1 & 1 & a9cc990df6a99ab215a1bc13f51d4825c7d52d18 & 1 & 1 & D & O   & 14 & 1 & 2 & NA & NA & NA & NA & NA\\\\\n\t2 & 2 & a9cc990df6a99ab215a1bc13f51d4825c7d52d18 & 1 & 1 & D & O   & 14 & 2 & 7 & NA & NA & NA & NA & NA\\\\\n\t3 & 3 & c9dbaf50890165ebe810aa770de0e9df903dc35b & 6 & 1 & D & O   & 24 & 2 & 6 & NA & NA & NA & NA & NA\\\\\n\t4 & 4 & 718e0bba42bcec6ed98f9690db6d26cb7b93c880 & 1 & 1 & D & R.S & 14 & 2 & 7 & NA & NA & NA & NA & NA\\\\\n\t5 & 5 & 532a1879a692b9d7bbb7282ba757d028156ef341 & 1 & 1 & D & R.S & 14 & 2 & 6 & NA & NA & NA & NA & NA\\\\\n\t6 & 6 & 0b6b623fa45e257284a3049d097af322841337e3 & 1 & 1 & D & R.S & 22 & 2 & 1 & NA & NA & NA & NA & NA\\\\\n\\end{tabular}\n",
            "text/markdown": "\nA data.frame: 6 × 14\n\n| <!--/--> | id_popyt &lt;int&gt; | id_jednostki &lt;chr&gt; | waga &lt;int&gt; | sek &lt;int&gt; | klasa_pr &lt;chr&gt; | sekc_pkd &lt;chr&gt; | woj &lt;int&gt; | zawod_kod2 &lt;int&gt; | wolne_miejsca &lt;int&gt; | id_cbop &lt;int&gt; | jedna_zmiana &lt;lgl&gt; | wymiar_40 &lt;lgl&gt; | wolne_miejsca_cbop &lt;int&gt; | wolne_miejsca_niepeln_cbop &lt;int&gt; |\n|---|---|---|---|---|---|---|---|---|---|---|---|---|---|---|\n| 1 | 1 | a9cc990df6a99ab215a1bc13f51d4825c7d52d18 | 1 | 1 | D | O   | 14 | 1 | 2 | NA | NA | NA | NA | NA |\n| 2 | 2 | a9cc990df6a99ab215a1bc13f51d4825c7d52d18 | 1 | 1 | D | O   | 14 | 2 | 7 | NA | NA | NA | NA | NA |\n| 3 | 3 | c9dbaf50890165ebe810aa770de0e9df903dc35b | 6 | 1 | D | O   | 24 | 2 | 6 | NA | NA | NA | NA | NA |\n| 4 | 4 | 718e0bba42bcec6ed98f9690db6d26cb7b93c880 | 1 | 1 | D | R.S | 14 | 2 | 7 | NA | NA | NA | NA | NA |\n| 5 | 5 | 532a1879a692b9d7bbb7282ba757d028156ef341 | 1 | 1 | D | R.S | 14 | 2 | 6 | NA | NA | NA | NA | NA |\n| 6 | 6 | 0b6b623fa45e257284a3049d097af322841337e3 | 1 | 1 | D | R.S | 22 | 2 | 1 | NA | NA | NA | NA | NA |\n\n",
            "text/html": [
              "<table class=\"dataframe\">\n",
              "<caption>A data.frame: 6 × 14</caption>\n",
              "<thead>\n",
              "\t<tr><th></th><th scope=col>id_popyt</th><th scope=col>id_jednostki</th><th scope=col>waga</th><th scope=col>sek</th><th scope=col>klasa_pr</th><th scope=col>sekc_pkd</th><th scope=col>woj</th><th scope=col>zawod_kod2</th><th scope=col>wolne_miejsca</th><th scope=col>id_cbop</th><th scope=col>jedna_zmiana</th><th scope=col>wymiar_40</th><th scope=col>wolne_miejsca_cbop</th><th scope=col>wolne_miejsca_niepeln_cbop</th></tr>\n",
              "\t<tr><th></th><th scope=col>&lt;int&gt;</th><th scope=col>&lt;chr&gt;</th><th scope=col>&lt;int&gt;</th><th scope=col>&lt;int&gt;</th><th scope=col>&lt;chr&gt;</th><th scope=col>&lt;chr&gt;</th><th scope=col>&lt;int&gt;</th><th scope=col>&lt;int&gt;</th><th scope=col>&lt;int&gt;</th><th scope=col>&lt;int&gt;</th><th scope=col>&lt;lgl&gt;</th><th scope=col>&lt;lgl&gt;</th><th scope=col>&lt;int&gt;</th><th scope=col>&lt;int&gt;</th></tr>\n",
              "</thead>\n",
              "<tbody>\n",
              "\t<tr><th scope=row>1</th><td>1</td><td>a9cc990df6a99ab215a1bc13f51d4825c7d52d18</td><td>1</td><td>1</td><td>D</td><td>O  </td><td>14</td><td>1</td><td>2</td><td>NA</td><td>NA</td><td>NA</td><td>NA</td><td>NA</td></tr>\n",
              "\t<tr><th scope=row>2</th><td>2</td><td>a9cc990df6a99ab215a1bc13f51d4825c7d52d18</td><td>1</td><td>1</td><td>D</td><td>O  </td><td>14</td><td>2</td><td>7</td><td>NA</td><td>NA</td><td>NA</td><td>NA</td><td>NA</td></tr>\n",
              "\t<tr><th scope=row>3</th><td>3</td><td>c9dbaf50890165ebe810aa770de0e9df903dc35b</td><td>6</td><td>1</td><td>D</td><td>O  </td><td>24</td><td>2</td><td>6</td><td>NA</td><td>NA</td><td>NA</td><td>NA</td><td>NA</td></tr>\n",
              "\t<tr><th scope=row>4</th><td>4</td><td>718e0bba42bcec6ed98f9690db6d26cb7b93c880</td><td>1</td><td>1</td><td>D</td><td>R.S</td><td>14</td><td>2</td><td>7</td><td>NA</td><td>NA</td><td>NA</td><td>NA</td><td>NA</td></tr>\n",
              "\t<tr><th scope=row>5</th><td>5</td><td>532a1879a692b9d7bbb7282ba757d028156ef341</td><td>1</td><td>1</td><td>D</td><td>R.S</td><td>14</td><td>2</td><td>6</td><td>NA</td><td>NA</td><td>NA</td><td>NA</td><td>NA</td></tr>\n",
              "\t<tr><th scope=row>6</th><td>6</td><td>0b6b623fa45e257284a3049d097af322841337e3</td><td>1</td><td>1</td><td>D</td><td>R.S</td><td>22</td><td>2</td><td>1</td><td>NA</td><td>NA</td><td>NA</td><td>NA</td><td>NA</td></tr>\n",
              "</tbody>\n",
              "</table>\n"
            ]
          },
          "metadata": {
            "tags": []
          }
        }
      ]
    },
    {
      "cell_type": "markdown",
      "metadata": {
        "id": "Yjfm8a4L5zSN"
      },
      "source": [
        "# Przygotowujemy dane do estymacji \n",
        "\n",
        "Na zajęciach wykorzystamy podejście opisane w pracy:\n",
        "\n",
        "+ Kim, J. K., \\& Wang, Z. (2019). **Sampling techniques for big data analysis**. *International Statistical Review*, 87, S177-S191\n",
        "\n",
        "Uwaga, w próbie mamy dwie populacje: \n",
        "\n",
        "+ **podmioty gospodarcze**, które opisują zmienne: `sek`, `klasa_pr`, `sekc_pkd`, `woj`\n",
        "+ **wolne miejsca pracy**, które opisuje zmienna: `zawod_kod2`\n",
        "\n",
        "Naszym celem jest estymacja odsetka wolnych miejsc pracy, w których pracodawcy poszukują osób na jedną zmianę (`jedna_zmiana`) \n",
        "\n",
        "\n",
        "Aby tego dokonać podejmujemy następujące kroki:\n",
        "\n",
        "\n",
        "1. wydzielimy próbę losową,\n",
        "2. zidentyfikujemy, te jednostki i oferty, które znajdowały się w zbiorze CBOP,\n",
        "3. sprawdzimy korelacje dla zmiennych jakościowych (`V Cramera)`,\n",
        "4. obliczamy propensity score ($\\rho_i$),\n",
        "5. wydzielamy próbę nielosową i przypisujemy $\\hat{\\rho}_i$ z modelu z punktu 4,\n",
        "6. estymujemy intersującą nas charakterystykę (odsetek ofert na jedną zmianę).\n",
        "\n",
        "\n"
      ]
    },
    {
      "cell_type": "markdown",
      "metadata": {
        "id": "ROg0uV4eCBP1"
      },
      "source": [
        "## Krok 1 i 2 -- wydzielamy próbę losową i identyfikujemy jednostki"
      ]
    },
    {
      "cell_type": "markdown",
      "metadata": {
        "id": "FtlHxrSZ1QQX"
      },
      "source": [
        "Próba losowa"
      ]
    },
    {
      "cell_type": "code",
      "metadata": {
        "colab": {
          "base_uri": "https://localhost:8080/",
          "height": 415
        },
        "id": "uYHCv8NH1RN4",
        "outputId": "26e23e2f-3e5d-455f-8ec2-3c3abd32cf35"
      },
      "source": [
        "proba_los <- dane %>% \n",
        "  filter(!is.na(id_popyt)) %>%\n",
        "  select(id_popyt, id_cbop, id_jednostki, waga:wolne_miejsca) %>%\n",
        "  mutate(R = !is.na(id_cbop),\n",
        "         waga_miejsca = waga*wolne_miejsca,\n",
        "         waga_miejsca_scaled = waga_miejsca/mean(waga_miejsca)) %>%\n",
        "  mutate_at(vars(sek, woj, zawod_kod2), as.factor)\n",
        "\n",
        "head(proba_los, n = 10)"
      ],
      "execution_count": 9,
      "outputs": [
        {
          "output_type": "display_data",
          "data": {
            "text/plain": [
              "   id_popyt id_cbop id_jednostki                             waga sek klasa_pr\n",
              "1   1       NA      a9cc990df6a99ab215a1bc13f51d4825c7d52d18 1    1   D       \n",
              "2   2       NA      a9cc990df6a99ab215a1bc13f51d4825c7d52d18 1    1   D       \n",
              "3   3       NA      c9dbaf50890165ebe810aa770de0e9df903dc35b 6    1   D       \n",
              "4   4       NA      718e0bba42bcec6ed98f9690db6d26cb7b93c880 1    1   D       \n",
              "5   5       NA      532a1879a692b9d7bbb7282ba757d028156ef341 1    1   D       \n",
              "6   6       NA      0b6b623fa45e257284a3049d097af322841337e3 1    1   D       \n",
              "7   7       NA      c855a825e80866c00c7513721d5fcb38929f3cd6 1    1   S       \n",
              "8   8       NA      98861ee6b125b54b82dd6b27a86b85c13446b2ea 1    1   D       \n",
              "9   9       NA      98861ee6b125b54b82dd6b27a86b85c13446b2ea 1    1   D       \n",
              "10 10       NA      c8031e4e01ecee538c8c0685a0c90c759d7de62a 1    1   S       \n",
              "   sekc_pkd woj zawod_kod2 wolne_miejsca R     waga_miejsca waga_miejsca_scaled\n",
              "1  O        14  1          2             FALSE  2           0.06778256         \n",
              "2  O        14  2          7             FALSE  7           0.23723895         \n",
              "3  O        24  2          6             FALSE 36           1.22008604         \n",
              "4  R.S      14  2          7             FALSE  7           0.23723895         \n",
              "5  R.S      14  2          6             FALSE  6           0.20334767         \n",
              "6  R.S      22  2          1             FALSE  1           0.03389128         \n",
              "7  R.S      26  4          3             FALSE  3           0.10167384         \n",
              "8  R.S      12  2          5             FALSE  5           0.16945639         \n",
              "9  R.S      12  4          4             FALSE  4           0.13556512         \n",
              "10 R.S      18  2          3             FALSE  3           0.10167384         "
            ],
            "text/latex": "A data.frame: 10 × 13\n\\begin{tabular}{r|lllllllllllll}\n  & id\\_popyt & id\\_cbop & id\\_jednostki & waga & sek & klasa\\_pr & sekc\\_pkd & woj & zawod\\_kod2 & wolne\\_miejsca & R & waga\\_miejsca & waga\\_miejsca\\_scaled\\\\\n  & <int> & <int> & <chr> & <int> & <fct> & <chr> & <chr> & <fct> & <fct> & <int> & <lgl> & <int> & <dbl>\\\\\n\\hline\n\t1 &  1 & NA & a9cc990df6a99ab215a1bc13f51d4825c7d52d18 & 1 & 1 & D & O   & 14 & 1 & 2 & FALSE &  2 & 0.06778256\\\\\n\t2 &  2 & NA & a9cc990df6a99ab215a1bc13f51d4825c7d52d18 & 1 & 1 & D & O   & 14 & 2 & 7 & FALSE &  7 & 0.23723895\\\\\n\t3 &  3 & NA & c9dbaf50890165ebe810aa770de0e9df903dc35b & 6 & 1 & D & O   & 24 & 2 & 6 & FALSE & 36 & 1.22008604\\\\\n\t4 &  4 & NA & 718e0bba42bcec6ed98f9690db6d26cb7b93c880 & 1 & 1 & D & R.S & 14 & 2 & 7 & FALSE &  7 & 0.23723895\\\\\n\t5 &  5 & NA & 532a1879a692b9d7bbb7282ba757d028156ef341 & 1 & 1 & D & R.S & 14 & 2 & 6 & FALSE &  6 & 0.20334767\\\\\n\t6 &  6 & NA & 0b6b623fa45e257284a3049d097af322841337e3 & 1 & 1 & D & R.S & 22 & 2 & 1 & FALSE &  1 & 0.03389128\\\\\n\t7 &  7 & NA & c855a825e80866c00c7513721d5fcb38929f3cd6 & 1 & 1 & S & R.S & 26 & 4 & 3 & FALSE &  3 & 0.10167384\\\\\n\t8 &  8 & NA & 98861ee6b125b54b82dd6b27a86b85c13446b2ea & 1 & 1 & D & R.S & 12 & 2 & 5 & FALSE &  5 & 0.16945639\\\\\n\t9 &  9 & NA & 98861ee6b125b54b82dd6b27a86b85c13446b2ea & 1 & 1 & D & R.S & 12 & 4 & 4 & FALSE &  4 & 0.13556512\\\\\n\t10 & 10 & NA & c8031e4e01ecee538c8c0685a0c90c759d7de62a & 1 & 1 & S & R.S & 18 & 2 & 3 & FALSE &  3 & 0.10167384\\\\\n\\end{tabular}\n",
            "text/markdown": "\nA data.frame: 10 × 13\n\n| <!--/--> | id_popyt &lt;int&gt; | id_cbop &lt;int&gt; | id_jednostki &lt;chr&gt; | waga &lt;int&gt; | sek &lt;fct&gt; | klasa_pr &lt;chr&gt; | sekc_pkd &lt;chr&gt; | woj &lt;fct&gt; | zawod_kod2 &lt;fct&gt; | wolne_miejsca &lt;int&gt; | R &lt;lgl&gt; | waga_miejsca &lt;int&gt; | waga_miejsca_scaled &lt;dbl&gt; |\n|---|---|---|---|---|---|---|---|---|---|---|---|---|---|\n| 1 |  1 | NA | a9cc990df6a99ab215a1bc13f51d4825c7d52d18 | 1 | 1 | D | O   | 14 | 1 | 2 | FALSE |  2 | 0.06778256 |\n| 2 |  2 | NA | a9cc990df6a99ab215a1bc13f51d4825c7d52d18 | 1 | 1 | D | O   | 14 | 2 | 7 | FALSE |  7 | 0.23723895 |\n| 3 |  3 | NA | c9dbaf50890165ebe810aa770de0e9df903dc35b | 6 | 1 | D | O   | 24 | 2 | 6 | FALSE | 36 | 1.22008604 |\n| 4 |  4 | NA | 718e0bba42bcec6ed98f9690db6d26cb7b93c880 | 1 | 1 | D | R.S | 14 | 2 | 7 | FALSE |  7 | 0.23723895 |\n| 5 |  5 | NA | 532a1879a692b9d7bbb7282ba757d028156ef341 | 1 | 1 | D | R.S | 14 | 2 | 6 | FALSE |  6 | 0.20334767 |\n| 6 |  6 | NA | 0b6b623fa45e257284a3049d097af322841337e3 | 1 | 1 | D | R.S | 22 | 2 | 1 | FALSE |  1 | 0.03389128 |\n| 7 |  7 | NA | c855a825e80866c00c7513721d5fcb38929f3cd6 | 1 | 1 | S | R.S | 26 | 4 | 3 | FALSE |  3 | 0.10167384 |\n| 8 |  8 | NA | 98861ee6b125b54b82dd6b27a86b85c13446b2ea | 1 | 1 | D | R.S | 12 | 2 | 5 | FALSE |  5 | 0.16945639 |\n| 9 |  9 | NA | 98861ee6b125b54b82dd6b27a86b85c13446b2ea | 1 | 1 | D | R.S | 12 | 4 | 4 | FALSE |  4 | 0.13556512 |\n| 10 | 10 | NA | c8031e4e01ecee538c8c0685a0c90c759d7de62a | 1 | 1 | S | R.S | 18 | 2 | 3 | FALSE |  3 | 0.10167384 |\n\n",
            "text/html": [
              "<table class=\"dataframe\">\n",
              "<caption>A data.frame: 10 × 13</caption>\n",
              "<thead>\n",
              "\t<tr><th></th><th scope=col>id_popyt</th><th scope=col>id_cbop</th><th scope=col>id_jednostki</th><th scope=col>waga</th><th scope=col>sek</th><th scope=col>klasa_pr</th><th scope=col>sekc_pkd</th><th scope=col>woj</th><th scope=col>zawod_kod2</th><th scope=col>wolne_miejsca</th><th scope=col>R</th><th scope=col>waga_miejsca</th><th scope=col>waga_miejsca_scaled</th></tr>\n",
              "\t<tr><th></th><th scope=col>&lt;int&gt;</th><th scope=col>&lt;int&gt;</th><th scope=col>&lt;chr&gt;</th><th scope=col>&lt;int&gt;</th><th scope=col>&lt;fct&gt;</th><th scope=col>&lt;chr&gt;</th><th scope=col>&lt;chr&gt;</th><th scope=col>&lt;fct&gt;</th><th scope=col>&lt;fct&gt;</th><th scope=col>&lt;int&gt;</th><th scope=col>&lt;lgl&gt;</th><th scope=col>&lt;int&gt;</th><th scope=col>&lt;dbl&gt;</th></tr>\n",
              "</thead>\n",
              "<tbody>\n",
              "\t<tr><th scope=row>1</th><td> 1</td><td>NA</td><td>a9cc990df6a99ab215a1bc13f51d4825c7d52d18</td><td>1</td><td>1</td><td>D</td><td>O  </td><td>14</td><td>1</td><td>2</td><td>FALSE</td><td> 2</td><td>0.06778256</td></tr>\n",
              "\t<tr><th scope=row>2</th><td> 2</td><td>NA</td><td>a9cc990df6a99ab215a1bc13f51d4825c7d52d18</td><td>1</td><td>1</td><td>D</td><td>O  </td><td>14</td><td>2</td><td>7</td><td>FALSE</td><td> 7</td><td>0.23723895</td></tr>\n",
              "\t<tr><th scope=row>3</th><td> 3</td><td>NA</td><td>c9dbaf50890165ebe810aa770de0e9df903dc35b</td><td>6</td><td>1</td><td>D</td><td>O  </td><td>24</td><td>2</td><td>6</td><td>FALSE</td><td>36</td><td>1.22008604</td></tr>\n",
              "\t<tr><th scope=row>4</th><td> 4</td><td>NA</td><td>718e0bba42bcec6ed98f9690db6d26cb7b93c880</td><td>1</td><td>1</td><td>D</td><td>R.S</td><td>14</td><td>2</td><td>7</td><td>FALSE</td><td> 7</td><td>0.23723895</td></tr>\n",
              "\t<tr><th scope=row>5</th><td> 5</td><td>NA</td><td>532a1879a692b9d7bbb7282ba757d028156ef341</td><td>1</td><td>1</td><td>D</td><td>R.S</td><td>14</td><td>2</td><td>6</td><td>FALSE</td><td> 6</td><td>0.20334767</td></tr>\n",
              "\t<tr><th scope=row>6</th><td> 6</td><td>NA</td><td>0b6b623fa45e257284a3049d097af322841337e3</td><td>1</td><td>1</td><td>D</td><td>R.S</td><td>22</td><td>2</td><td>1</td><td>FALSE</td><td> 1</td><td>0.03389128</td></tr>\n",
              "\t<tr><th scope=row>7</th><td> 7</td><td>NA</td><td>c855a825e80866c00c7513721d5fcb38929f3cd6</td><td>1</td><td>1</td><td>S</td><td>R.S</td><td>26</td><td>4</td><td>3</td><td>FALSE</td><td> 3</td><td>0.10167384</td></tr>\n",
              "\t<tr><th scope=row>8</th><td> 8</td><td>NA</td><td>98861ee6b125b54b82dd6b27a86b85c13446b2ea</td><td>1</td><td>1</td><td>D</td><td>R.S</td><td>12</td><td>2</td><td>5</td><td>FALSE</td><td> 5</td><td>0.16945639</td></tr>\n",
              "\t<tr><th scope=row>9</th><td> 9</td><td>NA</td><td>98861ee6b125b54b82dd6b27a86b85c13446b2ea</td><td>1</td><td>1</td><td>D</td><td>R.S</td><td>12</td><td>4</td><td>4</td><td>FALSE</td><td> 4</td><td>0.13556512</td></tr>\n",
              "\t<tr><th scope=row>10</th><td>10</td><td>NA</td><td>c8031e4e01ecee538c8c0685a0c90c759d7de62a</td><td>1</td><td>1</td><td>S</td><td>R.S</td><td>18</td><td>2</td><td>3</td><td>FALSE</td><td> 3</td><td>0.10167384</td></tr>\n",
              "</tbody>\n",
              "</table>\n"
            ]
          },
          "metadata": {
            "tags": []
          }
        }
      ]
    },
    {
      "cell_type": "markdown",
      "metadata": {
        "id": "xOMaDVyRCECm"
      },
      "source": [
        "Ile podmiotów z próby popytu było w CBOP? (bez przeważania)"
      ]
    },
    {
      "cell_type": "code",
      "metadata": {
        "colab": {
          "base_uri": "https://localhost:8080/",
          "height": 173
        },
        "id": "P_FfpSPeCPe2",
        "outputId": "b820dff9-ea56-4cd7-83ce-ec56a8bd7d2f"
      },
      "source": [
        "proba_los %>% distinct(R, id_jednostki) %>% count(R)"
      ],
      "execution_count": 10,
      "outputs": [
        {
          "output_type": "display_data",
          "data": {
            "text/plain": [
              "  R     n   \n",
              "1 FALSE 6290\n",
              "2  TRUE  430"
            ],
            "text/latex": "A data.frame: 2 × 2\n\\begin{tabular}{ll}\n R & n\\\\\n <lgl> & <int>\\\\\n\\hline\n\t FALSE & 6290\\\\\n\t  TRUE &  430\\\\\n\\end{tabular}\n",
            "text/markdown": "\nA data.frame: 2 × 2\n\n| R &lt;lgl&gt; | n &lt;int&gt; |\n|---|---|\n| FALSE | 6290 |\n|  TRUE |  430 |\n\n",
            "text/html": [
              "<table class=\"dataframe\">\n",
              "<caption>A data.frame: 2 × 2</caption>\n",
              "<thead>\n",
              "\t<tr><th scope=col>R</th><th scope=col>n</th></tr>\n",
              "\t<tr><th scope=col>&lt;lgl&gt;</th><th scope=col>&lt;int&gt;</th></tr>\n",
              "</thead>\n",
              "<tbody>\n",
              "\t<tr><td>FALSE</td><td>6290</td></tr>\n",
              "\t<tr><td> TRUE</td><td> 430</td></tr>\n",
              "</tbody>\n",
              "</table>\n"
            ]
          },
          "metadata": {
            "tags": []
          }
        }
      ]
    },
    {
      "cell_type": "markdown",
      "metadata": {
        "id": "KPcw0_Z_CZDe"
      },
      "source": [
        "A ile wolnych miejsc pracy? Uwzględniamy wagę"
      ]
    },
    {
      "cell_type": "code",
      "metadata": {
        "colab": {
          "base_uri": "https://localhost:8080/",
          "height": 155
        },
        "id": "OSEdyIPs1iA7",
        "outputId": "71eaff4d-06a6-415a-d02f-11e944dbcc68"
      },
      "source": [
        "proba_los %>% count(R, wt = waga_miejsca) %>% mutate(p = n/sum(n)*100)"
      ],
      "execution_count": 12,
      "outputs": [
        {
          "output_type": "display_data",
          "data": {
            "text/plain": [
              "  R     n      p        \n",
              "1 FALSE 283219 96.236756\n",
              "2  TRUE  11075  3.763244"
            ],
            "text/latex": "A data.frame: 2 × 3\n\\begin{tabular}{lll}\n R & n & p\\\\\n <lgl> & <int> & <dbl>\\\\\n\\hline\n\t FALSE & 283219 & 96.236756\\\\\n\t  TRUE &  11075 &  3.763244\\\\\n\\end{tabular}\n",
            "text/markdown": "\nA data.frame: 2 × 3\n\n| R &lt;lgl&gt; | n &lt;int&gt; | p &lt;dbl&gt; |\n|---|---|---|\n| FALSE | 283219 | 96.236756 |\n|  TRUE |  11075 |  3.763244 |\n\n",
            "text/html": [
              "<table class=\"dataframe\">\n",
              "<caption>A data.frame: 2 × 3</caption>\n",
              "<thead>\n",
              "\t<tr><th scope=col>R</th><th scope=col>n</th><th scope=col>p</th></tr>\n",
              "\t<tr><th scope=col>&lt;lgl&gt;</th><th scope=col>&lt;int&gt;</th><th scope=col>&lt;dbl&gt;</th></tr>\n",
              "</thead>\n",
              "<tbody>\n",
              "\t<tr><td>FALSE</td><td>283219</td><td>96.236756</td></tr>\n",
              "\t<tr><td> TRUE</td><td> 11075</td><td> 3.763244</td></tr>\n",
              "</tbody>\n",
              "</table>\n"
            ]
          },
          "metadata": {
            "tags": []
          }
        }
      ]
    },
    {
      "cell_type": "markdown",
      "metadata": {
        "id": "7S1ArYYTCjxG"
      },
      "source": [
        "## Krok 3 -- korelacje"
      ]
    },
    {
      "cell_type": "markdown",
      "metadata": {
        "id": "isGMLYmf2CPB"
      },
      "source": [
        "Jakie zmienne są skorelowane z obserwacją w zbiorze CBOP? Kolejne kody sprawdzają: sektor, kod zawodu, kasę wielkosci czy województwo."
      ]
    },
    {
      "cell_type": "code",
      "metadata": {
        "colab": {
          "base_uri": "https://localhost:8080/",
          "height": 138
        },
        "id": "zVe3RX7D2BpS",
        "outputId": "216b2854-3fd0-4c15-bd2a-205e06890a11"
      },
      "source": [
        "tab_sek <- xtabs(waga_miejsca ~ R + sek, data = proba_los)\n",
        "tab_sek_res <- assocstats(tab_sek)\n",
        "tab_sek_res"
      ],
      "execution_count": 13,
      "outputs": [
        {
          "output_type": "display_data",
          "data": {
            "text/plain": [
              "                    X^2 df   P(> X^2)\n",
              "Likelihood Ratio 25.387  1 4.6897e-07\n",
              "Pearson          26.352  1 2.8457e-07\n",
              "\n",
              "Phi-Coefficient   : 0.009 \n",
              "Contingency Coeff.: 0.009 \n",
              "Cramer's V        : 0.009 "
            ]
          },
          "metadata": {
            "tags": []
          }
        }
      ]
    },
    {
      "cell_type": "code",
      "metadata": {
        "colab": {
          "base_uri": "https://localhost:8080/",
          "height": 138
        },
        "id": "MLjm0jT42VtJ",
        "outputId": "8362e41a-aadc-4b4c-ec27-db6979f45580"
      },
      "source": [
        "tab_zawod <- xtabs(waga_miejsca ~ R + zawod_kod2, data = proba_los)\n",
        "tab_zawod_res <- assocstats(tab_zawod)\n",
        "tab_zawod_res"
      ],
      "execution_count": 14,
      "outputs": [
        {
          "output_type": "display_data",
          "data": {
            "text/plain": [
              "                    X^2 df P(> X^2)\n",
              "Likelihood Ratio 2064.8  7        0\n",
              "Pearson          2012.0  7        0\n",
              "\n",
              "Phi-Coefficient   : NA \n",
              "Contingency Coeff.: 0.082 \n",
              "Cramer's V        : 0.083 "
            ]
          },
          "metadata": {
            "tags": []
          }
        }
      ]
    },
    {
      "cell_type": "code",
      "metadata": {
        "colab": {
          "base_uri": "https://localhost:8080/",
          "height": 138
        },
        "id": "fW5pCE7A2Y8N",
        "outputId": "086dece3-346d-4da2-f491-a13056ba6975"
      },
      "source": [
        "tab_wielk <- xtabs(waga_miejsca ~ R + klasa_pr, data = proba_los)\n",
        "tab_wielk_res <- assocstats(tab_wielk)\n",
        "tab_wielk_res"
      ],
      "execution_count": 15,
      "outputs": [
        {
          "output_type": "display_data",
          "data": {
            "text/plain": [
              "                    X^2 df P(> X^2)\n",
              "Likelihood Ratio 3361.2  2        0\n",
              "Pearson          3540.8  2        0\n",
              "\n",
              "Phi-Coefficient   : NA \n",
              "Contingency Coeff.: 0.109 \n",
              "Cramer's V        : 0.11 "
            ]
          },
          "metadata": {
            "tags": []
          }
        }
      ]
    },
    {
      "cell_type": "code",
      "metadata": {
        "colab": {
          "base_uri": "https://localhost:8080/",
          "height": 138
        },
        "id": "-g4P1ufMCsMv",
        "outputId": "ffc6dccc-af78-4dbc-f176-9849d1cf37bd"
      },
      "source": [
        "tab_woj <- xtabs(waga_miejsca ~ R + woj, data = proba_los)\n",
        "tab_woj_res <- assocstats(tab_woj)\n",
        "tab_woj_res"
      ],
      "execution_count": 16,
      "outputs": [
        {
          "output_type": "display_data",
          "data": {
            "text/plain": [
              "                     X^2 df P(> X^2)\n",
              "Likelihood Ratio  5885.6 15        0\n",
              "Pearson          10544.4 15        0\n",
              "\n",
              "Phi-Coefficient   : NA \n",
              "Contingency Coeff.: 0.186 \n",
              "Cramer's V        : 0.189 "
            ]
          },
          "metadata": {
            "tags": []
          }
        }
      ]
    },
    {
      "cell_type": "code",
      "metadata": {
        "colab": {
          "base_uri": "https://localhost:8080/",
          "height": 138
        },
        "id": "hMrlNNcSDYLl",
        "outputId": "1d14e72a-07ff-45ab-e335-4f2e50e3b973"
      },
      "source": [
        "tab_pkd <- xtabs(waga_miejsca ~ R + sekc_pkd, data = proba_los)\n",
        "tab_pkd_res <- assocstats(tab_pkd)\n",
        "tab_pkd_res"
      ],
      "execution_count": 17,
      "outputs": [
        {
          "output_type": "display_data",
          "data": {
            "text/plain": [
              "                    X^2 df P(> X^2)\n",
              "Likelihood Ratio 3213.2 13        0\n",
              "Pearson          2953.7 13        0\n",
              "\n",
              "Phi-Coefficient   : NA \n",
              "Contingency Coeff.: 0.1 \n",
              "Cramer's V        : 0.1 "
            ]
          },
          "metadata": {
            "tags": []
          }
        }
      ]
    },
    {
      "cell_type": "markdown",
      "metadata": {
        "id": "fX4g5ILiCvRP"
      },
      "source": [
        "Podsumowanie obliczeń. Jaki wniosek?"
      ]
    },
    {
      "cell_type": "code",
      "metadata": {
        "colab": {
          "base_uri": "https://localhost:8080/"
        },
        "id": "7Bj6NwUuCwzi",
        "outputId": "e833456c-5f02-4863-c9bf-e9d2fe2d1cd5"
      },
      "source": [
        "print(\n",
        "  round(c(\"sek\" = tab_sek_res$cramer,  \"zawod\" = tab_zawod_res$cramer, \"wielk\" = tab_wielk_res$cramer,\n",
        "          \"woj\" = tab_woj_res$cramer, \"pkd\" = tab_pkd_res$cramer),4)\n",
        ")"
      ],
      "execution_count": 18,
      "outputs": [
        {
          "output_type": "stream",
          "text": [
            "   sek  zawod  wielk    woj    pkd \n",
            "0.0095 0.0827 0.1097 0.1893 0.1002 \n"
          ],
          "name": "stdout"
        }
      ]
    },
    {
      "cell_type": "markdown",
      "metadata": {
        "id": "FesV8BMRDplK"
      },
      "source": [
        "## Krok 4 -- model\n",
        "\n",
        "Estymujemy $\\rho$ stosując funkcję logistyczną (logit i probit) wykorzystując funkcję `glm` oraz 4 zmienne: województwo (`woj`), wielkość (`klasa_pr`), zawód (`zawod_kod2`) oraz sekcję PKD (`sekc_pkd`)."
      ]
    },
    {
      "cell_type": "code",
      "metadata": {
        "colab": {
          "base_uri": "https://localhost:8080/"
        },
        "id": "TzW_V9yNEEti",
        "outputId": "d2d5d22c-78f3-449a-ae4f-f54fb4a23c19"
      },
      "source": [
        "model1 <- glm(formula = R ~ woj + klasa_pr + zawod_kod2 + sekc_pkd, \n",
        "              data = proba_los,\n",
        "              family = binomial(link = \"logit\"),\n",
        "              weights = waga_miejsca_scaled)\n",
        "\n",
        "model2 <- glm(formula = R ~ woj + klasa_pr + zawod_kod2 + sekc_pkd, \n",
        "              data = proba_los,\n",
        "              family = binomial(link = \"probit\"),\n",
        "              weights = waga_miejsca_scaled)"
      ],
      "execution_count": 19,
      "outputs": [
        {
          "output_type": "stream",
          "text": [
            "Warning message in eval(family$initialize):\n",
            "“non-integer #successes in a binomial glm!”\n",
            "Warning message in eval(family$initialize):\n",
            "“non-integer #successes in a binomial glm!”\n"
          ],
          "name": "stderr"
        }
      ]
    },
    {
      "cell_type": "markdown",
      "metadata": {
        "id": "phzp6kUQIJy1"
      },
      "source": [
        "Przyjrzyjmy się modelowi 1 "
      ]
    },
    {
      "cell_type": "code",
      "metadata": {
        "colab": {
          "base_uri": "https://localhost:8080/",
          "height": 1000
        },
        "id": "vbtkaPBPIM1v",
        "outputId": "4e214bff-7101-41a1-9ab5-6b99cc1d2932"
      },
      "source": [
        "summary(model1)"
      ],
      "execution_count": 21,
      "outputs": [
        {
          "output_type": "display_data",
          "data": {
            "text/plain": [
              "\n",
              "Call:\n",
              "glm(formula = R ~ woj + klasa_pr + zawod_kod2 + sekc_pkd, family = binomial(link = \"logit\"), \n",
              "    data = proba_los, weights = waga_miejsca_scaled)\n",
              "\n",
              "Deviance Residuals: \n",
              "    Min       1Q   Median       3Q      Max  \n",
              "-3.3942  -0.2124  -0.1251  -0.0679  10.6730  \n",
              "\n",
              "Coefficients:\n",
              "            Estimate Std. Error z value Pr(>|z|)    \n",
              "(Intercept) -4.72374    0.73791  -6.402 1.54e-10 ***\n",
              "woj4         0.35943    0.35741   1.006 0.314577    \n",
              "woj6        -0.53974    0.37066  -1.456 0.145349    \n",
              "woj8        -0.37752    0.54601  -0.691 0.489296    \n",
              "woj10       -0.69099    0.38266  -1.806 0.070952 .  \n",
              "woj12       -0.33871    0.30792  -1.100 0.271331    \n",
              "woj14        0.16821    0.23840   0.706 0.480448    \n",
              "woj16        0.48120    0.44615   1.079 0.280781    \n",
              "woj18        2.57420    0.26568   9.689  < 2e-16 ***\n",
              "woj20        0.62053    0.43664   1.421 0.155276    \n",
              "woj22       -0.11870    0.31258  -0.380 0.704121    \n",
              "woj24        0.32566    0.25610   1.272 0.203520    \n",
              "woj26       -0.22511    0.52468  -0.429 0.667890    \n",
              "woj28        1.55292    0.28855   5.382 7.38e-08 ***\n",
              "woj30       -0.86360    0.33059  -2.612 0.008994 ** \n",
              "woj32       -0.14764    0.38564  -0.383 0.701841    \n",
              "klasa_prM   -1.44458    0.14053 -10.279  < 2e-16 ***\n",
              "klasa_prS   -1.81267    0.18469  -9.815  < 2e-16 ***\n",
              "zawod_kod22  0.97066    0.73718   1.317 0.187932    \n",
              "zawod_kod23  1.52385    0.74413   2.048 0.040575 *  \n",
              "zawod_kod24  1.66363    0.73065   2.277 0.022791 *  \n",
              "zawod_kod25  2.33964    0.71940   3.252 0.001145 ** \n",
              "zawod_kod27  2.12646    0.71863   2.959 0.003086 ** \n",
              "zawod_kod28  2.03956    0.72079   2.830 0.004660 ** \n",
              "zawod_kod29  2.56508    0.72372   3.544 0.000394 ***\n",
              "sekc_pkdD.E  0.26706    0.44566   0.599 0.549009    \n",
              "sekc_pkdF   -0.81597    0.28113  -2.902 0.003702 ** \n",
              "sekc_pkdG    0.46036    0.18490   2.490 0.012785 *  \n",
              "sekc_pkdH   -0.34867    0.28649  -1.217 0.223585    \n",
              "sekc_pkdI    1.14349    0.24749   4.620 3.83e-06 ***\n",
              "sekc_pkdJ   -1.68643    0.86275  -1.955 0.050617 .  \n",
              "sekc_pkdK.L  0.73953    0.33095   2.235 0.025443 *  \n",
              "sekc_pkdM    0.46699    0.31300   1.492 0.135709    \n",
              "sekc_pkdN   -0.02911    0.32080  -0.091 0.927699    \n",
              "sekc_pkdO   -0.89678    0.45652  -1.964 0.049487 *  \n",
              "sekc_pkdP   -0.22328    0.52524  -0.425 0.670759    \n",
              "sekc_pkdQ    0.45645    0.30430   1.500 0.133612    \n",
              "sekc_pkdR.S  0.61836    0.35087   1.762 0.078007 .  \n",
              "---\n",
              "Signif. codes:  0 ‘***’ 0.001 ‘**’ 0.01 ‘*’ 0.05 ‘.’ 0.1 ‘ ’ 1\n",
              "\n",
              "(Dispersion parameter for binomial family taken to be 1)\n",
              "\n",
              "    Null deviance: 3198.6  on 9973  degrees of freedom\n",
              "Residual deviance: 2677.0  on 9936  degrees of freedom\n",
              "AIC: 2243.1\n",
              "\n",
              "Number of Fisher Scoring iterations: 8\n"
            ]
          },
          "metadata": {
            "tags": []
          }
        }
      ]
    },
    {
      "cell_type": "markdown",
      "metadata": {
        "id": "WYSOwOvtIcgK"
      },
      "source": [
        "Zobaczymy teraz rozkład $\\hat{\\rho}_i$"
      ]
    },
    {
      "cell_type": "code",
      "metadata": {
        "colab": {
          "base_uri": "https://localhost:8080/",
          "height": 437
        },
        "id": "G3Wk3swxFmVV",
        "outputId": "27dfa4c0-9b2b-4842-db6e-cf424c7cb89a"
      },
      "source": [
        "hist(x = fitted(model1), xlab = \"rho (model1)\", breaks = \"fd\", main = \"Rozkład rho (model1)\")"
      ],
      "execution_count": 22,
      "outputs": [
        {
          "output_type": "display_data",
          "data": {
            "image/png": "[encoded data removed]",
            "text/plain": [
              "Plot with title “Rozkład rho (model1)”"
            ]
          },
          "metadata": {
            "tags": [],
            "image/png": {
              "width": 420,
              "height": 420
            }
          }
        }
      ]
    },
    {
      "cell_type": "markdown",
      "metadata": {
        "id": "bT8yHiYfF6zG"
      },
      "source": [
        "## Krok 5 -- próba nielosowa i dopisanie $\\hat{\\rho}_i$"
      ]
    },
    {
      "cell_type": "code",
      "metadata": {
        "colab": {
          "base_uri": "https://localhost:8080/",
          "height": 275
        },
        "id": "1WaMEm9DF6kr",
        "outputId": "a00ccb61-fca6-4a11-8b14-a115b64c240c"
      },
      "source": [
        "proba_nielos <- dane %>% \n",
        "  filter(is.na(id_popyt)) %>%\n",
        "  select(id_popyt, id_cbop, id_jednostki, sek:zawod_kod2, wolne_miejsca_cbop, jedna_zmiana) %>%\n",
        "  mutate_at(vars(sek, woj, zawod_kod2), as.factor)\n",
        "\n",
        "head(proba_nielos)"
      ],
      "execution_count": 23,
      "outputs": [
        {
          "output_type": "display_data",
          "data": {
            "text/plain": [
              "  id_popyt id_cbop id_jednostki                             sek klasa_pr\n",
              "1 NA       1       03950533c4990dd3e6b80312d98d7bf7877d6cdc 1   D       \n",
              "2 NA       1       fc1e0932170f7ec7da987a060bfb7ab01a928b3f 1   D       \n",
              "3 NA       1       ec812df7c443d9681645795c35687241418466ea 1   D       \n",
              "4 NA       1       ec812df7c443d9681645795c35687241418466ea 1   D       \n",
              "5 NA       1       f59016808a975f0f45ab571899d50d4931cebaeb 1   D       \n",
              "6 NA       1       76f26af4360f38e53850ea0628131fd7a8c51a82 1   D       \n",
              "  sekc_pkd woj zawod_kod2 wolne_miejsca_cbop jedna_zmiana\n",
              "1 P        22  2          1                   TRUE       \n",
              "2 P        14  9          2                   TRUE       \n",
              "3 P        12  5          3                  FALSE       \n",
              "4 P        12  9          4                   TRUE       \n",
              "5 P        24  2          2                   TRUE       \n",
              "6 P        4   2          1                   TRUE       "
            ],
            "text/latex": "A data.frame: 6 × 10\n\\begin{tabular}{r|llllllllll}\n  & id\\_popyt & id\\_cbop & id\\_jednostki & sek & klasa\\_pr & sekc\\_pkd & woj & zawod\\_kod2 & wolne\\_miejsca\\_cbop & jedna\\_zmiana\\\\\n  & <int> & <int> & <chr> & <fct> & <chr> & <chr> & <fct> & <fct> & <int> & <lgl>\\\\\n\\hline\n\t1 & NA & 1 & 03950533c4990dd3e6b80312d98d7bf7877d6cdc & 1 & D & P & 22 & 2 & 1 &  TRUE\\\\\n\t2 & NA & 1 & fc1e0932170f7ec7da987a060bfb7ab01a928b3f & 1 & D & P & 14 & 9 & 2 &  TRUE\\\\\n\t3 & NA & 1 & ec812df7c443d9681645795c35687241418466ea & 1 & D & P & 12 & 5 & 3 & FALSE\\\\\n\t4 & NA & 1 & ec812df7c443d9681645795c35687241418466ea & 1 & D & P & 12 & 9 & 4 &  TRUE\\\\\n\t5 & NA & 1 & f59016808a975f0f45ab571899d50d4931cebaeb & 1 & D & P & 24 & 2 & 2 &  TRUE\\\\\n\t6 & NA & 1 & 76f26af4360f38e53850ea0628131fd7a8c51a82 & 1 & D & P & 4  & 2 & 1 &  TRUE\\\\\n\\end{tabular}\n",
            "text/markdown": "\nA data.frame: 6 × 10\n\n| <!--/--> | id_popyt &lt;int&gt; | id_cbop &lt;int&gt; | id_jednostki &lt;chr&gt; | sek &lt;fct&gt; | klasa_pr &lt;chr&gt; | sekc_pkd &lt;chr&gt; | woj &lt;fct&gt; | zawod_kod2 &lt;fct&gt; | wolne_miejsca_cbop &lt;int&gt; | jedna_zmiana &lt;lgl&gt; |\n|---|---|---|---|---|---|---|---|---|---|---|\n| 1 | NA | 1 | 03950533c4990dd3e6b80312d98d7bf7877d6cdc | 1 | D | P | 22 | 2 | 1 |  TRUE |\n| 2 | NA | 1 | fc1e0932170f7ec7da987a060bfb7ab01a928b3f | 1 | D | P | 14 | 9 | 2 |  TRUE |\n| 3 | NA | 1 | ec812df7c443d9681645795c35687241418466ea | 1 | D | P | 12 | 5 | 3 | FALSE |\n| 4 | NA | 1 | ec812df7c443d9681645795c35687241418466ea | 1 | D | P | 12 | 9 | 4 |  TRUE |\n| 5 | NA | 1 | f59016808a975f0f45ab571899d50d4931cebaeb | 1 | D | P | 24 | 2 | 2 |  TRUE |\n| 6 | NA | 1 | 76f26af4360f38e53850ea0628131fd7a8c51a82 | 1 | D | P | 4  | 2 | 1 |  TRUE |\n\n",
            "text/html": [
              "<table class=\"dataframe\">\n",
              "<caption>A data.frame: 6 × 10</caption>\n",
              "<thead>\n",
              "\t<tr><th></th><th scope=col>id_popyt</th><th scope=col>id_cbop</th><th scope=col>id_jednostki</th><th scope=col>sek</th><th scope=col>klasa_pr</th><th scope=col>sekc_pkd</th><th scope=col>woj</th><th scope=col>zawod_kod2</th><th scope=col>wolne_miejsca_cbop</th><th scope=col>jedna_zmiana</th></tr>\n",
              "\t<tr><th></th><th scope=col>&lt;int&gt;</th><th scope=col>&lt;int&gt;</th><th scope=col>&lt;chr&gt;</th><th scope=col>&lt;fct&gt;</th><th scope=col>&lt;chr&gt;</th><th scope=col>&lt;chr&gt;</th><th scope=col>&lt;fct&gt;</th><th scope=col>&lt;fct&gt;</th><th scope=col>&lt;int&gt;</th><th scope=col>&lt;lgl&gt;</th></tr>\n",
              "</thead>\n",
              "<tbody>\n",
              "\t<tr><th scope=row>1</th><td>NA</td><td>1</td><td>03950533c4990dd3e6b80312d98d7bf7877d6cdc</td><td>1</td><td>D</td><td>P</td><td>22</td><td>2</td><td>1</td><td> TRUE</td></tr>\n",
              "\t<tr><th scope=row>2</th><td>NA</td><td>1</td><td>fc1e0932170f7ec7da987a060bfb7ab01a928b3f</td><td>1</td><td>D</td><td>P</td><td>14</td><td>9</td><td>2</td><td> TRUE</td></tr>\n",
              "\t<tr><th scope=row>3</th><td>NA</td><td>1</td><td>ec812df7c443d9681645795c35687241418466ea</td><td>1</td><td>D</td><td>P</td><td>12</td><td>5</td><td>3</td><td>FALSE</td></tr>\n",
              "\t<tr><th scope=row>4</th><td>NA</td><td>1</td><td>ec812df7c443d9681645795c35687241418466ea</td><td>1</td><td>D</td><td>P</td><td>12</td><td>9</td><td>4</td><td> TRUE</td></tr>\n",
              "\t<tr><th scope=row>5</th><td>NA</td><td>1</td><td>f59016808a975f0f45ab571899d50d4931cebaeb</td><td>1</td><td>D</td><td>P</td><td>24</td><td>2</td><td>2</td><td> TRUE</td></tr>\n",
              "\t<tr><th scope=row>6</th><td>NA</td><td>1</td><td>76f26af4360f38e53850ea0628131fd7a8c51a82</td><td>1</td><td>D</td><td>P</td><td>4 </td><td>2</td><td>1</td><td> TRUE</td></tr>\n",
              "</tbody>\n",
              "</table>\n"
            ]
          },
          "metadata": {
            "tags": []
          }
        }
      ]
    },
    {
      "cell_type": "markdown",
      "metadata": {
        "id": "sU2DqNReGNHz"
      },
      "source": [
        "Aby przypisać $\\hat{\\rho}_i$ z danego modelu należy wykorzystać funkcję `predict` podająć argumenty:\n",
        "\n",
        "+ `object` -- wskazujemy `model1` lub `model2`,\n",
        "+ `newdata` -- wskazujemy zbiór danych,\n",
        "+ `type = \"response\"` -- wskazujemy, że chcemy dostać prawdopodobieństwa. \n",
        "\n",
        "Następnie tworzymy odpowiednie wagi `w1` i `w2` na podstawie `rho1` i `rho2`."
      ]
    },
    {
      "cell_type": "code",
      "metadata": {
        "colab": {
          "base_uri": "https://localhost:8080/",
          "height": 295
        },
        "id": "dCP5_J4lGM3a",
        "outputId": "1175e26e-1b4a-4711-fa2d-1b02de9c7693"
      },
      "source": [
        "proba_nielos <- proba_nielos %>%\n",
        "      mutate(rho1 = predict(model1, proba_nielos, type = \"response\"),\n",
        "             rho2 = predict(model2, proba_nielos, type = \"response\"),\n",
        "             w1 = 1/rho1,\n",
        "             w2 = 1/rho2)\n",
        "\n",
        "head(proba_nielos)"
      ],
      "execution_count": 24,
      "outputs": [
        {
          "output_type": "display_data",
          "data": {
            "text/plain": [
              "  id_popyt id_cbop id_jednostki                             sek klasa_pr\n",
              "1 NA       1       03950533c4990dd3e6b80312d98d7bf7877d6cdc 1   D       \n",
              "2 NA       1       fc1e0932170f7ec7da987a060bfb7ab01a928b3f 1   D       \n",
              "3 NA       1       ec812df7c443d9681645795c35687241418466ea 1   D       \n",
              "4 NA       1       ec812df7c443d9681645795c35687241418466ea 1   D       \n",
              "5 NA       1       f59016808a975f0f45ab571899d50d4931cebaeb 1   D       \n",
              "6 NA       1       76f26af4360f38e53850ea0628131fd7a8c51a82 1   D       \n",
              "  sekc_pkd woj zawod_kod2 wolne_miejsca_cbop jedna_zmiana rho1       rho2      \n",
              "1 P        22  2          1                   TRUE        0.01638184 0.02006381\n",
              "2 P        14  9          2                   TRUE        0.09852425 0.10523109\n",
              "3 P        12  5          3                  FALSE        0.04992116 0.05915892\n",
              "4 P        12  9          4                   TRUE        0.06176530 0.07366137\n",
              "5 P        24  2          2                   TRUE        0.02531540 0.03077294\n",
              "6 P        4   2          1                   TRUE        0.02616224 0.03027070\n",
              "  w1       w2       \n",
              "1 61.04321 49.840990\n",
              "2 10.14979  9.502895\n",
              "3 20.03159 16.903621\n",
              "4 16.19032 13.575637\n",
              "5 39.50164 32.496079\n",
              "6 38.22303 33.035240"
            ],
            "text/latex": "A data.frame: 6 × 14\n\\begin{tabular}{r|llllllllllllll}\n  & id\\_popyt & id\\_cbop & id\\_jednostki & sek & klasa\\_pr & sekc\\_pkd & woj & zawod\\_kod2 & wolne\\_miejsca\\_cbop & jedna\\_zmiana & rho1 & rho2 & w1 & w2\\\\\n  & <int> & <int> & <chr> & <fct> & <chr> & <chr> & <fct> & <fct> & <int> & <lgl> & <dbl> & <dbl> & <dbl> & <dbl>\\\\\n\\hline\n\t1 & NA & 1 & 03950533c4990dd3e6b80312d98d7bf7877d6cdc & 1 & D & P & 22 & 2 & 1 &  TRUE & 0.01638184 & 0.02006381 & 61.04321 & 49.840990\\\\\n\t2 & NA & 1 & fc1e0932170f7ec7da987a060bfb7ab01a928b3f & 1 & D & P & 14 & 9 & 2 &  TRUE & 0.09852425 & 0.10523109 & 10.14979 &  9.502895\\\\\n\t3 & NA & 1 & ec812df7c443d9681645795c35687241418466ea & 1 & D & P & 12 & 5 & 3 & FALSE & 0.04992116 & 0.05915892 & 20.03159 & 16.903621\\\\\n\t4 & NA & 1 & ec812df7c443d9681645795c35687241418466ea & 1 & D & P & 12 & 9 & 4 &  TRUE & 0.06176530 & 0.07366137 & 16.19032 & 13.575637\\\\\n\t5 & NA & 1 & f59016808a975f0f45ab571899d50d4931cebaeb & 1 & D & P & 24 & 2 & 2 &  TRUE & 0.02531540 & 0.03077294 & 39.50164 & 32.496079\\\\\n\t6 & NA & 1 & 76f26af4360f38e53850ea0628131fd7a8c51a82 & 1 & D & P & 4  & 2 & 1 &  TRUE & 0.02616224 & 0.03027070 & 38.22303 & 33.035240\\\\\n\\end{tabular}\n",
            "text/markdown": "\nA data.frame: 6 × 14\n\n| <!--/--> | id_popyt &lt;int&gt; | id_cbop &lt;int&gt; | id_jednostki &lt;chr&gt; | sek &lt;fct&gt; | klasa_pr &lt;chr&gt; | sekc_pkd &lt;chr&gt; | woj &lt;fct&gt; | zawod_kod2 &lt;fct&gt; | wolne_miejsca_cbop &lt;int&gt; | jedna_zmiana &lt;lgl&gt; | rho1 &lt;dbl&gt; | rho2 &lt;dbl&gt; | w1 &lt;dbl&gt; | w2 &lt;dbl&gt; |\n|---|---|---|---|---|---|---|---|---|---|---|---|---|---|---|\n| 1 | NA | 1 | 03950533c4990dd3e6b80312d98d7bf7877d6cdc | 1 | D | P | 22 | 2 | 1 |  TRUE | 0.01638184 | 0.02006381 | 61.04321 | 49.840990 |\n| 2 | NA | 1 | fc1e0932170f7ec7da987a060bfb7ab01a928b3f | 1 | D | P | 14 | 9 | 2 |  TRUE | 0.09852425 | 0.10523109 | 10.14979 |  9.502895 |\n| 3 | NA | 1 | ec812df7c443d9681645795c35687241418466ea | 1 | D | P | 12 | 5 | 3 | FALSE | 0.04992116 | 0.05915892 | 20.03159 | 16.903621 |\n| 4 | NA | 1 | ec812df7c443d9681645795c35687241418466ea | 1 | D | P | 12 | 9 | 4 |  TRUE | 0.06176530 | 0.07366137 | 16.19032 | 13.575637 |\n| 5 | NA | 1 | f59016808a975f0f45ab571899d50d4931cebaeb | 1 | D | P | 24 | 2 | 2 |  TRUE | 0.02531540 | 0.03077294 | 39.50164 | 32.496079 |\n| 6 | NA | 1 | 76f26af4360f38e53850ea0628131fd7a8c51a82 | 1 | D | P | 4  | 2 | 1 |  TRUE | 0.02616224 | 0.03027070 | 38.22303 | 33.035240 |\n\n",
            "text/html": [
              "<table class=\"dataframe\">\n",
              "<caption>A data.frame: 6 × 14</caption>\n",
              "<thead>\n",
              "\t<tr><th></th><th scope=col>id_popyt</th><th scope=col>id_cbop</th><th scope=col>id_jednostki</th><th scope=col>sek</th><th scope=col>klasa_pr</th><th scope=col>sekc_pkd</th><th scope=col>woj</th><th scope=col>zawod_kod2</th><th scope=col>wolne_miejsca_cbop</th><th scope=col>jedna_zmiana</th><th scope=col>rho1</th><th scope=col>rho2</th><th scope=col>w1</th><th scope=col>w2</th></tr>\n",
              "\t<tr><th></th><th scope=col>&lt;int&gt;</th><th scope=col>&lt;int&gt;</th><th scope=col>&lt;chr&gt;</th><th scope=col>&lt;fct&gt;</th><th scope=col>&lt;chr&gt;</th><th scope=col>&lt;chr&gt;</th><th scope=col>&lt;fct&gt;</th><th scope=col>&lt;fct&gt;</th><th scope=col>&lt;int&gt;</th><th scope=col>&lt;lgl&gt;</th><th scope=col>&lt;dbl&gt;</th><th scope=col>&lt;dbl&gt;</th><th scope=col>&lt;dbl&gt;</th><th scope=col>&lt;dbl&gt;</th></tr>\n",
              "</thead>\n",
              "<tbody>\n",
              "\t<tr><th scope=row>1</th><td>NA</td><td>1</td><td>03950533c4990dd3e6b80312d98d7bf7877d6cdc</td><td>1</td><td>D</td><td>P</td><td>22</td><td>2</td><td>1</td><td> TRUE</td><td>0.01638184</td><td>0.02006381</td><td>61.04321</td><td>49.840990</td></tr>\n",
              "\t<tr><th scope=row>2</th><td>NA</td><td>1</td><td>fc1e0932170f7ec7da987a060bfb7ab01a928b3f</td><td>1</td><td>D</td><td>P</td><td>14</td><td>9</td><td>2</td><td> TRUE</td><td>0.09852425</td><td>0.10523109</td><td>10.14979</td><td> 9.502895</td></tr>\n",
              "\t<tr><th scope=row>3</th><td>NA</td><td>1</td><td>ec812df7c443d9681645795c35687241418466ea</td><td>1</td><td>D</td><td>P</td><td>12</td><td>5</td><td>3</td><td>FALSE</td><td>0.04992116</td><td>0.05915892</td><td>20.03159</td><td>16.903621</td></tr>\n",
              "\t<tr><th scope=row>4</th><td>NA</td><td>1</td><td>ec812df7c443d9681645795c35687241418466ea</td><td>1</td><td>D</td><td>P</td><td>12</td><td>9</td><td>4</td><td> TRUE</td><td>0.06176530</td><td>0.07366137</td><td>16.19032</td><td>13.575637</td></tr>\n",
              "\t<tr><th scope=row>5</th><td>NA</td><td>1</td><td>f59016808a975f0f45ab571899d50d4931cebaeb</td><td>1</td><td>D</td><td>P</td><td>24</td><td>2</td><td>2</td><td> TRUE</td><td>0.02531540</td><td>0.03077294</td><td>39.50164</td><td>32.496079</td></tr>\n",
              "\t<tr><th scope=row>6</th><td>NA</td><td>1</td><td>76f26af4360f38e53850ea0628131fd7a8c51a82</td><td>1</td><td>D</td><td>P</td><td>4 </td><td>2</td><td>1</td><td> TRUE</td><td>0.02616224</td><td>0.03027070</td><td>38.22303</td><td>33.035240</td></tr>\n",
              "</tbody>\n",
              "</table>\n"
            ]
          },
          "metadata": {
            "tags": []
          }
        }
      ]
    },
    {
      "cell_type": "markdown",
      "metadata": {
        "id": "3hwYNx6TNGKg"
      },
      "source": [
        "Przyjrzyjmy się rozkładowi utworzonych wag"
      ]
    },
    {
      "cell_type": "code",
      "metadata": {
        "colab": {
          "base_uri": "https://localhost:8080/",
          "height": 86
        },
        "id": "EaeEzeDcNBwP",
        "outputId": "83bb6fac-9f8c-42b6-c949-ee03f9df19e0"
      },
      "source": [
        "summary(proba_nielos$w1)\n",
        "summary(proba_nielos$w2)"
      ],
      "execution_count": 25,
      "outputs": [
        {
          "output_type": "display_data",
          "data": {
            "text/plain": [
              "   Min. 1st Qu.  Median    Mean 3rd Qu.    Max. \n",
              "   1.21   16.56   42.11   83.43   94.50 3700.60 "
            ]
          },
          "metadata": {
            "tags": []
          }
        },
        {
          "output_type": "display_data",
          "data": {
            "text/plain": [
              "     Min.   1st Qu.    Median      Mean   3rd Qu.      Max. \n",
              "    1.367    14.890    41.076   109.612    99.400 16816.976 "
            ]
          },
          "metadata": {
            "tags": []
          }
        }
      ]
    },
    {
      "cell_type": "code",
      "metadata": {
        "colab": {
          "base_uri": "https://localhost:8080/",
          "height": 437
        },
        "id": "zzF-fFSLNNqy",
        "outputId": "8b8a5c91-0b6b-4cfe-9fea-1d75861edf85"
      },
      "source": [
        "hist(x = proba_nielos$w1, xlab = \"w1 (model1)\", breaks = \"fd\", main = \"Rozkład w1 (model1)\")"
      ],
      "execution_count": 26,
      "outputs": [
        {
          "output_type": "display_data",
          "data": {
            "image/png": "[encoded data removed]",
            "text/plain": [
              "Plot with title “Rozkład w1 (model1)”"
            ]
          },
          "metadata": {
            "tags": [],
            "image/png": {
              "width": 420,
              "height": 420
            }
          }
        }
      ]
    },
    {
      "cell_type": "markdown",
      "metadata": {
        "id": "LOqgsHz3NiS9"
      },
      "source": [
        "Czy mamy sytuację, że mamy dużą wagę i dużą liczbę wolnych miejsc pracy?"
      ]
    },
    {
      "cell_type": "code",
      "metadata": {
        "colab": {
          "base_uri": "https://localhost:8080/",
          "height": 437
        },
        "id": "2WaOAwHXNW6A",
        "outputId": "9b8aaba8-d7b2-432a-f810-304827fa6086"
      },
      "source": [
        "plot(x = proba_nielos$wolne_miejsca_cbop, y = proba_nielos$w1, \n",
        "     xlab = \"Wolne miejsca (CBOP)\", ylab = \"w1 (model1)\")"
      ],
      "execution_count": 27,
      "outputs": [
        {
          "output_type": "display_data",
          "data": {
            "image/png": "[encoded data removed]",
            "text/plain": [
              "plot without title"
            ]
          },
          "metadata": {
            "tags": [],
            "image/png": {
              "width": 420,
              "height": 420
            }
          }
        }
      ]
    },
    {
      "cell_type": "markdown",
      "metadata": {
        "id": "QmsRTdAwHB6T"
      },
      "source": [
        "## Krok 6 -- estymacja (bez wariancji)"
      ]
    },
    {
      "cell_type": "markdown",
      "metadata": {
        "id": "CSEKYkWmJQlx"
      },
      "source": [
        "Naszym celem jest oszacowanie odsetka badanej cechy (y = 1 gdy na jedną zmianę, 0 w przeciwnym wypadku.\n",
        "\n",
        "$$\n",
        "\\hat{\\theta}_{PS} = \\frac{\\sum_{i \\in CBOP} y_i w_{i}}{\\sum_{i \\in CBOP} w_{i}}\n",
        "$$\n",
        "\n",
        "Jednak w naszym zbiorze mamy też zmienna informującą o liczbie wolnych miejsc pracy (to jest tylko zmienna określająca częstość żeby nie mieć zbyt dużego zbioru danych). Dlatego zastosujemy następujący estymator\n",
        "\n",
        "$$\n",
        "\\hat{\\theta}_{PS} = \\frac{\\sum_{i \\in CBOP} y_i w_{i}f_i}{\\sum_{i \\in CBOP} w_{i}f_i},\n",
        "$$\n",
        "\n",
        "gdzie $f_i$ to zmienna określająca częstość.\n",
        "\n",
        "W R możemy w tym celu zastosować funkcję `weighted.mean`.\n"
      ]
    },
    {
      "cell_type": "code",
      "metadata": {
        "colab": {
          "base_uri": "https://localhost:8080/",
          "height": 125
        },
        "id": "oSOu7G0qHEKx",
        "outputId": "c3e12429-1be0-4e33-83fd-67d8eda84c88"
      },
      "source": [
        "proba_nielos %>%\n",
        "  summarise(jedna_zmiana_naive  = weighted.mean(jedna_zmiana,    wolne_miejsca_cbop), \n",
        "            jedna_zmiana_model1 = weighted.mean(jedna_zmiana, w1*wolne_miejsca_cbop),\n",
        "            jedna_zmiana_model2 = weighted.mean(jedna_zmiana, w2*wolne_miejsca_cbop))"
      ],
      "execution_count": 28,
      "outputs": [
        {
          "output_type": "display_data",
          "data": {
            "text/plain": [
              "  jedna_zmiana_naive jedna_zmiana_model1 jedna_zmiana_model2\n",
              "1 0.5204615          0.7562009           0.7887356          "
            ],
            "text/latex": "A data.frame: 1 × 3\n\\begin{tabular}{lll}\n jedna\\_zmiana\\_naive & jedna\\_zmiana\\_model1 & jedna\\_zmiana\\_model2\\\\\n <dbl> & <dbl> & <dbl>\\\\\n\\hline\n\t 0.5204615 & 0.7562009 & 0.7887356\\\\\n\\end{tabular}\n",
            "text/markdown": "\nA data.frame: 1 × 3\n\n| jedna_zmiana_naive &lt;dbl&gt; | jedna_zmiana_model1 &lt;dbl&gt; | jedna_zmiana_model2 &lt;dbl&gt; |\n|---|---|---|\n| 0.5204615 | 0.7562009 | 0.7887356 |\n\n",
            "text/html": [
              "<table class=\"dataframe\">\n",
              "<caption>A data.frame: 1 × 3</caption>\n",
              "<thead>\n",
              "\t<tr><th scope=col>jedna_zmiana_naive</th><th scope=col>jedna_zmiana_model1</th><th scope=col>jedna_zmiana_model2</th></tr>\n",
              "\t<tr><th scope=col>&lt;dbl&gt;</th><th scope=col>&lt;dbl&gt;</th><th scope=col>&lt;dbl&gt;</th></tr>\n",
              "</thead>\n",
              "<tbody>\n",
              "\t<tr><td>0.5204615</td><td>0.7562009</td><td>0.7887356</td></tr>\n",
              "</tbody>\n",
              "</table>\n"
            ]
          },
          "metadata": {
            "tags": []
          }
        }
      ]
    },
    {
      "cell_type": "markdown",
      "metadata": {
        "id": "F0JH5s5yHsEQ"
      },
      "source": [
        "Dla porównania z poprzednich zajęć:\n",
        "\n",
        "+ Po uwzględnieniu kalibracji ten odsetek wynosił 53% (sek, zawod)\n",
        "+ Po uwzględnieniu kalibracji ten odsetek wynosił 62% (sek, zawod, + wielkość)"
      ]
    }
  ]
}